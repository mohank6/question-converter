{
 "cells": [
  {
   "cell_type": "code",
   "execution_count": 38,
   "metadata": {},
   "outputs": [],
   "source": [
    "from concurrent.futures import ThreadPoolExecutor\n",
    "import json\n",
    "import os\n",
    "from openai import OpenAI\n",
    "import logging\n",
    "from time import perf_counter, sleep\n",
    "import re\n",
    "from threading import RLock\n",
    "from dotenv import load_dotenv\n",
    "\n",
    "load_dotenv()\n",
    "\n",
    "log_format = '[ %(levelname)s] [%(asctime)s] [%(module)s] [%(lineno)s] [%(message)s]'\n",
    "logging.basicConfig(level=logging.DEBUG, format=log_format)\n",
    "\n",
    "file_handler = logging.FileHandler('logfile.log')\n",
    "file_handler.setLevel(logging.DEBUG)\n",
    "\n",
    "formatter = logging.Formatter(log_format)\n",
    "file_handler.setFormatter(formatter)\n",
    "\n",
    "log = logging.getLogger()\n",
    "log.addHandler(file_handler)\n",
    "\n",
    "lock = RLock()\n",
    "converted_qno = set()\n",
    "failed_qno = []\n",
    "reponse_data = []\n",
    "\n"
   ]
  },
  {
   "cell_type": "code",
   "execution_count": 39,
   "metadata": {},
   "outputs": [],
   "source": [
    "\n",
    "SYSTEM_PROMPT = \"\"\"\n",
    "**You are a UPSC prelims question expert specializing in converting English MCQs to Hindi.**\n",
    "\n",
    "**Given a question in English (statement) and a hint, convert it to Hindi (statement) suitable for the UPSC prelims exam, maintaining technical accuracy and UPSC context.**\n",
    "\n",
    "**Input (JSON):**\n",
    "\n",
    "* `statement`: Question statement with options in English.\n",
    "* `hint`: Hint for the question in English.\n",
    "    \n",
    "**Output (JSON):**\n",
    "\n",
    "* `statement`: Converted question statement with options in Hindi.\n",
    "* `hint`: Hint for the question in Hindi.\n",
    "\n",
    "**Example::1**\n",
    "\n",
    "* Example Input::1\n",
    "    \"statement\": \"Consider following statements regarding the representation of States in the Parliament: 1. Delimitation of Constituencies is undertaken on the basis of census exercise to ensure that every State is represented in proportion to its population in both the Houses of Parliament. 2. Delimitation Commission is a constitutional body, the notification of whose orders cannot be challenged in a Court. 3. Territorial constituencies in States, at present, are based on the data of 2001 census, as the Constitution (87thAmendment) Act, 2003 enabled the delimitation exercise on the basis of 2001Census figures. 4. As it stands today, Constitution of India prohibits any delimitation exercise till 2031. Which of the statements given above are not correct ? (A) 1, 2 and 4only (B) 2, 3 and 4only (C) 1, 3 and 4only (D) 1, 2, 3 and 4\"\n",
    "    \"hint\": \"Delimitation constituencies are NOT applicable to representation of states in Council of States. Though it is correct to say the Order of delimitation commission, once notified, cannot be challenged in any Court, Delimitation commission is NOT a constitutional body but a statutory body. The Constitution has prohibited the revision of representation of States in the Lok Sabha till 2026, but not the delimitation of the Lok Sabha and Assembly constituencies...\"\n",
    "\n",
    "* Example Output::1\n",
    "    \"statement\": \"संसद में राज्यों के प्रतिनिधित्व का प्रस्तावना से संबंधित निम्नलिखित कथनों को विचार करें: 1. निर्वाचनी सीमाओं का निर्धारण जनगणना अभ्यास के आधार पर किया जाता है ताकि सुनिश्चित किया जा सके कि प्रत्येक राज्य को संसद के दोनों सदनों में उसकी जनसंख्या के अनुपात में प्रतिनिधित्व मिले। 2. निर्वाचन सीमा आयोग एक संवैधानिक निकाय है, जिसके आदेशों की अधिसूचना को किसी भी न्यायालय में चुनौती नहीं की जा सकती है। 3. राज्यों में क्षेत्रीय निर्वाचनी सीमाएँ, वर्तमान में, 2001 की जनगणना के आंकड़ों पर आधारित हैं, क्योंकि संविधान (87वां संशोधन) अधिनियम, 2003 ने 2001 की जनगणना के आंकड़ों पर आधारित निर्वाचन का अभ्यास संभव बनाया। 4. जैसा कि आज है, भारतीय संविधान किसी भी निर्वाचन अभ्यास का कोई अभ्यस्त नहीं करता है जब तक 2031 तक। उपर्युक्त कथनों में से कौन सही नहीं है? (A) 1, 2 और 4 (B) केवल 2, 3 और 4 (C) केवल 1, 3 और 4 केवल (D) 1, 2, 3 और 4\"\n",
    "    \"hint\": \"निर्वाचन सीमाएँ संसद के सदन मे प्रतिनिधित्व के लिए लागू नहीं हैं। यह सही है कि एक बार घोषित किए गए निर्वाचन आयोग के आदेश को किसी भी न्यायालय में चुनौती नहीं की जा सकती है, लेकिन निर्वाचन आयोग संवैधानिक निकाय नहीं है बल्कि एक वैधानिक निकाय है। संविधान ने राज्यों के प्रतिनिधित्व की संशोधन की प्रतिनिधित्व को 2026 तक रोका है, लेकिन संविधान में स्पष्ट नहीं किया है कि संविधान और विधानसभा क्षेत्रों की नियमन (delimitation) नहीं कर सकते हैं।..\"\n",
    "    \n",
    "\n",
    "**IMPORTANT INFORMATION**\n",
    "* Choices must be (A),(B),(C),(D) in capital letter form\n",
    "* DONOT change the base statement format. The number of options should remain the same in the converted statement.\n",
    "* DONOT forget to translate choices from end of each input `statement` to reponse `statement`.\n",
    "* DONOT translate numbers\n",
    "\"\"\"\n",
    "# **Example::2**\n",
    "\n",
    "# * Example Input::2\n",
    "#     \"statement\": \"Which of the following statements is/are true about the Gram Sabha? 1. All people living in a village or a group of villages are members of the Gram Sabha. 2. All the plans for work of Gram Panchayat have to be approved by Gram Sabha. 3. For better implementation of some specific tasks, Gram Sabha form committees. 4. The elected Secretary of the Gram Sabha calls the meeting and keeps a record of the proceedings. (A) 2 and 3 (B) 1, 3 and 4 (C) 2, 3 and 4 (D) 1,2,3,4\"\n",
    "#     \"hint\": \"Only adult villagers who have the right to vote can be member of Gram Sabha. Persons below 18 years of age can't become members. Gram Sabha plays a supervisory and monitoring role over Gram Panchayat by approving it plan of work. Gram Sabha form committees like construction, animal husbandry, etc to carry out some specific tasks. The Gram Panchayat has a Secretary who is also the Secretary of the Gram Sabha. This person is not an elected person but is appointed by the government. The Secretary is responsible for calling the meeting of the Gram Sabha and Gram Panchayat and keeping a record of the proceedings.\"\n",
    "\n",
    "# * Example Output::2\n",
    "#     \"statement\": \"निम्नलिखित में से कौन से कथन ग्राम सभा के बारे में सही हैं? 1. ग्राम सभा के सभी लोग एक गाँव या एक समूह के गाँवों के सदस्य हैं। 2. ग्राम पंचायत के काम की सभी योजनाएँ ग्राम सभा द्वारा मंजूर करनी हैं। 3. कुछ विशिष्ट कार्यों के बेहतर कार्यान्वयन के लिए, ग्राम सभा समितियाँ बनाती है। 4. ग्राम सभा का चुनावित सचिव सभा को बुलाता है और कार्यवाहियों का रिकॉर्ड रखता है। (A) 2 और 3 (B) 1, 3 और 4 (C) 2, 3 और 4 (D) 1,2,3,4\",\n",
    "#     \"hint\": \"केवल मतदान करने का अधिकार वाले वयस्क ग्रामीण ग्राम सभा के सदस्य बन सकते हैं। 18 वर्ष से कम उम्र के व्यक्ति सदस्य नहीं बन सकते। ग्राम सभा ग्राम पंचायत की काम की योजना को मंजूरी देकर एक पर्यवेक्षक और निगरानी भूमिका निभाती है। ग्राम सभा निर्माण, पशुपालन आदि जैसी समूचे कुछ विशिष्ट कार्यों को संभालने के लिए समितियाँ बनाती है। ग्राम पंचायत के पास एक सचिव होता है जो ग्राम सभा का भी सचिव होता है। यह व्यक्ति चुना नहीं जाता है, बल्कि सरकार द्वारा नियुक्त होता है। सचिव को ग्राम सभा और ग्राम पंचायत की मीटिंग बुलाने और प्रक्रियाओं का रिकॉर्ड रखने का जिम्मेदारी होती है।\"\n"
   ]
  },
  {
   "cell_type": "code",
   "execution_count": 40,
   "metadata": {},
   "outputs": [],
   "source": [
    "def clean_text(text, clean=True):\n",
    "    if not clean:\n",
    "        return re.sub(r'\\s+', ' ', text.strip())\n",
    "        # return text.strip()\n",
    "    # return re.sub(r'\\s+', ' ', text.replace(\"\\\\n\", \" \").replace(\"\", \" \").replace(\"'\", \"\").replace('\"', \"'\").strip())\n",
    "    return re.sub(r'\\s+', ' ', text.replace(\"\\\\n\", \" \").replace(\"\", \" \").replace(\"'\",\"\").replace('\"', \"'\").strip())\n"
   ]
  },
  {
   "cell_type": "code",
   "execution_count": 41,
   "metadata": {},
   "outputs": [],
   "source": [
    "def get_data():\n",
    "    input_data = []\n",
    "    input_data_dict = {}\n",
    "    qno = []\n",
    "    with open('data.json', 'r') as fp:\n",
    "        json_data = json.load(fp)\n",
    "    for key, item in json_data.items():\n",
    "        statement = clean_text(item['statement'])\n",
    "        hint = clean_text(item['hint'])\n",
    "        qno = item[\"Qno\"]\n",
    "        temp = {'statement': statement, 'hint': hint, \"Qno\": qno}\n",
    "        input_data.append(temp)\n",
    "        input_data_dict[key] = temp\n",
    "    log.info(f\"Input data: {len(input_data)}\")\n",
    "    # save_input_data(input_data_dict)\n",
    "    return input_data\n"
   ]
  },
  {
   "cell_type": "code",
   "execution_count": 42,
   "metadata": {},
   "outputs": [],
   "source": [
    "def convert_question(input_data, OPENAI_KEY):\n",
    "    qno = input_data.pop(\"Qno\")\n",
    "    try:\n",
    "        USER_PROMPT = str(input_data)\n",
    "        data = OpenAI.generate_completion(SYSTEM_PROMPT, USER_PROMPT, OPENAI_KEY)\n",
    "        if not data:\n",
    "            raise Exception('Opena ai didnot respond')\n",
    "        data[\"Qno\"] = qno\n",
    "        converted_qno.append(qno)\n",
    "        reponse_data.append(data)\n",
    "        # with lock:\n",
    "            # save_data(reponse_data)\n",
    "\n",
    "    except Exception as e:\n",
    "        log.error(str(e))\n",
    "        # with lock:\n",
    "        failed_qno.append(qno)"
   ]
  },
  {
   "cell_type": "code",
   "execution_count": 43,
   "metadata": {},
   "outputs": [],
   "source": [
    "def get_converted_questions():\n",
    "    question_path = 'converted/questions_1.json'\n",
    "    if os.path.exists(question_path):\n",
    "        with open(question_path, 'r') as fp:\n",
    "            file_data_q = json.load(fp)\n",
    "        log.info(f'From questions.json: {len(file_data_q)}')\n",
    "        \n",
    "\n",
    "    no_path = 'converted/no.json'\n",
    "    if os.path.exists(no_path):\n",
    "        with open(no_path, 'r') as fp:\n",
    "            file_data = json.load(fp)\n",
    "            log.info(f'From no.json: {len(file_data)}')\n",
    "            # return [data['Qno'] for data in file_data_q]\n",
    "            return file_data\n",
    "\n",
    "    return []"
   ]
  },
  {
   "cell_type": "code",
   "execution_count": 44,
   "metadata": {},
   "outputs": [],
   "source": [
    "def save_data():\n",
    "    question_path = 'converted/questions_1.json'\n",
    "    try:\n",
    "        if os.path.exists(question_path):\n",
    "            with open(question_path, 'r') as fp:\n",
    "                file_data = json.load(fp)\n",
    "\n",
    "            with open(f'converted/questions_1_copy.json', 'w') as fp:\n",
    "                json.dump(file_data, fp, ensure_ascii=False)\n",
    "\n",
    "        log.info(f'Saving {len(reponse_data)} data')   \n",
    "        with open(question_path, 'w') as fp:\n",
    "            json.dump(reponse_data, fp, ensure_ascii=False)\n",
    "        return True\n",
    "\n",
    "    except Exception as e:\n",
    "        log.error(str(e))\n",
    "        return None"
   ]
  },
  {
   "cell_type": "code",
   "execution_count": 45,
   "metadata": {},
   "outputs": [
    {
     "name": "stderr",
     "output_type": "stream",
     "text": [
      "[ INFO] [2024-04-30 14:30:12,182] [1578096078] [14] [Input data: 1046]\n",
      "[ INFO] [2024-04-30 14:30:12,188] [3059462597] [6] [From questions.json: 1045]\n",
      "[ INFO] [2024-04-30 14:30:12,190] [3059462597] [13] [From no.json: 1045]\n",
      "[ INFO] [2024-04-30 14:30:12,191] [686195236] [13] [[0, 1, 10, 100, 1000, 1001, 1003, 1005, 1006, 1007, 1008, 1009, 101, 1010, 1011, 1012, 1013, 1014, 1015, 1016, 1017, 1018, 1019, 102, 1020, 1021, 1022, 1024, 1025, 1026, 1027, 1028, 1029, 103, 1030, 1031, 1032, 1033, 1034, 1035, 1036, 1037, 1038, 1039, 104, 1040, 1042, 1043, 1044, 1046, 1048, 1049, 105, 1050, 1051, 1052, 1053, 1054, 1055, 1056, 1057, 1059, 106, 1060, 1061, 1062, 1063, 1064, 1065, 1066, 1067, 1068, 1069, 107, 1070, 1071, 1072, 1073, 1075, 1076, 1077, 1078, 1079, 108, 1080, 1082, 1084, 1085, 1087, 1088, 1089, 109, 1090, 1091, 1092, 1093, 1094, 1095, 1096, 1097, 1098, 1099, 11, 110, 1100, 1101, 1102, 1103, 1104, 1105, 1107, 1108, 1109, 111, 1110, 1111, 1112, 1113, 1114, 1115, 1116, 1117, 1118, 1119, 1120, 1121, 1122, 1123, 1124, 1125, 1126, 1127, 1128, 1129, 113, 1130, 1132, 1133, 1134, 1135, 1136, 1137, 1138, 1139, 114, 1140, 1141, 1142, 1143, 1144, 1145, 1146, 1147, 1148, 1149, 115, 1151, 1152, 1154, 1155, 1156, 1157, 1158, 1159, 116, 1160, 1161, 1162, 1163, 1164, 1165, 1166, 1167, 1168, 1169, 117, 1170, 1171, 1172, 1173, 1174, 1175, 1176, 1177, 1178, 1179, 118, 1180, 1182, 1184, 1185, 1186, 1187, 1188, 1189, 1190, 1191, 1192, 1193, 1194, 1195, 1196, 1198, 1199, 12, 120, 1200, 1201, 1202, 1203, 1204, 1206, 1207, 1209, 121, 1210, 1211, 1212, 1213, 1214, 1215, 1216, 1217, 1218, 1219, 122, 1220, 1221, 1222, 1223, 1225, 1226, 1227, 1229, 123, 1230, 1233, 1234, 1235, 1236, 1237, 1240, 1241, 1242, 1243, 1244, 1245, 1246, 1247, 1249, 1250, 1253, 1255, 1256, 1257, 1258, 126, 1261, 1262, 1264, 1265, 1266, 1267, 1268, 1269, 127, 1271, 1272, 1273, 1275, 1278, 1279, 128, 1280, 1281, 1282, 1283, 1284, 1286, 1287, 1288, 1289, 129, 1290, 1291, 1292, 1293, 1294, 1295, 1296, 1297, 1298, 1299, 13, 130, 1300, 1301, 1302, 1304, 1305, 1306, 1307, 1308, 1309, 131, 1312, 1314, 1315, 1316, 1317, 1318, 1319, 132, 1320, 1321, 1322, 1323, 1324, 1325, 1326, 1327, 1328, 1329, 133, 1330, 1331, 1332, 1334, 1335, 1336, 1337, 1338, 1339, 134, 1340, 1341, 1342, 1343, 1344, 1345, 1346, 1347, 1348, 1349, 135, 1350, 1351, 1352, 1353, 1354, 1041, 1074, 1081, 1106, 1150, 1205, 1208, 1259, 1260, 1263, 1270, 1274, 1355, 1356, 1357, 1358, 1359, 136, 1360, 1361, 1362, 1363, 1364, 1365, 1366, 1367, 1368, 1369, 137, 1370, 1371, 1372, 1373, 1374, 1375, 1376, 1377, 1378, 1379, 138, 1380, 1381, 1382, 1383, 1384, 1385, 1386, 1387, 1388, 1389, 139, 1390, 1391, 1392, 1393, 1394, 1396, 1397, 1398, 1399, 14, 140, 1400, 1401, 1402, 1403, 1404, 1405, 1406, 1407, 1408, 1409, 141, 1410, 1411, 1412, 1413, 1414, 1415, 1416, 1417, 1418, 1419, 142, 1420, 1421, 1422, 1423, 1424, 1425, 1426, 1427, 1428, 1429, 143, 1430, 1432, 1433, 1434, 1435, 1436, 1437, 1438, 1439, 144, 1440, 1441, 1442, 1443, 1445, 1446, 1447, 1448, 1449, 145, 1450, 1451, 1452, 1453, 1454, 1455, 1456, 1457, 1458, 1459, 146, 1460, 1461, 1462, 1463, 1464, 1465, 1466, 1467, 1468, 1469, 147, 1470, 1471, 1472, 1473, 1474, 1475, 1476, 1477, 1478, 148, 1480, 1481, 1482, 1483, 1484, 1485, 1486, 1487, 1488, 1489, 149, 1490, 1491, 1492, 1494, 1495, 1497, 1498, 1499, 15, 150, 1500, 1501, 1502, 1503, 1504, 1505, 1506, 1507, 1508, 1509, 151, 1510, 1511, 1512, 1513, 1514, 1515, 1516, 1517, 1518, 1519, 152, 1520, 1521, 1522, 1523, 1524, 1525, 1527, 1528, 1529, 153, 1530, 1531, 1532, 1533, 1535, 1536, 1537, 1538, 1539, 154, 1540, 1541, 1543, 1544, 1545, 1546, 1547, 1548, 1549, 155, 1550, 1552, 1553, 1554, 1555, 1556, 1557, 1558, 1559, 156, 1560, 1561, 1562, 1563, 1564, 1565, 1567, 1568, 1569, 157, 1570, 1571, 1572, 1573, 1574, 1575, 1576, 1577, 1578, 1579, 158, 1580, 1581, 1582, 1583, 1584, 1585, 1586, 1587, 1588, 1589, 159, 1590, 1591, 1592, 1593, 1594, 1595, 1596, 1597, 1598, 1599, 16, 160, 1600, 1602, 1603, 1604, 1605, 1606, 1607, 1608, 1609, 161, 1610, 1611, 1612, 1613, 1614, 1615, 1616, 1617, 1619, 162, 1620, 1621, 1622, 1623, 1624, 1625, 1626, 1628, 1629, 163, 1630, 1631, 1632, 1633, 1635, 1636, 1637, 1638, 164, 1640, 1641, 1643, 1644, 1645, 124, 1395, 1431, 1534, 1551, 1601, 1634, 1639, 1642, 1646, 1648, 1649, 165, 1650, 1651, 1652, 1653, 1654, 1656, 1657, 1658, 1659, 166, 1660, 1661, 1662, 1663, 1664, 1665, 1666, 1667, 1668, 1669, 167, 1670, 1671, 1672, 1673, 1674, 1675, 1676, 1677, 1678, 1679, 168, 1680, 1681, 1682, 1685, 1686, 1687, 1688, 1689, 169, 1691, 1692, 1693, 1694, 1695, 1696, 1697, 1698, 1699, 17, 170, 1700, 1701, 1702, 1703, 1704, 1705, 1706, 1707, 1709, 171, 1710, 1711, 1712, 1714, 1715, 1716, 1718, 1719, 172, 1720, 1721, 1722, 1723, 1724, 1725, 1726, 1728, 1729, 1730, 1731, 1732, 1733, 1734, 1735, 1736, 1737, 1738, 1739, 174, 1740, 1741, 1743, 1745, 1746, 1747, 1748, 1749, 175, 1750, 1751, 1752, 1753, 1754, 1755, 1756, 1757, 1758, 1759, 176, 1760, 1761, 1763, 1764, 1765, 1766, 1767, 1769, 177, 1770, 1771, 1772, 1773, 1774, 1775, 1776, 1777, 1778, 178, 1780, 1781, 1782, 1783, 1784, 1785, 1786, 1787, 1788, 1789, 179, 1790, 1792, 1793, 1794, 1795, 1796, 1797, 1799, 18, 180, 1800, 1801, 1802, 1803, 1804, 1805, 1806, 1807, 1809, 181, 1810, 1811, 1812, 1813, 1814, 1815, 1816, 1817, 1818, 1819, 182, 1820, 1821, 1822, 1823, 1824, 1825, 1826, 1827, 1828, 1829, 183, 1830, 1832, 1833, 1834, 1835, 1836, 1837, 1838, 1839, 184, 1840, 1842, 1843, 1844, 1845, 1846, 1847, 1848, 1849, 185, 1850, 1851, 1852, 1853, 1854, 1856, 1857, 1858, 1859, 186, 1860, 1861, 1862, 1863, 1864, 1690, 1713, 1717, 1727, 173, 1742, 1768, 1841, 1855, 1866, 1867, 1868, 1869, 187, 1870, 1871, 1872, 1873, 1874, 1875, 1876, 1877, 1878, 1879, 188, 1880, 1881, 1882, 1883, 1884, 1885, 1886, 1887, 1888, 1889, 189, 1890, 1891, 1892, 1893, 1894, 1895, 1896, 1897, 1898, 1899, 19, 190, 1004, 1023, 1045, 1047, 1058, 112, 1131, 1153, 1181, 1183, 119, 1197, 1224, 1231, 1232, 1238, 1239, 1248, 125, 1251, 1252, 1254, 1276, 1277, 1285, 1303, 1310, 1311, 1333, 1444, 1479, 1496, 1647, 1708, 1762, 1779, 1798, 1900, 1901, 1902, 1903, 1904, 1905, 1906, 1907, 1908, 1909, 191, 1910, 1911, 1912, 1913, 1914, 1915, 1916, 1917, 1918, 1919, 192, 1920, 1921, 1922, 1923, 1924, 1925, 1926, 1927, 1928, 1929, 193, 1930, 1931, 1932, 1933, 1935, 1936, 1937, 1938, 1939, 1002, 1083, 1493, 1865, 1313, 1526, 1542, 1618, 1683, 1791, 1655, 1684, 1934, 1627, 1808, 1566, 1228, 1086, 1744]]\n",
      "[ INFO] [2024-04-30 14:30:12,192] [686195236] [14] [1045]\n"
     ]
    }
   ],
   "source": [
    "question_path = 'converted/questions_1.json'\n",
    "if os.path.exists(question_path):\n",
    "        with open(question_path, 'r') as fp:\n",
    "            file_data = json.load(fp)\n",
    "            reponse_data = file_data\n",
    "            \n",
    "input_data = get_data()\n",
    "converted_qno = get_converted_questions()\n",
    "OPENAI_KEY_1 = os.getenv('OPENAI_KEY_1')\n",
    "OPENAI_KEY_2 = os.getenv('OPENAI_KEY_2')\n",
    "OPENAI_KEY_3 = os.getenv('OPENAI_KEY_3')\n",
    "\n",
    "log.info(converted_qno)\n",
    "log.info(len(converted_qno))"
   ]
  },
  {
   "cell_type": "code",
   "execution_count": 36,
   "metadata": {},
   "outputs": [
    {
     "name": "stderr",
     "output_type": "stream",
     "text": [
      "[ INFO] [2024-04-30 14:29:05,896] [1564674312] [5] [Converting question 1744]\n",
      "[ INFO] [2024-04-30 14:29:05,898] [1564674312] [7] [{'statement': \"Consider the following statement about Pre 1857 Tribal revolts: 1. Most of these revolts were apparently local in spread and support base. The apparent factors were also local in character. 2. They were not sudden isolated events but were the result of years of exploitation. Most of these were a result of anguish against the new zamindars or moneylenders. 3. They were non-violent and backward looking in character. 4. They have also been labeled as 'restorative rebellions' as they were started by disaffected local rulers who were supported by the peasant via traditional caste, customs, ties and sought to reinstate the old order. Which of the following statement/s are correct? (A) 1,3 and 4 (B) All of the above (C) 1,2 and 4 (D) 2,3 and 4\", 'hint': 'They were violent, backward looking in character. The leaders sometimes claimed religious powers. They revolved around medieval social setup. Thus statement 3 is incorrect. Almost all revolts were violent in nature.', 'Qno': 1744}]\n",
      "[ INFO] [2024-04-30 14:29:05,899] [openai] [49] [Sending request to openai api.]\n",
      "[ DEBUG] [2024-04-30 14:29:05,901] [connectionpool] [1055] [Starting new HTTPS connection (1): api.openai.com:443]\n",
      "[ DEBUG] [2024-04-30 14:29:24,795] [connectionpool] [549] [https://api.openai.com:443 \"POST /v1/chat/completions HTTP/1.1\" 200 None]\n",
      "[ INFO] [2024-04-30 14:29:24,797] [openai] [57] [Total tokens: 2884 | Completion Tokens: 897]\n",
      "[ INFO] [2024-04-30 14:29:24,798] [openai] [72] [Request successfull.]\n",
      "[ INFO] [2024-04-30 14:29:24,819] [559051862] [11] [Saving 1045 data]\n",
      "[ INFO] [2024-04-30 14:29:24,836] [1564674312] [10] [Converted question 1744]\n",
      "[ INFO] [2024-04-30 14:29:24,837] [1564674312] [5] [Converting question 1831]\n",
      "[ INFO] [2024-04-30 14:29:24,838] [1564674312] [7] [{'statement': 'Match the List I (Wars) with List II (Treaties) and select the correct answer using the codes given below the lists: List I (Wars) 1. Second Carnatic War 2. Second Anglo-Mysore War 3. Third Anglo-Mysore War 4. First Anglo-Maratha War List II (Treaties) A. Salbai B. Bassein C. Pondicherry D. Srirangapatnam E. Mangalore (A) 1D –2 A – 3B – 4E (B) 1C – 2E – 3D – 4A (C) 1D – 2E – 3B – 4A (D) 1C – 2A – 3D – 4E', 'hint': 'Second Carnatic War (1749-1754) was fought between Nasir jung on one side, supported by the English, and on the other was Chanda Sahib and Muzaffar Jung, supported by French, vying to become the Nawab of Arcot. The war ended with the Treaty of Pondicherry, signed in 1754 which recognised Muhammad Ai khan walajah as the Nawab of Carnatic The second Anglo Mysore war was a conflict between the kingdom of Mysore and the British East India Company from 1780 to 1784. The war ended on 11 March 1784 with the signing of Treaty of Mangalore at which both sides agreed to restore the others lands. The treaty is an important document in the history of India, because it was the last occasion when an Indian power dictated terms to the Company Treaty of Seringapatam, ended Third Anglo Mysore War. Its signatories included Lord Cornwallis on behalf of the British East India Company, representatives of Nizam of Hyderabad and Tipu Sultan, the ruler of Mysore The Treaty of Salbai was signed on May 17 1782, by the representatives of the Maratha Empire and the British East India Company. The treaty resulted in a period of relative peace between the Maratha Empire and the British east India Company till the outbreak of second Anglo-Maratha war.', 'Qno': 1831}]\n",
      "[ INFO] [2024-04-30 14:29:24,839] [openai] [49] [Sending request to openai api.]\n",
      "[ DEBUG] [2024-04-30 14:29:24,840] [connectionpool] [1055] [Starting new HTTPS connection (1): api.openai.com:443]\n",
      "[ DEBUG] [2024-04-30 14:29:32,794] [connectionpool] [549] [https://api.openai.com:443 \"POST /v1/chat/completions HTTP/1.1\" 500 517]\n",
      "[ DEBUG] [2024-04-30 14:29:32,796] [openai] [53] [OpenAI api did not send 200 status code: 500]\n",
      "[ DEBUG] [2024-04-30 14:29:32,797] [openai] [54] [Response: {'message': 'Failed to create completion as the model generated invalid Unicode output. Unfortunately, this can happen in rare situations. Consider reviewing your prompt or reducing the temperature of your request. You can retry your request, or contact us through our help center at help.openai.com if the error persists. (Please include the request ID req_763427c84354f8290ab0cce1a67101af in your message.)', 'type': 'server_error', 'param': None, 'code': 'invalid_model_output'}]\n",
      "[ ERROR] [2024-04-30 14:29:32,799] [728153040] [15] [Opena ai didnot respond]\n",
      "[ INFO] [2024-04-30 14:29:32,820] [559051862] [11] [Saving 1045 data]\n",
      "[ INFO] [2024-04-30 14:29:32,836] [1564674312] [10] [Converted question 1831]\n"
     ]
    }
   ],
   "source": [
    "for data in input_data:\n",
    "    qno = data[\"Qno\"]\n",
    "    if qno in converted_qno:\n",
    "        continue\n",
    "    log.info(f'Converting question {qno}')\n",
    "    try:\n",
    "        log.info(data)\n",
    "        convert_question(data, OPENAI_KEY=OPENAI_KEY_2)\n",
    "        save_data()\n",
    "        log.info(f'Converted question {qno}')\n",
    "    except Exception as e:\n",
    "        log.error(str(e))\n",
    "        \n"
   ]
  },
  {
   "cell_type": "code",
   "execution_count": 37,
   "metadata": {},
   "outputs": [
    {
     "name": "stdout",
     "output_type": "stream",
     "text": [
      "1045\n"
     ]
    }
   ],
   "source": [
    "print(len(converted_qno))\n",
    "with open ('converted/no.json', 'w') as fp:\n",
    "    json.dump(converted_qno, fp)"
   ]
  },
  {
   "cell_type": "code",
   "execution_count": 12,
   "metadata": {},
   "outputs": [],
   "source": [
    "unique_elements = []\n",
    "seen_qnos = set()\n",
    "question_path = 'converted/questions_1.json'\n",
    "if os.path.exists(question_path):\n",
    "    with open(question_path, 'r') as fp:\n",
    "            file_data = json.load(fp)\n",
    "    \n",
    "for item in file_data:\n",
    "    if item['Qno'] not in seen_qnos:\n",
    "        unique_elements.append(item)\n",
    "        seen_qnos.add(item['Qno'])"
   ]
  },
  {
   "cell_type": "code",
   "execution_count": 13,
   "metadata": {},
   "outputs": [
    {
     "name": "stdout",
     "output_type": "stream",
     "text": [
      "1048\n",
      "1045\n"
     ]
    }
   ],
   "source": [
    "print(len(file_data))\n",
    "print(len(unique_elements))"
   ]
  },
  {
   "cell_type": "code",
   "execution_count": 14,
   "metadata": {},
   "outputs": [],
   "source": [
    "with open(question_path, 'w') as fp:\n",
    "        json.dump(unique_elements, fp, ensure_ascii=False)"
   ]
  },
  {
   "cell_type": "code",
   "execution_count": 11,
   "metadata": {},
   "outputs": [],
   "source": [
    "import re\n",
    "pattern = r'\\(A|a\\).*\\(B|b\\).*\\(C|c\\).*\\(D|d\\)'\n",
    "elements_without_options = []\n",
    "question_path = 'converted/questions_1.json'\n",
    "if os.path.exists(question_path):\n",
    "    with open(question_path, 'r') as fp:\n",
    "            file_data = json.load(fp)\n",
    "    \n",
    "for item in file_data:\n",
    "    if not re.search(pattern, item.get('statement')):\n",
    "        log.info(item[\"Qno\"])\n",
    "        elements_without_options.append(item)"
   ]
  },
  {
   "cell_type": "code",
   "execution_count": 16,
   "metadata": {},
   "outputs": [
    {
     "data": {
      "text/plain": [
       "1045"
      ]
     },
     "execution_count": 16,
     "metadata": {},
     "output_type": "execute_result"
    }
   ],
   "source": [
    "len(file_data)"
   ]
  },
  {
   "cell_type": "code",
   "execution_count": 17,
   "metadata": {},
   "outputs": [],
   "source": [
    "for element in elements_without_options:\n",
    "    file_data.remove(element)"
   ]
  },
  {
   "cell_type": "code",
   "execution_count": 18,
   "metadata": {},
   "outputs": [
    {
     "data": {
      "text/plain": [
       "1043"
      ]
     },
     "execution_count": 18,
     "metadata": {},
     "output_type": "execute_result"
    }
   ],
   "source": [
    "len(file_data)"
   ]
  },
  {
   "cell_type": "code",
   "execution_count": 19,
   "metadata": {},
   "outputs": [],
   "source": [
    "with open(question_path, 'w') as fp:\n",
    "        json.dump(file_data, fp, ensure_ascii=False)"
   ]
  },
  {
   "cell_type": "code",
   "execution_count": 9,
   "metadata": {},
   "outputs": [
    {
     "name": "stderr",
     "output_type": "stream",
     "text": [
      "[ INFO] [2024-04-30 14:25:25,890] [417288130] [5] [From questions.json: 1044]\n"
     ]
    }
   ],
   "source": [
    "question_path = 'converted/questions_1.json'\n",
    "if os.path.exists(question_path):\n",
    "    with open(question_path, 'r') as fp:\n",
    "        file_data_q = json.load(fp)\n",
    "    log.info(f'From questions.json: {len(file_data_q)}')\n",
    "    converted_no = [data['Qno'] for data in file_data_q]\n"
   ]
  },
  {
   "cell_type": "code",
   "execution_count": 10,
   "metadata": {},
   "outputs": [
    {
     "name": "stdout",
     "output_type": "stream",
     "text": [
      "1044\n"
     ]
    }
   ],
   "source": [
    "print(len(converted_no))\n",
    "with open ('converted/no.json', 'w') as fp:\n",
    "    json.dump(converted_no, fp)"
   ]
  },
  {
   "cell_type": "code",
   "execution_count": 46,
   "metadata": {},
   "outputs": [
    {
     "name": "stderr",
     "output_type": "stream",
     "text": [
      "[ INFO] [2024-04-30 14:30:19,994] [1578096078] [14] [Input data: 1046]\n"
     ]
    }
   ],
   "source": [
    "question_path = 'converted/questions_1.json'\n",
    "if os.path.exists(question_path):\n",
    "    with open(question_path, 'r') as fp:\n",
    "            file_data = json.load(fp)\n",
    "input_data = get_data()\n"
   ]
  },
  {
   "cell_type": "code",
   "execution_count": 47,
   "metadata": {},
   "outputs": [
    {
     "name": "stdout",
     "output_type": "stream",
     "text": [
      "1045\n",
      "1046\n"
     ]
    }
   ],
   "source": [
    "print(len(file_data))\n",
    "print(len(input_data))"
   ]
  },
  {
   "cell_type": "code",
   "execution_count": 50,
   "metadata": {},
   "outputs": [],
   "source": [
    "example_output =[]\n",
    "for data in file_data:\n",
    "    file_qno = data[\"Qno\"]\n",
    "    for i_data in input_data:\n",
    "        input_qno = i_data[\"Qno\"]\n",
    "        if file_qno == input_qno:\n",
    "            example_output.append([data, i_data])\n",
    "            break"
   ]
  },
  {
   "cell_type": "code",
   "execution_count": 52,
   "metadata": {},
   "outputs": [
    {
     "data": {
      "text/plain": [
       "[{'statement': 'वित्तीय स्थिरता बोर्ड (FSB) एक अंतरराष्ट्रीय संगठन है जो वैश्विक वित्तीय प्रणाली का मॉनिटरिंग करता है और सिफारिशें देता है। FSB की स्थापना किसके द्वारा की गई है (A) विश्व बैंक (B) आईएमएफ (C) विश्व आर्थिक मंच (D) जी 20',\n",
       "  'hint': 'वित्तीय स्थिरता बोर्ड (FSB) वित्तीय स्थिरता बोर्ड (FSB) एक अंतरराष्ट्रीय संगठन है जो वैश्विक वित्तीय प्रणाली का मॉनिटरिंग करता है और सिफारिशें देता है। इसकी स्थापना जी 20 लंदन सम्मेलन के बाद अप्रैल 2009 में की गई थी जैसा कि वित्तीय स्थिरता फोरम (FSF) का उत्तराधिकारी। बोर्ड में सभी जी 20 मुख्य अर्थव्यवस्थाएँ, एफएसएफ सदस्य और यूरोपीय आयोग शामिल हैं। अंतरराष्ट्रीय भुगतान संस्थान द्वारा मेजबानी और वित्त प्रदान की गई है, बोर्ड बेसल, स्विट्जरलैंड में स्थित है।',\n",
       "  'Qno': 1118},\n",
       " {'statement': 'The Financial Stability Board (FSB) is an international body that monitors and makes recommendations about the global financial system. FSB has been established by (A) World Bank (B) IMF (C) World Economic Forum (D) G 20',\n",
       "  'hint': 'Financial Stability Board (FSB) The Financial Stability Board (FSB) is an international body that monitors and makes recommendations about the global financial system. It was established after the G20 London summit in April 2009 as a successor to the Financial Stability Forum (FSF). The Board includes all G20 major economies, FSF members, and the European Commission. Hosted and funded by the Bank for International Settlements, the board is based in Basel, Switzerland.',\n",
       "  'Qno': 1118}]"
      ]
     },
     "execution_count": 52,
     "metadata": {},
     "output_type": "execute_result"
    }
   ],
   "source": [
    "example_output[122]"
   ]
  },
  {
   "cell_type": "code",
   "execution_count": 54,
   "metadata": {},
   "outputs": [],
   "source": [
    "with open ('file_1_example.json', 'w') as fp:\n",
    "    json.dump(example_output, fp, ensure_ascii=False)"
   ]
  },
  {
   "cell_type": "code",
   "execution_count": null,
   "metadata": {},
   "outputs": [],
   "source": []
  }
 ],
 "metadata": {
  "kernelspec": {
   "display_name": ".venv",
   "language": "python",
   "name": "python3"
  },
  "language_info": {
   "codemirror_mode": {
    "name": "ipython",
    "version": 3
   },
   "file_extension": ".py",
   "mimetype": "text/x-python",
   "name": "python",
   "nbconvert_exporter": "python",
   "pygments_lexer": "ipython3",
   "version": "3.10.12"
  }
 },
 "nbformat": 4,
 "nbformat_minor": 2
}

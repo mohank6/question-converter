{
 "cells": [
  {
   "cell_type": "code",
   "execution_count": 1,
   "metadata": {},
   "outputs": [],
   "source": [
    "import tiktoken"
   ]
  },
  {
   "cell_type": "code",
   "execution_count": 2,
   "metadata": {},
   "outputs": [],
   "source": [
    "encoding = tiktoken.get_encoding(\"cl100k_base\")"
   ]
  },
  {
   "cell_type": "code",
   "execution_count": 3,
   "metadata": {},
   "outputs": [],
   "source": [
    "encoding = tiktoken.encoding_for_model(\"gpt-4-turbo\")"
   ]
  },
  {
   "cell_type": "code",
   "execution_count": 4,
   "metadata": {},
   "outputs": [],
   "source": [
    "def num_tokens_from_string(string: str, encoding_name: str) -> int:\n",
    "    encoding = tiktoken.get_encoding(encoding_name)\n",
    "    num_tokens = len(encoding.encode(string))\n",
    "    return num_tokens"
   ]
  },
  {
   "cell_type": "code",
   "execution_count": 5,
   "metadata": {},
   "outputs": [],
   "source": [
    "import re\n",
    "\n",
    "def clean_text(text, clean=True):\n",
    "    if not clean:\n",
    "        return re.sub(r'\\s+', ' ',text.strip())\n",
    "        # return text.strip()\n",
    "    return re.sub(r'\\s+', ' ',text.replace(\"\\\\n\",\" \").replace(\"\", \" \").strip())"
   ]
  },
  {
   "cell_type": "code",
   "execution_count": 6,
   "metadata": {},
   "outputs": [],
   "source": [
    "import json\n",
    "input_data = []\n",
    "with open ('temp_data.json', 'r') as fp:\n",
    "    json_data = json.load(fp)\n",
    "for index, (key, item) in enumerate(json_data.items()):\n",
    "    statement = clean_text(item['statement'], True)\n",
    "    hint = clean_text(item['hint'], True)\n",
    "    temp = {'statement': statement, 'hint': hint}\n",
    "    input_data.append(temp)"
   ]
  },
  {
   "cell_type": "code",
   "execution_count": 24,
   "metadata": {},
   "outputs": [
    {
     "data": {
      "text/plain": [
       "4220"
      ]
     },
     "execution_count": 24,
     "metadata": {},
     "output_type": "execute_result"
    }
   ],
   "source": [
    "len(input_data)"
   ]
  },
  {
   "cell_type": "code",
   "execution_count": 8,
   "metadata": {},
   "outputs": [],
   "source": [
    "input_data_string = json.dumps(input_data)"
   ]
  },
  {
   "cell_type": "code",
   "execution_count": 9,
   "metadata": {},
   "outputs": [
    {
     "data": {
      "text/plain": [
       "1078208"
      ]
     },
     "execution_count": 9,
     "metadata": {},
     "output_type": "execute_result"
    }
   ],
   "source": [
    "num_tokens_from_string(input_data_string, \"cl100k_base\")"
   ]
  },
  {
   "cell_type": "code",
   "execution_count": 22,
   "metadata": {},
   "outputs": [],
   "source": [
    "hindi_example_output ={\n",
    "        \"statement\": \"संसद में राज्यों के प्रतिनिधित्व के संबंध में निम्नलिखित कथनों पर विचार करें: 1. निर्वाचन क्षेत्रों का परिसीमन जनगणना के आधार पर किया जाता है ताकि सुनिश्चित किया जा सके कि प्रत्येक राज्य का प्रतिनिधित्व संसद के दोनों सदनों में उसकी जनसंख्या के अनुपात में हो। 2. परिसीमन आयोग एक संवैधानिक निकाय है, जिसके आदेशों की अधिसूचना को अदालत में चुनौती नहीं दी जा सकती। 3. वर्तमान में, राज्यों में क्षेत्रीय निर्वाचन क्षेत्र 2001 की जनगणना के आधार पर आधारित हैं, क्योंकि संविधान (87वां संशोधन) अधिनियम, 2003 ने 2001 की जनगणना के आंकड़ों के आधार पर परिसीमन अभ्यास को सक्षम किया। 4. आज की स्थिति में, भारत का संविधान 2031 तक किसी भी परिसीमन अभ्यास को प्रतिबंधित करता है। ऊपर दिए गए कथनों में से कौन से सही नहीं हैं? (A) केवल 1, 2 और 4 (B) केवल 2, 3 और 4 (C) केवल 1, 3 और 4 (D) 1, 2, 3 और 4\",\n",
    "        \"hint\": \"परिसीमन निर्वाचन क्षेत्र राज्यों के परिषद में प्रतिनिधित्व के लिए लागू नहीं होते हैं। हालांकि यह सही है कि परिसीमन आयोग का आदेश, एक बार अधिसूचित होने के बाद, किसी भी अदालत में चुनौती नहीं दी जा सकती, परिसीमन आयोग एक संवैधानिक निकाय नहीं बल्कि एक वैधानिक निकाय है। संविधान ने लोकसभा में राज्यों के प्रतिनिधित्व की समीक्षा को 2026 तक प्रतिबंधित किया है, लेकिन लोकसभा और विधानसभा क्षेत्रों के परिसीमन को नहीं...\",\n",
    "    }"
   ]
  },
  {
   "cell_type": "code",
   "execution_count": 17,
   "metadata": {},
   "outputs": [],
   "source": [
    "hindi_example_output_string = json.dumps(hindi_example_output)"
   ]
  },
  {
   "cell_type": "code",
   "execution_count": 18,
   "metadata": {},
   "outputs": [
    {
     "data": {
      "text/plain": [
       "2945"
      ]
     },
     "execution_count": 18,
     "metadata": {},
     "output_type": "execute_result"
    }
   ],
   "source": [
    "num_tokens_from_string(hindi_example_output_string, \"cl100k_base\")"
   ]
  },
  {
   "cell_type": "code",
   "execution_count": 19,
   "metadata": {},
   "outputs": [],
   "source": [
    "english_example_input =         {\n",
    "            \"statement\": \"Consider following statements regarding the representation of States in the Parliament: 1. Delimitation of Constituencies is undertaken on the basis of census exercise to ensure that every State is represented in proportion to its population in both the Houses of Parliament. 2. Delimitation Commission is a constitutional body, the notification of whose orders cannot be challenged in a Court. 3. Territorial constituencies in States, at present, are based on the data of 2001 census, as the Constitution (87thAmendment) Act, 2003 enabled the delimitation exercise on the basis of 2001Census figures. 4. As it stands today, Constitution of India prohibits any delimitation exercise till 2031. Which of the statements given above are not correct ? (A) 1, 2 and 4only (B) 2, 3 and 4only (C) 1, 3 and 4only (D) 1, 2, 3 and 4\",\n",
    "            \"hint\": \"Delimitation constituencies are NOT applicable to representation of states in Council of States. Though it is correct to say the Order of delimitation commission, once notified, cannot be challenged in any Court, Delimitation commission is NOT a constitutional body but a statutory body. The Constitution has prohibited the revision of representation of States in the Lok Sabha till 2026, but not the delimitation of the Lok Sabha and Assembly constituencies...\"\n",
    "        }"
   ]
  },
  {
   "cell_type": "code",
   "execution_count": 20,
   "metadata": {},
   "outputs": [],
   "source": [
    "english_example_input_string = json.dumps(english_example_input)\n"
   ]
  },
  {
   "cell_type": "code",
   "execution_count": 21,
   "metadata": {},
   "outputs": [
    {
     "data": {
      "text/plain": [
       "310"
      ]
     },
     "execution_count": 21,
     "metadata": {},
     "output_type": "execute_result"
    }
   ],
   "source": [
    "num_tokens_from_string(english_example_input_string, \"cl100k_base\")\n"
   ]
  },
  {
   "cell_type": "code",
   "execution_count": null,
   "metadata": {},
   "outputs": [],
   "source": []
  }
 ],
 "metadata": {
  "kernelspec": {
   "display_name": ".venv",
   "language": "python",
   "name": "python3"
  },
  "language_info": {
   "codemirror_mode": {
    "name": "ipython",
    "version": 3
   },
   "file_extension": ".py",
   "mimetype": "text/x-python",
   "name": "python",
   "nbconvert_exporter": "python",
   "pygments_lexer": "ipython3",
   "version": "3.10.12"
  }
 },
 "nbformat": 4,
 "nbformat_minor": 2
}

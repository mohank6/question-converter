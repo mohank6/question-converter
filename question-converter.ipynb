{
 "cells": [
  {
   "cell_type": "code",
   "execution_count": 54,
   "metadata": {},
   "outputs": [],
   "source": [
    "from concurrent.futures import ThreadPoolExecutor\n",
    "import json\n",
    "import os\n",
    "from openai import OpenAI\n",
    "import logging\n",
    "from time import perf_counter, sleep\n",
    "import re\n",
    "from threading import RLock\n",
    "from dotenv import load_dotenv\n",
    "\n",
    "load_dotenv()\n",
    "\n",
    "log_format = '[ %(levelname)s] [%(asctime)s] [%(module)s] [%(lineno)s] [%(message)s]'\n",
    "logging.basicConfig(level=logging.DEBUG, format=log_format)\n",
    "\n",
    "file_handler = logging.FileHandler('logfile.log')\n",
    "file_handler.setLevel(logging.DEBUG)\n",
    "\n",
    "formatter = logging.Formatter(log_format)\n",
    "file_handler.setFormatter(formatter)\n",
    "\n",
    "log = logging.getLogger()\n",
    "log.addHandler(file_handler)\n",
    "\n",
    "lock = RLock()\n",
    "converted_qno = set()\n",
    "failed_qno = []\n",
    "reponse_data = []\n",
    "skip = []\n",
    "\n",
    "file_no =5\n",
    "example_output_path = f'converted/{file_no}/example_{file_no}.json'\n",
    "question_path = f'converted/{file_no}/questions_{file_no}.json'\n",
    "question_copy_path =f'converted/{file_no}/questions_{file_no}_copy.json'\n",
    "no_path = f'converted/{file_no}/no_{file_no}.json'\n",
    "skipped_path = f'converted/{file_no}/skipped.json'\n",
    "data_path = f'data/data_{file_no}.json'\n"
   ]
  },
  {
   "cell_type": "code",
   "execution_count": 55,
   "metadata": {},
   "outputs": [],
   "source": [
    "\n",
    "SYSTEM_PROMPT = \"\"\"\n",
    "**You are a UPSC prelims question expert specializing in converting English MCQs to Hindi.**\n",
    "\n",
    "**Given a question in English (statement) and a hint, convert it to Hindi (statement) suitable for the UPSC prelims exam, maintaining technical accuracy and UPSC context.**\n",
    "\n",
    "**Input (JSON):**\n",
    "\n",
    "* `statement`: Question statement with options in English.\n",
    "* `hint`: Hint for the question in English.\n",
    "    \n",
    "**Output (JSON):**\n",
    "\n",
    "* `statement`: Converted question statement in Hindi with options in English.\n",
    "* `hint`: Hint for the question in Hindi.\n",
    "\n",
    "**Example::1**\n",
    "\n",
    "* Example Input::1\n",
    "    \"statement\": \"Consider following statements regarding the representation of States in the Parliament: 1. Delimitation of Constituencies is undertaken on the basis of census exercise to ensure that every State is represented in proportion to its population in both the Houses of Parliament. 2. Delimitation Commission is a constitutional body, the notification of whose orders cannot be challenged in a Court. 3. Territorial constituencies in States, at present, are based on the data of 2001 census, as the Constitution (87thAmendment) Act, 2003 enabled the delimitation exercise on the basis of 2001Census figures. 4. As it stands today, Constitution of India prohibits any delimitation exercise till 2031. Which of the statements given above are not correct ? (A) 1, 2 and 4only (B) 2, 3 and 4only (C) 1, 3 and 4only (D) 1, 2, 3 and 4\"\n",
    "    \"hint\": \"Delimitation constituencies are NOT applicable to representation of states in Council of States. Though it is correct to say the Order of delimitation commission, once notified, cannot be challenged in any Court, Delimitation commission is NOT a constitutional body but a statutory body. The Constitution has prohibited the revision of representation of States in the Lok Sabha till 2026, but not the delimitation of the Lok Sabha and Assembly constituencies...\"\n",
    "\n",
    "* Example Output::1\n",
    "    \"statement\": \"संसद में राज्यों के प्रतिनिधित्व का प्रस्तावना से संबंधित निम्नलिखित कथनों को विचार करें: 1. निर्वाचनी सीमाओं का निर्धारण जनगणना अभ्यास के आधार पर किया जाता है ताकि सुनिश्चित किया जा सके कि प्रत्येक राज्य को संसद के दोनों सदनों में उसकी जनसंख्या के अनुपात में प्रतिनिधित्व मिले। 2. निर्वाचन सीमा आयोग एक संवैधानिक निकाय है, जिसके आदेशों की अधिसूचना को किसी भी न्यायालय में चुनौती नहीं की जा सकती है। 3. राज्यों में क्षेत्रीय निर्वाचनी सीमाएँ, वर्तमान में, 2001 की जनगणना के आंकड़ों पर आधारित हैं, क्योंकि संविधान (87वां संशोधन) अधिनियम, 2003 ने 2001 की जनगणना के आंकड़ों पर आधारित निर्वाचन का अभ्यास संभव बनाया। 4. जैसा कि आज है, भारतीय संविधान किसी भी निर्वाचन अभ्यास का कोई अभ्यस्त नहीं करता है जब तक 2031 तक। उपर्युक्त कथनों में से कौन सही नहीं है? (A) 1, 2 और 4 (B) केवल 2, 3 और 4 (C) केवल 1, 3 और 4 केवल (D) 1, 2, 3 और 4\"\n",
    "    \"hint\": \"निर्वाचन सीमाएँ संसद के सदन मे प्रतिनिधित्व के लिए लागू नहीं हैं। यह सही है कि एक बार घोषित किए गए निर्वाचन आयोग के आदेश को किसी भी न्यायालय में चुनौती नहीं की जा सकती है, लेकिन निर्वाचन आयोग संवैधानिक निकाय नहीं है बल्कि एक वैधानिक निकाय है। संविधान ने राज्यों के प्रतिनिधित्व की संशोधन की प्रतिनिधित्व को 2026 तक रोका है, लेकिन संविधान में स्पष्ट नहीं किया है कि संविधान और विधानसभा क्षेत्रों की नियमन (delimitation) नहीं कर सकते हैं।..\"\n",
    "    \n",
    "\n",
    "**IMPORTANT INFORMATION**\n",
    "* Choices must be (A),(B),(C),(D) in capital letter form\n",
    "* Choices must be in letters not numbers.\n",
    "* Choices must be in english langauge.\n",
    "* 1. 2. 3. 4. are not choices they are the part of statement.\n",
    "\n",
    "* DONOT change the base statement format. The number of options should remain the same in the converted statement.\n",
    "* DONOT forget to translate choices from end of each input `statement` to reponse `statement`.\n",
    "* DONOT translate numbers\n",
    "\"\"\"\n",
    "# **Example::2**\n",
    "\n",
    "# * Example Input::2\n",
    "#     \"statement\": \"Which of the following statements is/are true about the Gram Sabha? 1. All people living in a village or a group of villages are members of the Gram Sabha. 2. All the plans for work of Gram Panchayat have to be approved by Gram Sabha. 3. For better implementation of some specific tasks, Gram Sabha form committees. 4. The elected Secretary of the Gram Sabha calls the meeting and keeps a record of the proceedings. (A) 2 and 3 (B) 1, 3 and 4 (C) 2, 3 and 4 (D) 1,2,3,4\"\n",
    "#     \"hint\": \"Only adult villagers who have the right to vote can be member of Gram Sabha. Persons below 18 years of age can't become members. Gram Sabha plays a supervisory and monitoring role over Gram Panchayat by approving it plan of work. Gram Sabha form committees like construction, animal husbandry, etc to carry out some specific tasks. The Gram Panchayat has a Secretary who is also the Secretary of the Gram Sabha. This person is not an elected person but is appointed by the government. The Secretary is responsible for calling the meeting of the Gram Sabha and Gram Panchayat and keeping a record of the proceedings.\"\n",
    "\n",
    "# * Example Output::2\n",
    "#     \"statement\": \"निम्नलिखित में से कौन से कथन ग्राम सभा के बारे में सही हैं? 1. ग्राम सभा के सभी लोग एक गाँव या एक समूह के गाँवों के सदस्य हैं। 2. ग्राम पंचायत के काम की सभी योजनाएँ ग्राम सभा द्वारा मंजूर करनी हैं। 3. कुछ विशिष्ट कार्यों के बेहतर कार्यान्वयन के लिए, ग्राम सभा समितियाँ बनाती है। 4. ग्राम सभा का चुनावित सचिव सभा को बुलाता है और कार्यवाहियों का रिकॉर्ड रखता है। (A) 2 और 3 (B) 1, 3 और 4 (C) 2, 3 और 4 (D) 1,2,3,4\",\n",
    "#     \"hint\": \"केवल मतदान करने का अधिकार वाले वयस्क ग्रामीण ग्राम सभा के सदस्य बन सकते हैं। 18 वर्ष से कम उम्र के व्यक्ति सदस्य नहीं बन सकते। ग्राम सभा ग्राम पंचायत की काम की योजना को मंजूरी देकर एक पर्यवेक्षक और निगरानी भूमिका निभाती है। ग्राम सभा निर्माण, पशुपालन आदि जैसी समूचे कुछ विशिष्ट कार्यों को संभालने के लिए समितियाँ बनाती है। ग्राम पंचायत के पास एक सचिव होता है जो ग्राम सभा का भी सचिव होता है। यह व्यक्ति चुना नहीं जाता है, बल्कि सरकार द्वारा नियुक्त होता है। सचिव को ग्राम सभा और ग्राम पंचायत की मीटिंग बुलाने और प्रक्रियाओं का रिकॉर्ड रखने का जिम्मेदारी होती है।\"\n"
   ]
  },
  {
   "cell_type": "code",
   "execution_count": 56,
   "metadata": {},
   "outputs": [],
   "source": [
    "def save_converted_questions():\n",
    "    with open (no_path, 'w') as fp:\n",
    "        json.dump(converted_qno, fp)"
   ]
  },
  {
   "cell_type": "code",
   "execution_count": 57,
   "metadata": {},
   "outputs": [],
   "source": [
    "def clean_text(text, clean=True):\n",
    "    if not clean:\n",
    "        return re.sub(r'\\s+', ' ', text.strip())\n",
    "        # return text.strip()\n",
    "    # return re.sub(r'\\s+', ' ', text.replace(\"\\\\n\", \" \").replace(\"\", \" \").replace(\"'\", \"\").replace('\"', \"'\").strip())\n",
    "    return re.sub(r'\\s+', ' ', text.replace(\"\\\\n\", \" \").replace(\"\", \" \").replace(\"'\",\"\").replace('\"', \"'\").strip())\n"
   ]
  },
  {
   "cell_type": "code",
   "execution_count": 58,
   "metadata": {},
   "outputs": [],
   "source": [
    "def get_data():\n",
    "    input_data = []\n",
    "    input_data_dict = {}\n",
    "    qno = []\n",
    "    with open(data_path, 'r') as fp:\n",
    "        json_data = json.load(fp)\n",
    "    for key, item in json_data.items():\n",
    "        statement = clean_text(item['statement'])\n",
    "        hint = clean_text(item['hint'])\n",
    "        qno = item[\"Qno\"]\n",
    "        temp = {'statement': statement, 'hint': hint, \"Qno\": qno}\n",
    "        input_data.append(temp)\n",
    "        input_data_dict[key] = temp\n",
    "    log.info(f\"Input data: {len(input_data)}\")\n",
    "    return input_data\n"
   ]
  },
  {
   "cell_type": "code",
   "execution_count": 59,
   "metadata": {},
   "outputs": [],
   "source": [
    "def get_file_data():\n",
    "    if os.path.exists(question_path):\n",
    "        with open(question_path, 'r') as fp:\n",
    "            file_data = json.load(fp)\n",
    "            return file_data\n",
    "    return []"
   ]
  },
  {
   "cell_type": "code",
   "execution_count": 60,
   "metadata": {},
   "outputs": [],
   "source": [
    "def save_data():\n",
    "    try:\n",
    "        if os.path.exists(question_path):\n",
    "            with open(question_path, 'r') as fp:\n",
    "                file_data = json.load(fp)\n",
    "\n",
    "            with open(question_copy_path, 'w') as fp:\n",
    "                json.dump(file_data, fp, ensure_ascii=False)\n",
    "\n",
    "        log.info(f'Saving {len(reponse_data)} data')   \n",
    "        with open(question_path, 'w') as fp:\n",
    "            json.dump(reponse_data, fp, ensure_ascii=False)\n",
    "            \n",
    "            \n",
    "        return True\n",
    "\n",
    "    except Exception as e:\n",
    "        log.error(str(e))\n",
    "        return None"
   ]
  },
  {
   "cell_type": "code",
   "execution_count": 61,
   "metadata": {},
   "outputs": [],
   "source": [
    "def save_skip():\n",
    "    with open(skipped_path, 'w') as fp:\n",
    "        json.dump(skip, fp, ensure_ascii=False)"
   ]
  },
  {
   "cell_type": "code",
   "execution_count": 62,
   "metadata": {},
   "outputs": [],
   "source": [
    "def get_converted_questions_file():\n",
    "    if os.path.exists(question_path):\n",
    "        with open(question_path, 'r') as fp:\n",
    "            file_data_q = json.load(fp)\n",
    "        log.info(f'{question_path}: {len(file_data_q)}')\n",
    "        return [data['Qno'] for data in file_data_q]\n",
    "\n",
    "    return []"
   ]
  },
  {
   "cell_type": "code",
   "execution_count": 63,
   "metadata": {},
   "outputs": [],
   "source": [
    "def filter_unique_elements():\n",
    "    unique_elements = []\n",
    "    seen_qnos = set()\n",
    "    if not  os.path.exists(question_path):\n",
    "        log.error('Path doesnot exists')\n",
    "        return\n",
    "    with open(question_path, 'r') as fp:\n",
    "            file_data = json.load(fp)\n",
    "\n",
    "    for item in file_data:\n",
    "        if item['Qno'] not in seen_qnos:\n",
    "            unique_elements.append(item)\n",
    "            seen_qnos.add(item['Qno'])\n",
    "    log.info(f\"File data: {len(file_data)}\")\n",
    "    log.info(f\"Unique data: {len(unique_elements)}\")\n",
    "    if not len(file_data) > len(unique_elements):\n",
    "        log.info(\"No filter required\")\n",
    "        return\n",
    "    with open(question_path, 'w') as fp:\n",
    "            json.dump(file_data, fp, ensure_ascii=False)\n",
    "    with open(question_copy_path, 'w') as fp:\n",
    "            json.dump(file_data, fp, ensure_ascii=False)\n",
    "            \n",
    "    converted_qno = get_converted_questions_file()\n",
    "    save_converted_questions()"
   ]
  },
  {
   "cell_type": "code",
   "execution_count": 64,
   "metadata": {},
   "outputs": [],
   "source": [
    "def replace_match(match):\n",
    "    replacement_map = {\n",
    "    'ए': 'A',\n",
    "    'बी': 'B',\n",
    "    'सी': 'C',\n",
    "    'डी': 'D'\n",
    "}\n",
    "    # # Get the matched string\n",
    "    # matched_string = match.group(0)\n",
    "    # # Replace characters based on the replacement_map\n",
    "    # for hindi_char, eng_char in replacement_map.items():\n",
    "    #     matched_string = matched_string.replace(hindi_char, eng_char)\n",
    "    # return matched_string\n",
    "\n",
    "    matched_string = match.group(0)\n",
    "    return replacement_map.get(matched_string[0], matched_string[0]) + matched_string[1:]\n",
    "\n",
    "\n",
    "def replace_hindi_options():\n",
    "    pattern = r'ए\\).*बी\\).*सी\\).*डी\\)'\n",
    "    # pattern = r'(ए\\)|बी\\)|सी\\)|डी\\))'\n",
    "    if not  os.path.exists(question_path):\n",
    "        log.error('Path doesnot exists')\n",
    "        return\n",
    "    with open(question_path, 'r') as fp:\n",
    "        file_data = json.load(fp)\n",
    "    for item in file_data:\n",
    "        statement = item.get('statement')\n",
    "        if re.search(pattern, statement):\n",
    "            log.info(item['Qno'])\n",
    "            log.info(item['statement'])\n",
    "            new_statement = re.sub(pattern, replace_match, statement)\n",
    "            log.info(new_statement)\n",
    "            item['statement'] = new_statement\n",
    "            return\n"
   ]
  },
  {
   "cell_type": "code",
   "execution_count": 53,
   "metadata": {},
   "outputs": [
    {
     "name": "stderr",
     "output_type": "stream",
     "text": [
      "[ INFO] [2024-06-02 21:29:06,891] [3997974558] [30] [2820]\n",
      "[ INFO] [2024-06-02 21:29:06,892] [3997974558] [31] [निम्नलिखित कथनों को विचार करें: 1. भारत के जिलों में से 36% को केंद्रीय भूजल प्राधिकरण (सीजीडब्ल्यूए) द्वारा 'अत्यधिक उत्पादक' या 'महत्वपूर्ण' के रूप में वर्गीकृत किया गया है। 2. सीजीडब्ल्यूए को पर्यावरण (संरक्षण) अधिनियम के तहत बनाया गया था। 3. भारत में भूजल सिंचाई के तहत सबसे बड़ा क्षेत्र है। उपर्युक्त कथनों में से कौन सही है? (A) केवल 1 (B) केवल 2 और 3 (C) केवल 2 (D) केवल 1 और 3]\n",
      "[ INFO] [2024-06-02 21:29:06,893] [3997974558] [33] [निम्नलिखित कथनों को विचार करें: 1. भारत के जिलों में से 36% को केंद्रीय भूजल प्राधिकरण (सीजीडब्ल्यूA) द्वारा 'अत्यधिक उत्पादक' या 'महत्वपूर्ण' के रूप में वर्गीकृत किया गया है। 2. सीजीडब्ल्यूए को पर्यावरण (संरक्षण) अधिनियम के तहत बनाया गया था। 3. भारत में भूजल सिंचाई के तहत सबसे बड़ा क्षेत्र है। उपर्युक्त कथनों में से कौन सही है? (A) केवल 1 (B) केवल 2 और 3 (C) केवल 2 (D) केवल 1 और 3]\n"
     ]
    }
   ],
   "source": [
    "# replace_hindi_options()"
   ]
  },
  {
   "cell_type": "code",
   "execution_count": 74,
   "metadata": {},
   "outputs": [],
   "source": [
    "def filter_without_options(write=True):\n",
    "    # pattern = r'A|a|ए\\).*B|b|बी\\).*C|c|सी\\).*D|d|डी\\)'\n",
    "    pattern = r'A|a\\).*B|b\\).*C|c\\).*D|d\\)'\n",
    "    elements_without_options = []\n",
    "    if not  os.path.exists(question_path):\n",
    "        log.error('Path doesnot exists')\n",
    "        return\n",
    "    with open(question_path, 'r') as fp:\n",
    "            file_data = json.load(fp)\n",
    "        \n",
    "    for item in file_data:\n",
    "        if not re.search(pattern, item.get('statement')):\n",
    "            log.info(item[\"Qno\"])\n",
    "            elements_without_options.append(item)\n",
    "    if len(elements_without_options)==0:\n",
    "        log.info(\"No filter required\")\n",
    "        return\n",
    "          \n",
    "    for element in elements_without_options:\n",
    "        file_data.remove(element)\n",
    "\n",
    "    if not write:\n",
    "        return\n",
    "    with open(question_path, 'w') as fp:\n",
    "            json.dump(file_data, fp, ensure_ascii=False)\n",
    "    with open(question_copy_path, 'w') as fp:\n",
    "            json.dump(file_data, fp, ensure_ascii=False)\n",
    "            \n",
    "    converted_qno = get_converted_questions_file()\n",
    "    save_converted_questions()"
   ]
  },
  {
   "cell_type": "code",
   "execution_count": 75,
   "metadata": {},
   "outputs": [],
   "source": [
    "def get_converted_questions():\n",
    "    if os.path.exists(question_path):\n",
    "        with open(question_path, 'r') as fp:\n",
    "            file_data_q = json.load(fp)\n",
    "        log.info(f'From questions.json: {len(file_data_q)}')\n",
    "        \n",
    "\n",
    "    if os.path.exists(no_path):\n",
    "        with open(no_path, 'r') as fp:\n",
    "            file_data = json.load(fp)\n",
    "            log.info(f'From no.json: {len(file_data)}')\n",
    "            return file_data\n",
    "\n",
    "    return []"
   ]
  },
  {
   "cell_type": "code",
   "execution_count": 76,
   "metadata": {},
   "outputs": [],
   "source": [
    "def get_skipped_questions():\n",
    "    if os.path.exists(skipped_path):\n",
    "        with open(skipped_path, 'r') as fp:\n",
    "            file_data = json.load(fp)\n",
    "            return file_data\n",
    "    return []\n"
   ]
  },
  {
   "cell_type": "code",
   "execution_count": 77,
   "metadata": {},
   "outputs": [],
   "source": [
    "def get_rate_limit(message):\n",
    "    if not message: \n",
    "        return 1\n",
    "    duration_pattern = r'(\\d+)m(\\d+)s'\n",
    "    duration_match = re.search(duration_pattern, message)\n",
    "    if duration_match:\n",
    "        minutes = int(duration_match.group(1))\n",
    "        seconds = int(duration_match.group(2))\n",
    "        total_seconds = minutes * 60 + seconds\n",
    "        return total_seconds\n",
    "        \n",
    "    seconds_pattern = r'(\\d+)s'\n",
    "    seconds_match = re.search(seconds_pattern, message)\n",
    "    if seconds_match:\n",
    "        total_seconds = int(seconds_match.group(1))\n",
    "        return total_seconds\n",
    "    return 1\n",
    "    "
   ]
  },
  {
   "cell_type": "code",
   "execution_count": 78,
   "metadata": {},
   "outputs": [
    {
     "data": {
      "text/plain": [
       "20"
      ]
     },
     "execution_count": 78,
     "metadata": {},
     "output_type": "execute_result"
    }
   ],
   "source": [
    "get_rate_limit('Rate limit reached for gpt-3.5-turbo in organization org-HZolppxVjUPEvBYohG9NyuVw on requests per min (RPM): Limit 3, Used 3, Requested 1. Please try again in 20s. Visit https://platform.openai.com/account/rate-limits to learn more. You can increase your rate limit by adding a payment method to your account at https://platform.openai.com/account/billing.')"
   ]
  },
  {
   "cell_type": "code",
   "execution_count": 56,
   "metadata": {},
   "outputs": [],
   "source": [
    "rare_string = \"Unfortunately, this can happen in rare situations.\"\n",
    "def convert_question(input_data, OPENAI_KEY):\n",
    "    qno = input_data.pop(\"Qno\")\n",
    "    try:\n",
    "        USER_PROMPT = str(input_data)\n",
    "        data, error = OpenAI.generate_completion(SYSTEM_PROMPT, USER_PROMPT, OPENAI_KEY)\n",
    "        if not data and error:\n",
    "            message = error.get(\"message\", None)\n",
    "            log.info(message)\n",
    "            if error.get(\"code\", None) == \"rate_limit_exceeded\":\n",
    "                wait = get_rate_limit(error.get(\"message\",None))\n",
    "                log.debug(f\"Rate limit exceeded: Sleeping {wait} seconds\")\n",
    "                sleep(wait)\n",
    "            if rare_string in message:\n",
    "                skip.append(qno)\n",
    "            raise Exception('Opena ai didnot respond')\n",
    "\n",
    "        data[\"Qno\"] = qno\n",
    "        converted_qno.append(qno)\n",
    "        reponse_data.append(data)\n",
    "        return True\n",
    "        \n",
    "    except Exception as e:\n",
    "        log.error(str(e))\n",
    "        failed_qno.append(qno)\n",
    "        return False"
   ]
  },
  {
   "cell_type": "code",
   "execution_count": 57,
   "metadata": {},
   "outputs": [
    {
     "name": "stderr",
     "output_type": "stream",
     "text": [
      "[ INFO] [2024-06-02 21:18:52,020] [4169408832] [14] [Input data: 1106]\n",
      "[ INFO] [2024-06-02 21:18:52,027] [1120403275] [5] [From questions.json: 1093]\n",
      "[ INFO] [2024-06-02 21:18:52,028] [1120403275] [11] [From no.json: 1093]\n",
      "[ INFO] [2024-06-02 21:18:52,030] [2408676963] [12] [1093]\n",
      "[ INFO] [2024-06-02 21:18:52,031] [2408676963] [13] [8]\n",
      "[ INFO] [2024-06-02 21:18:52,031] [2408676963] [14] [sk-proj-rjfrXAgwzFn0rEINbWHCT3BlbkFJ3wUIFNG76tNqfqAs5Ubn]\n"
     ]
    }
   ],
   "source": [
    "reponse_data = get_file_data()\n",
    "input_data = get_data()\n",
    "converted_qno = get_converted_questions()\n",
    "skip = get_skipped_questions()\n",
    "OPENAI_KEY_1 = os.getenv('OPENAI_KEY_1')\n",
    "OPENAI_KEY_2 = os.getenv('OPENAI_KEY_2')\n",
    "OPENAI_KEY_3 = os.getenv('OPENAI_KEY_3')\n",
    "OPENAI_KEY_4 = os.getenv('OPENAI_KEY_4')\n",
    "OPENAI_KEY_5 = os.getenv('OPENAI_KEY_5')\n",
    "OPENAI_KEY_6 = os.getenv('OPENAI_KEY_6')\n",
    "\n",
    "log.info(len(converted_qno))\n",
    "log.info(len(skip))\n",
    "log.info(OPENAI_KEY_5)"
   ]
  },
  {
   "cell_type": "code",
   "execution_count": 19,
   "metadata": {},
   "outputs": [
    {
     "name": "stderr",
     "output_type": "stream",
     "text": [
      "[ INFO] [2024-06-01 14:29:09,710] [2960675146] [11] [Converting question 3891]\n",
      "[ INFO] [2024-06-01 14:29:09,711] [openai] [49] [Sending request to openai api.]\n",
      "[ DEBUG] [2024-06-01 14:29:09,713] [connectionpool] [1055] [Starting new HTTPS connection (1): api.openai.com:443]\n",
      "[ DEBUG] [2024-06-01 14:29:10,245] [connectionpool] [549] [https://api.openai.com:443 \"POST /v1/chat/completions HTTP/1.1\" 429 337]\n",
      "[ DEBUG] [2024-06-01 14:29:10,247] [openai] [53] [OpenAI api did not send 200 status code: 429]\n",
      "[ DEBUG] [2024-06-01 14:29:10,247] [openai] [54] [Response: {'message': 'You exceeded your current quota, please check your plan and billing details. For more information on this error, read the docs: https://platform.openai.com/docs/guides/error-codes/api-errors.', 'type': 'insufficient_quota', 'param': None, 'code': 'insufficient_quota'}]\n",
      "[ INFO] [2024-06-01 14:29:10,249] [4273307920] [9] [You exceeded your current quota, please check your plan and billing details. For more information on this error, read the docs: https://platform.openai.com/docs/guides/error-codes/api-errors.]\n",
      "[ ERROR] [2024-06-01 14:29:10,249] [4273307920] [24] [Opena ai didnot respond]\n",
      "[ ERROR] [2024-06-01 14:29:10,250] [2960675146] [16] [Conversion failed 3891]\n",
      "[ INFO] [2024-06-01 14:29:10,251] [2960675146] [11] [Converting question 3919]\n",
      "[ INFO] [2024-06-01 14:29:10,252] [openai] [49] [Sending request to openai api.]\n",
      "[ DEBUG] [2024-06-01 14:29:10,253] [connectionpool] [1055] [Starting new HTTPS connection (1): api.openai.com:443]\n",
      "[ DEBUG] [2024-06-01 14:29:10,625] [connectionpool] [549] [https://api.openai.com:443 \"POST /v1/chat/completions HTTP/1.1\" 429 337]\n",
      "[ DEBUG] [2024-06-01 14:29:10,627] [openai] [53] [OpenAI api did not send 200 status code: 429]\n",
      "[ DEBUG] [2024-06-01 14:29:10,627] [openai] [54] [Response: {'message': 'You exceeded your current quota, please check your plan and billing details. For more information on this error, read the docs: https://platform.openai.com/docs/guides/error-codes/api-errors.', 'type': 'insufficient_quota', 'param': None, 'code': 'insufficient_quota'}]\n",
      "[ INFO] [2024-06-01 14:29:10,629] [4273307920] [9] [You exceeded your current quota, please check your plan and billing details. For more information on this error, read the docs: https://platform.openai.com/docs/guides/error-codes/api-errors.]\n",
      "[ ERROR] [2024-06-01 14:29:10,629] [4273307920] [24] [Opena ai didnot respond]\n",
      "[ ERROR] [2024-06-01 14:29:10,630] [2960675146] [16] [Conversion failed 3919]\n",
      "[ INFO] [2024-06-01 14:29:10,631] [2960675146] [11] [Converting question 4075]\n",
      "[ INFO] [2024-06-01 14:29:10,631] [openai] [49] [Sending request to openai api.]\n",
      "[ DEBUG] [2024-06-01 14:29:10,632] [connectionpool] [1055] [Starting new HTTPS connection (1): api.openai.com:443]\n",
      "[ DEBUG] [2024-06-01 14:29:11,019] [connectionpool] [549] [https://api.openai.com:443 \"POST /v1/chat/completions HTTP/1.1\" 429 337]\n",
      "[ DEBUG] [2024-06-01 14:29:11,020] [openai] [53] [OpenAI api did not send 200 status code: 429]\n",
      "[ DEBUG] [2024-06-01 14:29:11,021] [openai] [54] [Response: {'message': 'You exceeded your current quota, please check your plan and billing details. For more information on this error, read the docs: https://platform.openai.com/docs/guides/error-codes/api-errors.', 'type': 'insufficient_quota', 'param': None, 'code': 'insufficient_quota'}]\n",
      "[ INFO] [2024-06-01 14:29:11,022] [4273307920] [9] [You exceeded your current quota, please check your plan and billing details. For more information on this error, read the docs: https://platform.openai.com/docs/guides/error-codes/api-errors.]\n",
      "[ ERROR] [2024-06-01 14:29:11,023] [4273307920] [24] [Opena ai didnot respond]\n",
      "[ ERROR] [2024-06-01 14:29:11,023] [2960675146] [16] [Conversion failed 4075]\n",
      "[ INFO] [2024-06-01 14:29:11,024] [2960675146] [11] [Converting question 4086]\n",
      "[ INFO] [2024-06-01 14:29:11,025] [openai] [49] [Sending request to openai api.]\n",
      "[ DEBUG] [2024-06-01 14:29:11,026] [connectionpool] [1055] [Starting new HTTPS connection (1): api.openai.com:443]\n",
      "[ DEBUG] [2024-06-01 14:29:11,411] [connectionpool] [549] [https://api.openai.com:443 \"POST /v1/chat/completions HTTP/1.1\" 429 337]\n",
      "[ DEBUG] [2024-06-01 14:29:11,412] [openai] [53] [OpenAI api did not send 200 status code: 429]\n",
      "[ DEBUG] [2024-06-01 14:29:11,413] [openai] [54] [Response: {'message': 'You exceeded your current quota, please check your plan and billing details. For more information on this error, read the docs: https://platform.openai.com/docs/guides/error-codes/api-errors.', 'type': 'insufficient_quota', 'param': None, 'code': 'insufficient_quota'}]\n",
      "[ INFO] [2024-06-01 14:29:11,415] [4273307920] [9] [You exceeded your current quota, please check your plan and billing details. For more information on this error, read the docs: https://platform.openai.com/docs/guides/error-codes/api-errors.]\n",
      "[ ERROR] [2024-06-01 14:29:11,415] [4273307920] [24] [Opena ai didnot respond]\n",
      "[ ERROR] [2024-06-01 14:29:11,416] [2960675146] [16] [Conversion failed 4086]\n",
      "[ INFO] [2024-06-01 14:29:11,417] [2960675146] [11] [Converting question 4111]\n",
      "[ INFO] [2024-06-01 14:29:11,417] [openai] [49] [Sending request to openai api.]\n",
      "[ DEBUG] [2024-06-01 14:29:11,418] [connectionpool] [1055] [Starting new HTTPS connection (1): api.openai.com:443]\n",
      "[ DEBUG] [2024-06-01 14:29:11,793] [connectionpool] [549] [https://api.openai.com:443 \"POST /v1/chat/completions HTTP/1.1\" 429 337]\n",
      "[ DEBUG] [2024-06-01 14:29:11,795] [openai] [53] [OpenAI api did not send 200 status code: 429]\n",
      "[ DEBUG] [2024-06-01 14:29:11,795] [openai] [54] [Response: {'message': 'You exceeded your current quota, please check your plan and billing details. For more information on this error, read the docs: https://platform.openai.com/docs/guides/error-codes/api-errors.', 'type': 'insufficient_quota', 'param': None, 'code': 'insufficient_quota'}]\n",
      "[ INFO] [2024-06-01 14:29:11,797] [4273307920] [9] [You exceeded your current quota, please check your plan and billing details. For more information on this error, read the docs: https://platform.openai.com/docs/guides/error-codes/api-errors.]\n",
      "[ ERROR] [2024-06-01 14:29:11,798] [4273307920] [24] [Opena ai didnot respond]\n",
      "[ ERROR] [2024-06-01 14:29:11,798] [2960675146] [16] [Conversion failed 4111]\n",
      "[ INFO] [2024-06-01 14:29:11,799] [2960675146] [11] [Converting question 4113]\n",
      "[ INFO] [2024-06-01 14:29:11,799] [openai] [49] [Sending request to openai api.]\n",
      "[ DEBUG] [2024-06-01 14:29:11,801] [connectionpool] [1055] [Starting new HTTPS connection (1): api.openai.com:443]\n",
      "[ DEBUG] [2024-06-01 14:29:12,177] [connectionpool] [549] [https://api.openai.com:443 \"POST /v1/chat/completions HTTP/1.1\" 429 337]\n",
      "[ DEBUG] [2024-06-01 14:29:12,178] [openai] [53] [OpenAI api did not send 200 status code: 429]\n",
      "[ DEBUG] [2024-06-01 14:29:12,179] [openai] [54] [Response: {'message': 'You exceeded your current quota, please check your plan and billing details. For more information on this error, read the docs: https://platform.openai.com/docs/guides/error-codes/api-errors.', 'type': 'insufficient_quota', 'param': None, 'code': 'insufficient_quota'}]\n",
      "[ INFO] [2024-06-01 14:29:12,180] [4273307920] [9] [You exceeded your current quota, please check your plan and billing details. For more information on this error, read the docs: https://platform.openai.com/docs/guides/error-codes/api-errors.]\n",
      "[ ERROR] [2024-06-01 14:29:12,181] [4273307920] [24] [Opena ai didnot respond]\n",
      "[ ERROR] [2024-06-01 14:29:12,181] [2960675146] [16] [Conversion failed 4113]\n",
      "[ INFO] [2024-06-01 14:29:12,182] [2960675146] [11] [Converting question 4114]\n",
      "[ INFO] [2024-06-01 14:29:12,183] [openai] [49] [Sending request to openai api.]\n",
      "[ DEBUG] [2024-06-01 14:29:12,184] [connectionpool] [1055] [Starting new HTTPS connection (1): api.openai.com:443]\n",
      "[ DEBUG] [2024-06-01 14:29:12,559] [connectionpool] [549] [https://api.openai.com:443 \"POST /v1/chat/completions HTTP/1.1\" 429 337]\n",
      "[ DEBUG] [2024-06-01 14:29:12,561] [openai] [53] [OpenAI api did not send 200 status code: 429]\n",
      "[ DEBUG] [2024-06-01 14:29:12,561] [openai] [54] [Response: {'message': 'You exceeded your current quota, please check your plan and billing details. For more information on this error, read the docs: https://platform.openai.com/docs/guides/error-codes/api-errors.', 'type': 'insufficient_quota', 'param': None, 'code': 'insufficient_quota'}]\n",
      "[ INFO] [2024-06-01 14:29:12,563] [4273307920] [9] [You exceeded your current quota, please check your plan and billing details. For more information on this error, read the docs: https://platform.openai.com/docs/guides/error-codes/api-errors.]\n",
      "[ ERROR] [2024-06-01 14:29:12,563] [4273307920] [24] [Opena ai didnot respond]\n",
      "[ ERROR] [2024-06-01 14:29:12,564] [2960675146] [16] [Conversion failed 4114]\n",
      "[ INFO] [2024-06-01 14:29:12,565] [2960675146] [11] [Converting question 4115]\n",
      "[ INFO] [2024-06-01 14:29:12,566] [openai] [49] [Sending request to openai api.]\n",
      "[ DEBUG] [2024-06-01 14:29:12,567] [connectionpool] [1055] [Starting new HTTPS connection (1): api.openai.com:443]\n",
      "[ DEBUG] [2024-06-01 14:29:12,943] [connectionpool] [549] [https://api.openai.com:443 \"POST /v1/chat/completions HTTP/1.1\" 429 337]\n",
      "[ DEBUG] [2024-06-01 14:29:12,944] [openai] [53] [OpenAI api did not send 200 status code: 429]\n",
      "[ DEBUG] [2024-06-01 14:29:12,945] [openai] [54] [Response: {'message': 'You exceeded your current quota, please check your plan and billing details. For more information on this error, read the docs: https://platform.openai.com/docs/guides/error-codes/api-errors.', 'type': 'insufficient_quota', 'param': None, 'code': 'insufficient_quota'}]\n",
      "[ INFO] [2024-06-01 14:29:12,947] [4273307920] [9] [You exceeded your current quota, please check your plan and billing details. For more information on this error, read the docs: https://platform.openai.com/docs/guides/error-codes/api-errors.]\n",
      "[ ERROR] [2024-06-01 14:29:12,947] [4273307920] [24] [Opena ai didnot respond]\n",
      "[ ERROR] [2024-06-01 14:29:12,948] [2960675146] [16] [Conversion failed 4115]\n",
      "[ INFO] [2024-06-01 14:29:12,949] [2960675146] [11] [Converting question 4116]\n",
      "[ INFO] [2024-06-01 14:29:12,949] [openai] [49] [Sending request to openai api.]\n",
      "[ DEBUG] [2024-06-01 14:29:12,951] [connectionpool] [1055] [Starting new HTTPS connection (1): api.openai.com:443]\n",
      "[ DEBUG] [2024-06-01 14:29:13,319] [connectionpool] [549] [https://api.openai.com:443 \"POST /v1/chat/completions HTTP/1.1\" 429 337]\n",
      "[ DEBUG] [2024-06-01 14:29:13,321] [openai] [53] [OpenAI api did not send 200 status code: 429]\n",
      "[ DEBUG] [2024-06-01 14:29:13,321] [openai] [54] [Response: {'message': 'You exceeded your current quota, please check your plan and billing details. For more information on this error, read the docs: https://platform.openai.com/docs/guides/error-codes/api-errors.', 'type': 'insufficient_quota', 'param': None, 'code': 'insufficient_quota'}]\n",
      "[ INFO] [2024-06-01 14:29:13,323] [4273307920] [9] [You exceeded your current quota, please check your plan and billing details. For more information on this error, read the docs: https://platform.openai.com/docs/guides/error-codes/api-errors.]\n",
      "[ ERROR] [2024-06-01 14:29:13,323] [4273307920] [24] [Opena ai didnot respond]\n",
      "[ ERROR] [2024-06-01 14:29:13,324] [2960675146] [16] [Conversion failed 4116]\n",
      "[ INFO] [2024-06-01 14:29:13,325] [2960675146] [11] [Converting question 4117]\n",
      "[ INFO] [2024-06-01 14:29:13,325] [openai] [49] [Sending request to openai api.]\n",
      "[ DEBUG] [2024-06-01 14:29:13,327] [connectionpool] [1055] [Starting new HTTPS connection (1): api.openai.com:443]\n",
      "[ DEBUG] [2024-06-01 14:29:13,690] [connectionpool] [549] [https://api.openai.com:443 \"POST /v1/chat/completions HTTP/1.1\" 429 337]\n",
      "[ DEBUG] [2024-06-01 14:29:13,691] [openai] [53] [OpenAI api did not send 200 status code: 429]\n",
      "[ DEBUG] [2024-06-01 14:29:13,692] [openai] [54] [Response: {'message': 'You exceeded your current quota, please check your plan and billing details. For more information on this error, read the docs: https://platform.openai.com/docs/guides/error-codes/api-errors.', 'type': 'insufficient_quota', 'param': None, 'code': 'insufficient_quota'}]\n",
      "[ INFO] [2024-06-01 14:29:13,693] [4273307920] [9] [You exceeded your current quota, please check your plan and billing details. For more information on this error, read the docs: https://platform.openai.com/docs/guides/error-codes/api-errors.]\n",
      "[ ERROR] [2024-06-01 14:29:13,694] [4273307920] [24] [Opena ai didnot respond]\n",
      "[ ERROR] [2024-06-01 14:29:13,695] [2960675146] [16] [Conversion failed 4117]\n",
      "[ INFO] [2024-06-01 14:29:13,696] [2960675146] [11] [Converting question 4118]\n",
      "[ INFO] [2024-06-01 14:29:13,696] [openai] [49] [Sending request to openai api.]\n",
      "[ DEBUG] [2024-06-01 14:29:13,697] [connectionpool] [1055] [Starting new HTTPS connection (1): api.openai.com:443]\n",
      "[ DEBUG] [2024-06-01 14:29:14,070] [connectionpool] [549] [https://api.openai.com:443 \"POST /v1/chat/completions HTTP/1.1\" 429 337]\n",
      "[ DEBUG] [2024-06-01 14:29:14,072] [openai] [53] [OpenAI api did not send 200 status code: 429]\n",
      "[ DEBUG] [2024-06-01 14:29:14,072] [openai] [54] [Response: {'message': 'You exceeded your current quota, please check your plan and billing details. For more information on this error, read the docs: https://platform.openai.com/docs/guides/error-codes/api-errors.', 'type': 'insufficient_quota', 'param': None, 'code': 'insufficient_quota'}]\n"
     ]
    }
   ],
   "source": [
    "from datetime import datetime\n",
    "\n",
    "for data in input_data:\n",
    "    current_time = datetime.now().time()\n",
    "    if current_time.hour == 23 and current_time.minute > 0:\n",
    "        log.info(\"Break\")\n",
    "        break\n",
    "    qno = data[\"Qno\"]\n",
    "    if qno in converted_qno or qno in skip:\n",
    "        continue\n",
    "    log.info(f'Converting question {qno}')\n",
    "    try:\n",
    "        # log.info(data)\n",
    "        converted = convert_question(data, OPENAI_KEY=OPENAI_KEY_6)\n",
    "        if not converted:\n",
    "            log.error(f'Conversion failed {qno}')\n",
    "            save_skip()\n",
    "            continue\n",
    "        save_data()\n",
    "        save_converted_questions()\n",
    "        log.info(f'Converted question {qno}')\n",
    "    except Exception as e:\n",
    "        log.error(str(e))\n",
    "        \n"
   ]
  },
  {
   "cell_type": "code",
   "execution_count": 106,
   "metadata": {},
   "outputs": [],
   "source": [
    "def create_example():\n",
    "    example_output =[]\n",
    "    file_data = get_file_data()\n",
    "    for data in file_data:\n",
    "        file_qno = data[\"Qno\"]\n",
    "        for i_data in input_data:\n",
    "            input_qno = i_data[\"Qno\"]\n",
    "            if file_qno == input_qno:\n",
    "                example_output.append([data, i_data])\n",
    "                break\n",
    "    with open (example_output_path, 'w') as fp:\n",
    "        json.dump(example_output, fp, ensure_ascii=False)"
   ]
  },
  {
   "cell_type": "code",
   "execution_count": 19,
   "metadata": {},
   "outputs": [
    {
     "name": "stderr",
     "output_type": "stream",
     "text": [
      "[ INFO] [2024-05-12 14:53:26,589] [762392232] [14] [File data: 951]\n",
      "[ INFO] [2024-05-12 14:53:26,591] [762392232] [15] [Unique data: 951]\n",
      "[ INFO] [2024-05-12 14:53:26,592] [762392232] [17] [No filter required]\n"
     ]
    }
   ],
   "source": [
    "filter_unique_elements()"
   ]
  },
  {
   "cell_type": "code",
   "execution_count": 107,
   "metadata": {},
   "outputs": [],
   "source": [
    "create_example()"
   ]
  },
  {
   "cell_type": "code",
   "execution_count": 21,
   "metadata": {},
   "outputs": [
    {
     "data": {
      "text/plain": [
       "[1994, 2212, 2222, 2244, 263, 2722, 2768]"
      ]
     },
     "execution_count": 21,
     "metadata": {},
     "output_type": "execute_result"
    }
   ],
   "source": [
    "# skip"
   ]
  },
  {
   "cell_type": "code",
   "execution_count": 60,
   "metadata": {},
   "outputs": [
    {
     "name": "stderr",
     "output_type": "stream",
     "text": [
      "[ INFO] [2024-06-02 21:19:12,788] [2187960171] [13] [2937]\n",
      "[ INFO] [2024-06-02 21:19:12,790] [2187960171] [13] [2969]\n",
      "[ INFO] [2024-06-02 21:19:12,790] [2187960171] [13] [2973]\n",
      "[ INFO] [2024-06-02 21:19:12,791] [2187960171] [13] [2989]\n",
      "[ INFO] [2024-06-02 21:19:12,792] [2187960171] [13] [3009]\n",
      "[ INFO] [2024-06-02 21:19:12,793] [2187960171] [13] [3023]\n",
      "[ INFO] [2024-06-02 21:19:12,794] [2187960171] [13] [3223]\n",
      "[ INFO] [2024-06-02 21:19:12,795] [2187960171] [13] [3224]\n",
      "[ INFO] [2024-06-02 21:19:12,795] [2187960171] [13] [3229]\n",
      "[ INFO] [2024-06-02 21:19:12,796] [2187960171] [13] [3233]\n",
      "[ INFO] [2024-06-02 21:19:12,797] [2187960171] [13] [3244]\n",
      "[ INFO] [2024-06-02 21:19:12,797] [2187960171] [13] [3247]\n",
      "[ INFO] [2024-06-02 21:19:12,798] [2187960171] [13] [3248]\n",
      "[ INFO] [2024-06-02 21:19:12,799] [2187960171] [13] [3258]\n",
      "[ INFO] [2024-06-02 21:19:12,799] [2187960171] [13] [3274]\n",
      "[ INFO] [2024-06-02 21:19:12,800] [2187960171] [13] [3276]\n",
      "[ INFO] [2024-06-02 21:19:12,801] [2187960171] [13] [3283]\n",
      "[ INFO] [2024-06-02 21:19:12,802] [2187960171] [13] [3284]\n",
      "[ INFO] [2024-06-02 21:19:12,802] [2187960171] [13] [3286]\n",
      "[ INFO] [2024-06-02 21:19:12,803] [2187960171] [13] [3287]\n",
      "[ INFO] [2024-06-02 21:19:12,804] [2187960171] [13] [3288]\n",
      "[ INFO] [2024-06-02 21:19:12,805] [2187960171] [13] [3289]\n",
      "[ INFO] [2024-06-02 21:19:12,805] [2187960171] [13] [3291]\n",
      "[ INFO] [2024-06-02 21:19:12,806] [2187960171] [13] [3292]\n",
      "[ INFO] [2024-06-02 21:19:12,807] [2187960171] [13] [3295]\n",
      "[ INFO] [2024-06-02 21:19:12,807] [2187960171] [13] [3298]\n",
      "[ INFO] [2024-06-02 21:19:12,808] [2187960171] [13] [3302]\n",
      "[ INFO] [2024-06-02 21:19:12,809] [2187960171] [13] [3307]\n",
      "[ INFO] [2024-06-02 21:19:12,809] [2187960171] [13] [3308]\n",
      "[ INFO] [2024-06-02 21:19:12,810] [2187960171] [13] [3319]\n",
      "[ INFO] [2024-06-02 21:19:12,811] [2187960171] [13] [3321]\n",
      "[ INFO] [2024-06-02 21:19:12,811] [2187960171] [13] [3322]\n",
      "[ INFO] [2024-06-02 21:19:12,813] [2187960171] [13] [3538]\n",
      "[ INFO] [2024-06-02 21:19:12,814] [2187960171] [13] [3539]\n",
      "[ INFO] [2024-06-02 21:19:12,814] [2187960171] [13] [3540]\n",
      "[ INFO] [2024-06-02 21:19:12,815] [2187960171] [13] [3541]\n",
      "[ INFO] [2024-06-02 21:19:12,816] [2187960171] [13] [3544]\n",
      "[ INFO] [2024-06-02 21:19:12,816] [2187960171] [13] [3547]\n",
      "[ INFO] [2024-06-02 21:19:12,817] [2187960171] [13] [3550]\n",
      "[ INFO] [2024-06-02 21:19:12,818] [2187960171] [13] [3551]\n",
      "[ INFO] [2024-06-02 21:19:12,819] [2187960171] [13] [3552]\n",
      "[ INFO] [2024-06-02 21:19:12,820] [2187960171] [13] [3554]\n",
      "[ INFO] [2024-06-02 21:19:12,820] [2187960171] [13] [3555]\n",
      "[ INFO] [2024-06-02 21:19:12,821] [2187960171] [13] [3557]\n",
      "[ INFO] [2024-06-02 21:19:12,822] [2187960171] [13] [3558]\n",
      "[ INFO] [2024-06-02 21:19:12,822] [2187960171] [13] [3559]\n",
      "[ INFO] [2024-06-02 21:19:12,823] [2187960171] [13] [3560]\n",
      "[ INFO] [2024-06-02 21:19:12,823] [2187960171] [13] [3561]\n",
      "[ INFO] [2024-06-02 21:19:12,824] [2187960171] [13] [3562]\n",
      "[ INFO] [2024-06-02 21:19:12,825] [2187960171] [13] [3567]\n",
      "[ INFO] [2024-06-02 21:19:12,825] [2187960171] [13] [3569]\n",
      "[ INFO] [2024-06-02 21:19:12,826] [2187960171] [13] [3570]\n",
      "[ INFO] [2024-06-02 21:19:12,826] [2187960171] [13] [3573]\n",
      "[ INFO] [2024-06-02 21:19:12,827] [2187960171] [13] [3574]\n",
      "[ INFO] [2024-06-02 21:19:12,828] [2187960171] [13] [3576]\n",
      "[ INFO] [2024-06-02 21:19:12,828] [2187960171] [13] [3577]\n",
      "[ INFO] [2024-06-02 21:19:12,829] [2187960171] [13] [3578]\n",
      "[ INFO] [2024-06-02 21:19:12,830] [2187960171] [13] [3579]\n",
      "[ INFO] [2024-06-02 21:19:12,831] [2187960171] [13] [3581]\n",
      "[ INFO] [2024-06-02 21:19:12,832] [2187960171] [13] [3584]\n",
      "[ INFO] [2024-06-02 21:19:12,832] [2187960171] [13] [3585]\n",
      "[ INFO] [2024-06-02 21:19:12,833] [2187960171] [13] [3589]\n",
      "[ INFO] [2024-06-02 21:19:12,834] [2187960171] [13] [3591]\n",
      "[ INFO] [2024-06-02 21:19:12,834] [2187960171] [13] [3598]\n",
      "[ INFO] [2024-06-02 21:19:12,835] [2187960171] [13] [3601]\n",
      "[ INFO] [2024-06-02 21:19:12,836] [2187960171] [13] [3602]\n",
      "[ INFO] [2024-06-02 21:19:12,836] [2187960171] [13] [3603]\n",
      "[ INFO] [2024-06-02 21:19:12,837] [2187960171] [13] [3605]\n",
      "[ INFO] [2024-06-02 21:19:12,838] [2187960171] [13] [3607]\n",
      "[ INFO] [2024-06-02 21:19:12,839] [2187960171] [13] [3608]\n",
      "[ INFO] [2024-06-02 21:19:12,839] [2187960171] [13] [3609]\n",
      "[ INFO] [2024-06-02 21:19:12,840] [2187960171] [13] [3610]\n",
      "[ INFO] [2024-06-02 21:19:12,841] [2187960171] [13] [3612]\n",
      "[ INFO] [2024-06-02 21:19:12,842] [2187960171] [13] [3616]\n",
      "[ INFO] [2024-06-02 21:19:12,842] [2187960171] [13] [3621]\n",
      "[ INFO] [2024-06-02 21:19:12,843] [2187960171] [13] [3625]\n",
      "[ INFO] [2024-06-02 21:19:12,844] [2187960171] [13] [3627]\n",
      "[ INFO] [2024-06-02 21:19:12,844] [2187960171] [13] [3629]\n",
      "[ INFO] [2024-06-02 21:19:12,845] [2187960171] [13] [3630]\n",
      "[ INFO] [2024-06-02 21:19:12,846] [2187960171] [13] [2862]\n",
      "[ INFO] [2024-06-02 21:19:12,847] [2187960171] [13] [2925]\n",
      "[ INFO] [2024-06-02 21:19:12,847] [2187960171] [13] [3119]\n",
      "[ INFO] [2024-06-02 21:19:12,848] [2187960171] [13] [3217]\n",
      "[ INFO] [2024-06-02 21:19:12,849] [2187960171] [13] [3313]\n",
      "[ INFO] [2024-06-02 21:19:12,850] [2187960171] [13] [3480]\n",
      "[ INFO] [2024-06-02 21:19:12,850] [2187960171] [13] [3634]\n",
      "[ INFO] [2024-06-02 21:19:12,851] [2187960171] [13] [3636]\n",
      "[ INFO] [2024-06-02 21:19:12,852] [2187960171] [13] [3640]\n",
      "[ INFO] [2024-06-02 21:19:12,852] [2187960171] [13] [3641]\n",
      "[ INFO] [2024-06-02 21:19:12,853] [2187960171] [13] [3642]\n",
      "[ INFO] [2024-06-02 21:19:12,854] [2187960171] [13] [3644]\n",
      "[ INFO] [2024-06-02 21:19:12,855] [2187960171] [13] [3649]\n",
      "[ INFO] [2024-06-02 21:19:12,855] [2187960171] [13] [3650]\n",
      "[ INFO] [2024-06-02 21:19:12,856] [2187960171] [13] [3651]\n",
      "[ INFO] [2024-06-02 21:19:12,857] [2187960171] [13] [3661]\n",
      "[ INFO] [2024-06-02 21:19:12,857] [2187960171] [13] [3663]\n",
      "[ INFO] [2024-06-02 21:19:12,858] [2187960171] [13] [3664]\n",
      "[ INFO] [2024-06-02 21:19:12,859] [2187960171] [13] [3676]\n",
      "[ INFO] [2024-06-02 21:19:12,859] [2187960171] [13] [3677]\n",
      "[ INFO] [2024-06-02 21:19:12,860] [2187960171] [13] [3682]\n",
      "[ INFO] [2024-06-02 21:19:12,861] [2187960171] [13] [3683]\n",
      "[ INFO] [2024-06-02 21:19:12,861] [2187960171] [13] [3696]\n",
      "[ INFO] [2024-06-02 21:19:12,862] [2187960171] [13] [3702]\n",
      "[ INFO] [2024-06-02 21:19:12,863] [2187960171] [13] [3704]\n",
      "[ INFO] [2024-06-02 21:19:12,864] [2187960171] [13] [3714]\n",
      "[ INFO] [2024-06-02 21:19:12,864] [2187960171] [13] [3715]\n",
      "[ INFO] [2024-06-02 21:19:12,865] [2187960171] [13] [3718]\n",
      "[ INFO] [2024-06-02 21:19:12,866] [2187960171] [13] [3724]\n",
      "[ INFO] [2024-06-02 21:19:12,867] [2187960171] [13] [3731]\n",
      "[ INFO] [2024-06-02 21:19:12,867] [2187960171] [13] [3737]\n",
      "[ INFO] [2024-06-02 21:19:12,868] [2187960171] [13] [3745]\n",
      "[ INFO] [2024-06-02 21:19:12,869] [2187960171] [13] [3749]\n",
      "[ INFO] [2024-06-02 21:19:12,870] [2187960171] [13] [3757]\n",
      "[ INFO] [2024-06-02 21:19:12,870] [2187960171] [13] [3763]\n",
      "[ INFO] [2024-06-02 21:19:12,871] [2187960171] [13] [3765]\n",
      "[ INFO] [2024-06-02 21:19:12,872] [2187960171] [13] [3768]\n",
      "[ INFO] [2024-06-02 21:19:12,872] [2187960171] [13] [3770]\n",
      "[ INFO] [2024-06-02 21:19:12,873] [2187960171] [13] [3772]\n",
      "[ INFO] [2024-06-02 21:19:12,874] [2187960171] [13] [3778]\n",
      "[ INFO] [2024-06-02 21:19:12,874] [2187960171] [13] [3779]\n",
      "[ INFO] [2024-06-02 21:19:12,875] [2187960171] [13] [3780]\n",
      "[ INFO] [2024-06-02 21:19:12,876] [2187960171] [13] [3781]\n",
      "[ INFO] [2024-06-02 21:19:12,877] [2187960171] [13] [3789]\n",
      "[ INFO] [2024-06-02 21:19:12,878] [2187960171] [13] [3792]\n",
      "[ INFO] [2024-06-02 21:19:12,878] [2187960171] [13] [3773]\n",
      "[ INFO] [2024-06-02 21:19:12,879] [2187960171] [13] [2950]\n",
      "[ INFO] [2024-06-02 21:19:12,880] [2187960171] [13] [3024]\n",
      "[ INFO] [2024-06-02 21:19:12,880] [2187960171] [13] [2908]\n",
      "[ INFO] [2024-06-02 21:19:12,881] [2187960171] [13] [3633]\n",
      "[ INFO] [2024-06-02 21:19:12,882] [2187960171] [13] [3797]\n",
      "[ INFO] [2024-06-02 21:19:12,883] [2187960171] [13] [3618]\n"
     ]
    }
   ],
   "source": [
    "filter_without_options(False)\n",
    "# filter_without_options()"
   ]
  },
  {
   "cell_type": "code",
   "execution_count": 308,
   "metadata": {},
   "outputs": [
    {
     "name": "stderr",
     "output_type": "stream",
     "text": [
      "[ INFO] [2024-06-01 09:46:06,718] [844909519] [5] [converted/3/questions_3.json: 1093]\n"
     ]
    }
   ],
   "source": [
    "converted_qno = get_converted_questions_file()"
   ]
  },
  {
   "cell_type": "code",
   "execution_count": 309,
   "metadata": {},
   "outputs": [],
   "source": [
    "save_converted_questions()"
   ]
  },
  {
   "cell_type": "code",
   "execution_count": 310,
   "metadata": {},
   "outputs": [
    {
     "name": "stderr",
     "output_type": "stream",
     "text": [
      "[ INFO] [2024-06-01 09:46:14,243] [1120403275] [5] [From questions.json: 1093]\n",
      "[ INFO] [2024-06-01 09:46:14,244] [1120403275] [11] [From no.json: 1093]\n"
     ]
    }
   ],
   "source": [
    "cq = get_converted_questions()"
   ]
  },
  {
   "cell_type": "code",
   "execution_count": null,
   "metadata": {},
   "outputs": [],
   "source": []
  }
 ],
 "metadata": {
  "kernelspec": {
   "display_name": ".venv",
   "language": "python",
   "name": "python3"
  },
  "language_info": {
   "codemirror_mode": {
    "name": "ipython",
    "version": 3
   },
   "file_extension": ".py",
   "mimetype": "text/x-python",
   "name": "python",
   "nbconvert_exporter": "python",
   "pygments_lexer": "ipython3",
   "version": "3.10.12"
  }
 },
 "nbformat": 4,
 "nbformat_minor": 2
}

{
 "cells": [
  {
   "cell_type": "code",
   "execution_count": 426,
   "metadata": {},
   "outputs": [],
   "source": [
    "from concurrent.futures import ThreadPoolExecutor\n",
    "import json\n",
    "import os\n",
    "from openai import OpenAI\n",
    "import logging\n",
    "from time import perf_counter, sleep\n",
    "import re\n",
    "from threading import RLock\n",
    "from dotenv import load_dotenv\n",
    "\n",
    "load_dotenv()\n",
    "\n",
    "log_format = '[ %(levelname)s] [%(asctime)s] [%(module)s] [%(lineno)s] [%(message)s]'\n",
    "logging.basicConfig(level=logging.DEBUG, format=log_format)\n",
    "\n",
    "file_handler = logging.FileHandler('logfile.log')\n",
    "file_handler.setLevel(logging.DEBUG)\n",
    "\n",
    "formatter = logging.Formatter(log_format)\n",
    "file_handler.setFormatter(formatter)\n",
    "\n",
    "log = logging.getLogger()\n",
    "log.addHandler(file_handler)\n",
    "\n",
    "lock = RLock()\n",
    "converted_qno = set()\n",
    "failed_qno = []\n",
    "reponse_data = []\n",
    "skip = []\n",
    "\n",
    "file_no =4\n",
    "example_output_path = f'converted/{file_no}/example_{file_no}.json'\n",
    "question_path = f'converted/{file_no}/questions_{file_no}.json'\n",
    "question_copy_path =f'converted/{file_no}/questions_{file_no}_copy.json'\n",
    "no_path = f'converted/{file_no}/no_{file_no}.json'\n",
    "skipped_path = f'converted/{file_no}/skipped.json'\n",
    "data_path = f'data/data_{file_no}.json'\n"
   ]
  },
  {
   "cell_type": "code",
   "execution_count": 427,
   "metadata": {},
   "outputs": [],
   "source": [
    "\n",
    "SYSTEM_PROMPT = \"\"\"\n",
    "**You are a UPSC prelims question expert specializing in converting English MCQs to Hindi.**\n",
    "\n",
    "**Given a question in English (statement) and a hint, convert it to Hindi (statement) suitable for the UPSC prelims exam, maintaining technical accuracy and UPSC context.**\n",
    "\n",
    "**Input (JSON):**\n",
    "\n",
    "* `statement`: Question statement with options in English.\n",
    "* `hint`: Hint for the question in English.\n",
    "    \n",
    "**Output (JSON):**\n",
    "\n",
    "* `statement`: Converted question statement in Hindi with options in English.\n",
    "* `hint`: Hint for the question in Hindi.\n",
    "\n",
    "**Example::1**\n",
    "\n",
    "* Example Input::1\n",
    "    \"statement\": \"Consider following statements regarding the representation of States in the Parliament: 1. Delimitation of Constituencies is undertaken on the basis of census exercise to ensure that every State is represented in proportion to its population in both the Houses of Parliament. 2. Delimitation Commission is a constitutional body, the notification of whose orders cannot be challenged in a Court. 3. Territorial constituencies in States, at present, are based on the data of 2001 census, as the Constitution (87thAmendment) Act, 2003 enabled the delimitation exercise on the basis of 2001Census figures. 4. As it stands today, Constitution of India prohibits any delimitation exercise till 2031. Which of the statements given above are not correct ? (A) 1, 2 and 4only (B) 2, 3 and 4only (C) 1, 3 and 4only (D) 1, 2, 3 and 4\"\n",
    "    \"hint\": \"Delimitation constituencies are NOT applicable to representation of states in Council of States. Though it is correct to say the Order of delimitation commission, once notified, cannot be challenged in any Court, Delimitation commission is NOT a constitutional body but a statutory body. The Constitution has prohibited the revision of representation of States in the Lok Sabha till 2026, but not the delimitation of the Lok Sabha and Assembly constituencies...\"\n",
    "\n",
    "* Example Output::1\n",
    "    \"statement\": \"संसद में राज्यों के प्रतिनिधित्व का प्रस्तावना से संबंधित निम्नलिखित कथनों को विचार करें: 1. निर्वाचनी सीमाओं का निर्धारण जनगणना अभ्यास के आधार पर किया जाता है ताकि सुनिश्चित किया जा सके कि प्रत्येक राज्य को संसद के दोनों सदनों में उसकी जनसंख्या के अनुपात में प्रतिनिधित्व मिले। 2. निर्वाचन सीमा आयोग एक संवैधानिक निकाय है, जिसके आदेशों की अधिसूचना को किसी भी न्यायालय में चुनौती नहीं की जा सकती है। 3. राज्यों में क्षेत्रीय निर्वाचनी सीमाएँ, वर्तमान में, 2001 की जनगणना के आंकड़ों पर आधारित हैं, क्योंकि संविधान (87वां संशोधन) अधिनियम, 2003 ने 2001 की जनगणना के आंकड़ों पर आधारित निर्वाचन का अभ्यास संभव बनाया। 4. जैसा कि आज है, भारतीय संविधान किसी भी निर्वाचन अभ्यास का कोई अभ्यस्त नहीं करता है जब तक 2031 तक। उपर्युक्त कथनों में से कौन सही नहीं है? (A) 1, 2 और 4 (B) केवल 2, 3 और 4 (C) केवल 1, 3 और 4 केवल (D) 1, 2, 3 और 4\"\n",
    "    \"hint\": \"निर्वाचन सीमाएँ संसद के सदन मे प्रतिनिधित्व के लिए लागू नहीं हैं। यह सही है कि एक बार घोषित किए गए निर्वाचन आयोग के आदेश को किसी भी न्यायालय में चुनौती नहीं की जा सकती है, लेकिन निर्वाचन आयोग संवैधानिक निकाय नहीं है बल्कि एक वैधानिक निकाय है। संविधान ने राज्यों के प्रतिनिधित्व की संशोधन की प्रतिनिधित्व को 2026 तक रोका है, लेकिन संविधान में स्पष्ट नहीं किया है कि संविधान और विधानसभा क्षेत्रों की नियमन (delimitation) नहीं कर सकते हैं।..\"\n",
    "    \n",
    "\n",
    "**IMPORTANT INFORMATION**\n",
    "* Choices must be (A),(B),(C),(D) in capital letter form\n",
    "* Choices must be in letters not numbers.\n",
    "* Choices must be in english langauge.\n",
    "* 1. 2. 3. 4. are not choices they are the part of statement.\n",
    "\n",
    "* DONOT change the base statement format. The number of options should remain the same in the converted statement.\n",
    "* DONOT forget to translate choices from end of each input `statement` to reponse `statement`.\n",
    "* DONOT translate numbers\n",
    "\"\"\"\n",
    "# **Example::2**\n",
    "\n",
    "# * Example Input::2\n",
    "#     \"statement\": \"Which of the following statements is/are true about the Gram Sabha? 1. All people living in a village or a group of villages are members of the Gram Sabha. 2. All the plans for work of Gram Panchayat have to be approved by Gram Sabha. 3. For better implementation of some specific tasks, Gram Sabha form committees. 4. The elected Secretary of the Gram Sabha calls the meeting and keeps a record of the proceedings. (A) 2 and 3 (B) 1, 3 and 4 (C) 2, 3 and 4 (D) 1,2,3,4\"\n",
    "#     \"hint\": \"Only adult villagers who have the right to vote can be member of Gram Sabha. Persons below 18 years of age can't become members. Gram Sabha plays a supervisory and monitoring role over Gram Panchayat by approving it plan of work. Gram Sabha form committees like construction, animal husbandry, etc to carry out some specific tasks. The Gram Panchayat has a Secretary who is also the Secretary of the Gram Sabha. This person is not an elected person but is appointed by the government. The Secretary is responsible for calling the meeting of the Gram Sabha and Gram Panchayat and keeping a record of the proceedings.\"\n",
    "\n",
    "# * Example Output::2\n",
    "#     \"statement\": \"निम्नलिखित में से कौन से कथन ग्राम सभा के बारे में सही हैं? 1. ग्राम सभा के सभी लोग एक गाँव या एक समूह के गाँवों के सदस्य हैं। 2. ग्राम पंचायत के काम की सभी योजनाएँ ग्राम सभा द्वारा मंजूर करनी हैं। 3. कुछ विशिष्ट कार्यों के बेहतर कार्यान्वयन के लिए, ग्राम सभा समितियाँ बनाती है। 4. ग्राम सभा का चुनावित सचिव सभा को बुलाता है और कार्यवाहियों का रिकॉर्ड रखता है। (A) 2 और 3 (B) 1, 3 और 4 (C) 2, 3 और 4 (D) 1,2,3,4\",\n",
    "#     \"hint\": \"केवल मतदान करने का अधिकार वाले वयस्क ग्रामीण ग्राम सभा के सदस्य बन सकते हैं। 18 वर्ष से कम उम्र के व्यक्ति सदस्य नहीं बन सकते। ग्राम सभा ग्राम पंचायत की काम की योजना को मंजूरी देकर एक पर्यवेक्षक और निगरानी भूमिका निभाती है। ग्राम सभा निर्माण, पशुपालन आदि जैसी समूचे कुछ विशिष्ट कार्यों को संभालने के लिए समितियाँ बनाती है। ग्राम पंचायत के पास एक सचिव होता है जो ग्राम सभा का भी सचिव होता है। यह व्यक्ति चुना नहीं जाता है, बल्कि सरकार द्वारा नियुक्त होता है। सचिव को ग्राम सभा और ग्राम पंचायत की मीटिंग बुलाने और प्रक्रियाओं का रिकॉर्ड रखने का जिम्मेदारी होती है।\"\n"
   ]
  },
  {
   "cell_type": "code",
   "execution_count": 428,
   "metadata": {},
   "outputs": [],
   "source": [
    "def save_converted_questions():\n",
    "    with open (no_path, 'w') as fp:\n",
    "        json.dump(converted_qno, fp)"
   ]
  },
  {
   "cell_type": "code",
   "execution_count": 429,
   "metadata": {},
   "outputs": [],
   "source": [
    "def clean_text(text, clean=True):\n",
    "    if not clean:\n",
    "        return re.sub(r'\\s+', ' ', text.strip())\n",
    "        # return text.strip()\n",
    "    # return re.sub(r'\\s+', ' ', text.replace(\"\\\\n\", \" \").replace(\"\", \" \").replace(\"'\", \"\").replace('\"', \"'\").strip())\n",
    "    return re.sub(r'\\s+', ' ', text.replace(\"\\\\n\", \" \").replace(\"\", \" \").replace(\"'\",\"\").replace('\"', \"'\").strip())\n"
   ]
  },
  {
   "cell_type": "code",
   "execution_count": 430,
   "metadata": {},
   "outputs": [],
   "source": [
    "def get_data():\n",
    "    input_data = []\n",
    "    input_data_dict = {}\n",
    "    qno = []\n",
    "    with open(data_path, 'r') as fp:\n",
    "        json_data = json.load(fp)\n",
    "    for key, item in json_data.items():\n",
    "        statement = clean_text(item['statement'])\n",
    "        hint = clean_text(item['hint'])\n",
    "        qno = item[\"Qno\"]\n",
    "        temp = {'statement': statement, 'hint': hint, \"Qno\": qno}\n",
    "        input_data.append(temp)\n",
    "        input_data_dict[key] = temp\n",
    "    log.info(f\"Input data: {len(input_data)}\")\n",
    "    return input_data\n"
   ]
  },
  {
   "cell_type": "code",
   "execution_count": 431,
   "metadata": {},
   "outputs": [],
   "source": [
    "def get_file_data():\n",
    "    if os.path.exists(question_path):\n",
    "        with open(question_path, 'r') as fp:\n",
    "            file_data = json.load(fp)\n",
    "            return file_data\n",
    "    return []"
   ]
  },
  {
   "cell_type": "code",
   "execution_count": 432,
   "metadata": {},
   "outputs": [],
   "source": [
    "def save_data():\n",
    "    try:\n",
    "        if os.path.exists(question_path):\n",
    "            with open(question_path, 'r') as fp:\n",
    "                file_data = json.load(fp)\n",
    "\n",
    "            with open(question_copy_path, 'w') as fp:\n",
    "                json.dump(file_data, fp, ensure_ascii=False)\n",
    "\n",
    "        log.info(f'Saving {len(reponse_data)} data')   \n",
    "        with open(question_path, 'w') as fp:\n",
    "            json.dump(reponse_data, fp, ensure_ascii=False)\n",
    "            \n",
    "            \n",
    "        return True\n",
    "\n",
    "    except Exception as e:\n",
    "        log.error(str(e))\n",
    "        return None"
   ]
  },
  {
   "cell_type": "code",
   "execution_count": 433,
   "metadata": {},
   "outputs": [],
   "source": [
    "def save_skip():\n",
    "    with open(skipped_path, 'w') as fp:\n",
    "        json.dump(skip, fp, ensure_ascii=False)"
   ]
  },
  {
   "cell_type": "code",
   "execution_count": 434,
   "metadata": {},
   "outputs": [],
   "source": [
    "def get_converted_questions_file():\n",
    "    if os.path.exists(question_path):\n",
    "        with open(question_path, 'r') as fp:\n",
    "            file_data_q = json.load(fp)\n",
    "        log.info(f'{question_path}: {len(file_data_q)}')\n",
    "        return [data['Qno'] for data in file_data_q]\n",
    "\n",
    "    return []"
   ]
  },
  {
   "cell_type": "code",
   "execution_count": 435,
   "metadata": {},
   "outputs": [],
   "source": [
    "def filter_unique_elements():\n",
    "    unique_elements = []\n",
    "    seen_qnos = set()\n",
    "    if not  os.path.exists(question_path):\n",
    "        log.error('Path doesnot exists')\n",
    "        return\n",
    "    with open(question_path, 'r') as fp:\n",
    "            file_data = json.load(fp)\n",
    "\n",
    "    for item in file_data:\n",
    "        if item['Qno'] not in seen_qnos:\n",
    "            unique_elements.append(item)\n",
    "            seen_qnos.add(item['Qno'])\n",
    "    log.info(f\"File data: {len(file_data)}\")\n",
    "    log.info(f\"Unique data: {len(unique_elements)}\")\n",
    "    if not len(file_data) > len(unique_elements):\n",
    "        log.info(\"No filter required\")\n",
    "        return\n",
    "    with open(question_path, 'w') as fp:\n",
    "            json.dump(file_data, fp, ensure_ascii=False)\n",
    "    with open(question_copy_path, 'w') as fp:\n",
    "            json.dump(file_data, fp, ensure_ascii=False)\n",
    "            \n",
    "    converted_qno = get_converted_questions_file()\n",
    "    save_converted_questions()"
   ]
  },
  {
   "cell_type": "code",
   "execution_count": 436,
   "metadata": {},
   "outputs": [],
   "source": [
    "def filter_without_options(write=True):\n",
    "    pattern = r'A|a|ए\\).*B|b|बी\\).*C|c|सी\\).*D|d|डी\\)'\n",
    "    elements_without_options = []\n",
    "    if os.path.exists(question_path):\n",
    "        with open(question_path, 'r') as fp:\n",
    "                file_data = json.load(fp)\n",
    "        \n",
    "    for item in file_data:\n",
    "        if not re.search(pattern, item.get('statement')):\n",
    "            log.info(item[\"Qno\"])\n",
    "            elements_without_options.append(item)\n",
    "    if len(elements_without_options)==0:\n",
    "        log.info(\"No filter required\")\n",
    "        return\n",
    "          \n",
    "    for element in elements_without_options:\n",
    "        file_data.remove(element)\n",
    "\n",
    "    if not write:\n",
    "        return\n",
    "    with open(question_path, 'w') as fp:\n",
    "            json.dump(file_data, fp, ensure_ascii=False)\n",
    "    with open(question_copy_path, 'w') as fp:\n",
    "            json.dump(file_data, fp, ensure_ascii=False)\n",
    "            \n",
    "    converted_qno = get_converted_questions_file()\n",
    "    save_converted_questions()"
   ]
  },
  {
   "cell_type": "code",
   "execution_count": 437,
   "metadata": {},
   "outputs": [],
   "source": [
    "def get_converted_questions():\n",
    "    if os.path.exists(question_path):\n",
    "        with open(question_path, 'r') as fp:\n",
    "            file_data_q = json.load(fp)\n",
    "        log.info(f'From questions.json: {len(file_data_q)}')\n",
    "        \n",
    "\n",
    "    if os.path.exists(no_path):\n",
    "        with open(no_path, 'r') as fp:\n",
    "            file_data = json.load(fp)\n",
    "            log.info(f'From no.json: {len(file_data)}')\n",
    "            return file_data\n",
    "\n",
    "    return []"
   ]
  },
  {
   "cell_type": "code",
   "execution_count": 438,
   "metadata": {},
   "outputs": [],
   "source": [
    "def get_skipped_questions():\n",
    "    if os.path.exists(skipped_path):\n",
    "        with open(skipped_path, 'r') as fp:\n",
    "            file_data = json.load(fp)\n",
    "            return file_data\n",
    "    return []\n"
   ]
  },
  {
   "cell_type": "code",
   "execution_count": 439,
   "metadata": {},
   "outputs": [],
   "source": [
    "def get_rate_limit(message):\n",
    "    if not message: \n",
    "        return 1\n",
    "    duration_pattern = r'(\\d+)m(\\d+)s'\n",
    "    duration_match = re.search(duration_pattern, message)\n",
    "    if duration_match:\n",
    "        minutes = int(duration_match.group(1))\n",
    "        seconds = int(duration_match.group(2))\n",
    "        total_seconds = minutes * 60 + seconds\n",
    "        return total_seconds\n",
    "        \n",
    "    seconds_pattern = r'(\\d+)s'\n",
    "    seconds_match = re.search(seconds_pattern, message)\n",
    "    if seconds_match:\n",
    "        total_seconds = int(seconds_match.group(1))\n",
    "        return total_seconds\n",
    "    return 1\n",
    "    "
   ]
  },
  {
   "cell_type": "code",
   "execution_count": 440,
   "metadata": {},
   "outputs": [
    {
     "data": {
      "text/plain": [
       "20"
      ]
     },
     "execution_count": 440,
     "metadata": {},
     "output_type": "execute_result"
    }
   ],
   "source": [
    "get_rate_limit('Rate limit reached for gpt-3.5-turbo in organization org-HZolppxVjUPEvBYohG9NyuVw on requests per min (RPM): Limit 3, Used 3, Requested 1. Please try again in 20s. Visit https://platform.openai.com/account/rate-limits to learn more. You can increase your rate limit by adding a payment method to your account at https://platform.openai.com/account/billing.')"
   ]
  },
  {
   "cell_type": "code",
   "execution_count": 441,
   "metadata": {},
   "outputs": [],
   "source": [
    "rare_string = \"Unfortunately, this can happen in rare situations.\"\n",
    "def convert_question(input_data, OPENAI_KEY):\n",
    "    qno = input_data.pop(\"Qno\")\n",
    "    try:\n",
    "        USER_PROMPT = str(input_data)\n",
    "        data, error = OpenAI.generate_completion(SYSTEM_PROMPT, USER_PROMPT, OPENAI_KEY)\n",
    "        if not data and error:\n",
    "            message = error.get(\"message\", None)\n",
    "            log.info(message)\n",
    "            if error.get(\"code\", None) == \"rate_limit_exceeded\":\n",
    "                wait = get_rate_limit(error.get(\"message\",None))\n",
    "                log.debug(f\"Rate limit exceeded: Sleeping {wait} seconds\")\n",
    "                sleep(wait)\n",
    "            if rare_string in message:\n",
    "                skip.append(qno)\n",
    "            raise Exception('Opena ai didnot respond')\n",
    "\n",
    "        data[\"Qno\"] = qno\n",
    "        converted_qno.append(qno)\n",
    "        reponse_data.append(data)\n",
    "        return True\n",
    "        \n",
    "    except Exception as e:\n",
    "        log.error(str(e))\n",
    "        failed_qno.append(qno)\n",
    "        return False"
   ]
  },
  {
   "cell_type": "code",
   "execution_count": 442,
   "metadata": {},
   "outputs": [
    {
     "name": "stderr",
     "output_type": "stream",
     "text": [
      "[ INFO] [2024-06-01 14:14:30,028] [4169408832] [14] [Input data: 1093]\n",
      "[ INFO] [2024-06-01 14:14:30,033] [1120403275] [5] [From questions.json: 338]\n",
      "[ INFO] [2024-06-01 14:14:30,035] [1120403275] [11] [From no.json: 338]\n",
      "[ INFO] [2024-06-01 14:14:30,036] [1895533725] [11] [338]\n",
      "[ INFO] [2024-06-01 14:14:30,037] [1895533725] [12] [9]\n",
      "[ INFO] [2024-06-01 14:14:30,039] [1895533725] [13] [sk-proj-rjfrXAgwzFn0rEINbWHCT3BlbkFJ3wUIFNG76tNqfqAs5Ubn]\n"
     ]
    }
   ],
   "source": [
    "reponse_data = get_file_data()\n",
    "input_data = get_data()\n",
    "converted_qno = get_converted_questions()\n",
    "skip = get_skipped_questions()\n",
    "OPENAI_KEY_1 = os.getenv('OPENAI_KEY_1')\n",
    "OPENAI_KEY_2 = os.getenv('OPENAI_KEY_2')\n",
    "OPENAI_KEY_3 = os.getenv('OPENAI_KEY_3')\n",
    "OPENAI_KEY_4 = os.getenv('OPENAI_KEY_4')\n",
    "OPENAI_KEY_5 = os.getenv('OPENAI_KEY_5')\n",
    "\n",
    "log.info(len(converted_qno))\n",
    "log.info(len(skip))\n",
    "log.info(OPENAI_KEY_5)"
   ]
  },
  {
   "cell_type": "code",
   "execution_count": 443,
   "metadata": {},
   "outputs": [],
   "source": [
    "# skip =[\n",
    "#     1994,\n",
    "#     2212,\n",
    "#     2222,\n",
    "#     2244,\n",
    "#     263,\n",
    "#     2722,\n",
    "#     2768,\n",
    "#     2540,\n",
    "#     2676\n",
    "# ]"
   ]
  },
  {
   "cell_type": "code",
   "execution_count": 444,
   "metadata": {},
   "outputs": [
    {
     "name": "stderr",
     "output_type": "stream",
     "text": [
      "[ INFO] [2024-06-01 14:14:34,347] [4189259365] [11] [Converting question 3891]\n",
      "[ INFO] [2024-06-01 14:14:34,349] [openai] [49] [Sending request to openai api.]\n",
      "[ DEBUG] [2024-06-01 14:14:34,351] [connectionpool] [1055] [Starting new HTTPS connection (1): api.openai.com:443]\n",
      "[ DEBUG] [2024-06-01 14:14:34,857] [connectionpool] [549] [https://api.openai.com:443 \"POST /v1/chat/completions HTTP/1.1\" 429 337]\n",
      "[ DEBUG] [2024-06-01 14:14:34,859] [openai] [53] [OpenAI api did not send 200 status code: 429]\n",
      "[ DEBUG] [2024-06-01 14:14:34,860] [openai] [54] [Response: {'message': 'You exceeded your current quota, please check your plan and billing details. For more information on this error, read the docs: https://platform.openai.com/docs/guides/error-codes/api-errors.', 'type': 'insufficient_quota', 'param': None, 'code': 'insufficient_quota'}]\n",
      "[ INFO] [2024-06-01 14:14:34,862] [4273307920] [9] [You exceeded your current quota, please check your plan and billing details. For more information on this error, read the docs: https://platform.openai.com/docs/guides/error-codes/api-errors.]\n",
      "[ ERROR] [2024-06-01 14:14:34,863] [4273307920] [24] [Opena ai didnot respond]\n",
      "[ ERROR] [2024-06-01 14:14:34,864] [4189259365] [16] [Conversion failed 3891]\n",
      "[ INFO] [2024-06-01 14:14:34,865] [4189259365] [11] [Converting question 3919]\n",
      "[ INFO] [2024-06-01 14:14:34,865] [openai] [49] [Sending request to openai api.]\n",
      "[ DEBUG] [2024-06-01 14:14:34,867] [connectionpool] [1055] [Starting new HTTPS connection (1): api.openai.com:443]\n",
      "[ DEBUG] [2024-06-01 14:14:35,244] [connectionpool] [549] [https://api.openai.com:443 \"POST /v1/chat/completions HTTP/1.1\" 429 337]\n",
      "[ DEBUG] [2024-06-01 14:14:35,246] [openai] [53] [OpenAI api did not send 200 status code: 429]\n",
      "[ DEBUG] [2024-06-01 14:14:35,247] [openai] [54] [Response: {'message': 'You exceeded your current quota, please check your plan and billing details. For more information on this error, read the docs: https://platform.openai.com/docs/guides/error-codes/api-errors.', 'type': 'insufficient_quota', 'param': None, 'code': 'insufficient_quota'}]\n",
      "[ INFO] [2024-06-01 14:14:35,249] [4273307920] [9] [You exceeded your current quota, please check your plan and billing details. For more information on this error, read the docs: https://platform.openai.com/docs/guides/error-codes/api-errors.]\n",
      "[ ERROR] [2024-06-01 14:14:35,250] [4273307920] [24] [Opena ai didnot respond]\n",
      "[ ERROR] [2024-06-01 14:14:35,250] [4189259365] [16] [Conversion failed 3919]\n",
      "[ INFO] [2024-06-01 14:14:35,252] [4189259365] [11] [Converting question 4075]\n",
      "[ INFO] [2024-06-01 14:14:35,253] [openai] [49] [Sending request to openai api.]\n",
      "[ DEBUG] [2024-06-01 14:14:35,254] [connectionpool] [1055] [Starting new HTTPS connection (1): api.openai.com:443]\n",
      "[ DEBUG] [2024-06-01 14:14:35,635] [connectionpool] [549] [https://api.openai.com:443 \"POST /v1/chat/completions HTTP/1.1\" 429 337]\n",
      "[ DEBUG] [2024-06-01 14:14:35,637] [openai] [53] [OpenAI api did not send 200 status code: 429]\n",
      "[ DEBUG] [2024-06-01 14:14:35,638] [openai] [54] [Response: {'message': 'You exceeded your current quota, please check your plan and billing details. For more information on this error, read the docs: https://platform.openai.com/docs/guides/error-codes/api-errors.', 'type': 'insufficient_quota', 'param': None, 'code': 'insufficient_quota'}]\n",
      "[ INFO] [2024-06-01 14:14:35,640] [4273307920] [9] [You exceeded your current quota, please check your plan and billing details. For more information on this error, read the docs: https://platform.openai.com/docs/guides/error-codes/api-errors.]\n",
      "[ ERROR] [2024-06-01 14:14:35,641] [4273307920] [24] [Opena ai didnot respond]\n",
      "[ ERROR] [2024-06-01 14:14:35,642] [4189259365] [16] [Conversion failed 4075]\n",
      "[ INFO] [2024-06-01 14:14:35,643] [4189259365] [11] [Converting question 4086]\n",
      "[ INFO] [2024-06-01 14:14:35,644] [openai] [49] [Sending request to openai api.]\n",
      "[ DEBUG] [2024-06-01 14:14:35,645] [connectionpool] [1055] [Starting new HTTPS connection (1): api.openai.com:443]\n",
      "[ DEBUG] [2024-06-01 14:14:36,002] [connectionpool] [549] [https://api.openai.com:443 \"POST /v1/chat/completions HTTP/1.1\" 429 337]\n",
      "[ DEBUG] [2024-06-01 14:14:36,005] [openai] [53] [OpenAI api did not send 200 status code: 429]\n",
      "[ DEBUG] [2024-06-01 14:14:36,009] [openai] [54] [Response: {'message': 'You exceeded your current quota, please check your plan and billing details. For more information on this error, read the docs: https://platform.openai.com/docs/guides/error-codes/api-errors.', 'type': 'insufficient_quota', 'param': None, 'code': 'insufficient_quota'}]\n",
      "[ INFO] [2024-06-01 14:14:36,011] [4273307920] [9] [You exceeded your current quota, please check your plan and billing details. For more information on this error, read the docs: https://platform.openai.com/docs/guides/error-codes/api-errors.]\n",
      "[ ERROR] [2024-06-01 14:14:36,012] [4273307920] [24] [Opena ai didnot respond]\n",
      "[ ERROR] [2024-06-01 14:14:36,013] [4189259365] [16] [Conversion failed 4086]\n",
      "[ INFO] [2024-06-01 14:14:36,013] [4189259365] [11] [Converting question 4111]\n",
      "[ INFO] [2024-06-01 14:14:36,014] [openai] [49] [Sending request to openai api.]\n",
      "[ DEBUG] [2024-06-01 14:14:36,016] [connectionpool] [1055] [Starting new HTTPS connection (1): api.openai.com:443]\n",
      "[ DEBUG] [2024-06-01 14:14:36,403] [connectionpool] [549] [https://api.openai.com:443 \"POST /v1/chat/completions HTTP/1.1\" 429 337]\n",
      "[ DEBUG] [2024-06-01 14:14:36,405] [openai] [53] [OpenAI api did not send 200 status code: 429]\n",
      "[ DEBUG] [2024-06-01 14:14:36,406] [openai] [54] [Response: {'message': 'You exceeded your current quota, please check your plan and billing details. For more information on this error, read the docs: https://platform.openai.com/docs/guides/error-codes/api-errors.', 'type': 'insufficient_quota', 'param': None, 'code': 'insufficient_quota'}]\n",
      "[ INFO] [2024-06-01 14:14:36,408] [4273307920] [9] [You exceeded your current quota, please check your plan and billing details. For more information on this error, read the docs: https://platform.openai.com/docs/guides/error-codes/api-errors.]\n",
      "[ ERROR] [2024-06-01 14:14:36,409] [4273307920] [24] [Opena ai didnot respond]\n",
      "[ ERROR] [2024-06-01 14:14:36,410] [4189259365] [16] [Conversion failed 4111]\n",
      "[ INFO] [2024-06-01 14:14:36,411] [4189259365] [11] [Converting question 4113]\n",
      "[ INFO] [2024-06-01 14:14:36,411] [openai] [49] [Sending request to openai api.]\n",
      "[ DEBUG] [2024-06-01 14:14:36,413] [connectionpool] [1055] [Starting new HTTPS connection (1): api.openai.com:443]\n",
      "[ DEBUG] [2024-06-01 14:14:36,804] [connectionpool] [549] [https://api.openai.com:443 \"POST /v1/chat/completions HTTP/1.1\" 429 337]\n",
      "[ DEBUG] [2024-06-01 14:14:36,805] [openai] [53] [OpenAI api did not send 200 status code: 429]\n",
      "[ DEBUG] [2024-06-01 14:14:36,806] [openai] [54] [Response: {'message': 'You exceeded your current quota, please check your plan and billing details. For more information on this error, read the docs: https://platform.openai.com/docs/guides/error-codes/api-errors.', 'type': 'insufficient_quota', 'param': None, 'code': 'insufficient_quota'}]\n",
      "[ INFO] [2024-06-01 14:14:36,808] [4273307920] [9] [You exceeded your current quota, please check your plan and billing details. For more information on this error, read the docs: https://platform.openai.com/docs/guides/error-codes/api-errors.]\n",
      "[ ERROR] [2024-06-01 14:14:36,810] [4273307920] [24] [Opena ai didnot respond]\n",
      "[ ERROR] [2024-06-01 14:14:36,811] [4189259365] [16] [Conversion failed 4113]\n",
      "[ INFO] [2024-06-01 14:14:36,812] [4189259365] [11] [Converting question 4114]\n",
      "[ INFO] [2024-06-01 14:14:36,813] [openai] [49] [Sending request to openai api.]\n",
      "[ DEBUG] [2024-06-01 14:14:36,814] [connectionpool] [1055] [Starting new HTTPS connection (1): api.openai.com:443]\n",
      "[ DEBUG] [2024-06-01 14:14:37,213] [connectionpool] [549] [https://api.openai.com:443 \"POST /v1/chat/completions HTTP/1.1\" 429 337]\n",
      "[ DEBUG] [2024-06-01 14:14:37,214] [openai] [53] [OpenAI api did not send 200 status code: 429]\n",
      "[ DEBUG] [2024-06-01 14:14:37,215] [openai] [54] [Response: {'message': 'You exceeded your current quota, please check your plan and billing details. For more information on this error, read the docs: https://platform.openai.com/docs/guides/error-codes/api-errors.', 'type': 'insufficient_quota', 'param': None, 'code': 'insufficient_quota'}]\n",
      "[ INFO] [2024-06-01 14:14:37,217] [4273307920] [9] [You exceeded your current quota, please check your plan and billing details. For more information on this error, read the docs: https://platform.openai.com/docs/guides/error-codes/api-errors.]\n",
      "[ ERROR] [2024-06-01 14:14:37,218] [4273307920] [24] [Opena ai didnot respond]\n",
      "[ ERROR] [2024-06-01 14:14:37,219] [4189259365] [16] [Conversion failed 4114]\n",
      "[ INFO] [2024-06-01 14:14:37,221] [4189259365] [11] [Converting question 4115]\n",
      "[ INFO] [2024-06-01 14:14:37,222] [openai] [49] [Sending request to openai api.]\n",
      "[ DEBUG] [2024-06-01 14:14:37,223] [connectionpool] [1055] [Starting new HTTPS connection (1): api.openai.com:443]\n",
      "[ DEBUG] [2024-06-01 14:14:37,600] [connectionpool] [549] [https://api.openai.com:443 \"POST /v1/chat/completions HTTP/1.1\" 429 337]\n",
      "[ DEBUG] [2024-06-01 14:14:37,602] [openai] [53] [OpenAI api did not send 200 status code: 429]\n",
      "[ DEBUG] [2024-06-01 14:14:37,604] [openai] [54] [Response: {'message': 'You exceeded your current quota, please check your plan and billing details. For more information on this error, read the docs: https://platform.openai.com/docs/guides/error-codes/api-errors.', 'type': 'insufficient_quota', 'param': None, 'code': 'insufficient_quota'}]\n",
      "[ INFO] [2024-06-01 14:14:37,605] [4273307920] [9] [You exceeded your current quota, please check your plan and billing details. For more information on this error, read the docs: https://platform.openai.com/docs/guides/error-codes/api-errors.]\n",
      "[ ERROR] [2024-06-01 14:14:37,607] [4273307920] [24] [Opena ai didnot respond]\n",
      "[ ERROR] [2024-06-01 14:14:37,608] [4189259365] [16] [Conversion failed 4115]\n",
      "[ INFO] [2024-06-01 14:14:37,609] [4189259365] [11] [Converting question 4116]\n",
      "[ INFO] [2024-06-01 14:14:37,609] [openai] [49] [Sending request to openai api.]\n",
      "[ DEBUG] [2024-06-01 14:14:37,611] [connectionpool] [1055] [Starting new HTTPS connection (1): api.openai.com:443]\n",
      "[ DEBUG] [2024-06-01 14:14:37,968] [connectionpool] [549] [https://api.openai.com:443 \"POST /v1/chat/completions HTTP/1.1\" 429 337]\n",
      "[ DEBUG] [2024-06-01 14:14:37,970] [openai] [53] [OpenAI api did not send 200 status code: 429]\n",
      "[ DEBUG] [2024-06-01 14:14:37,971] [openai] [54] [Response: {'message': 'You exceeded your current quota, please check your plan and billing details. For more information on this error, read the docs: https://platform.openai.com/docs/guides/error-codes/api-errors.', 'type': 'insufficient_quota', 'param': None, 'code': 'insufficient_quota'}]\n",
      "[ INFO] [2024-06-01 14:14:37,973] [4273307920] [9] [You exceeded your current quota, please check your plan and billing details. For more information on this error, read the docs: https://platform.openai.com/docs/guides/error-codes/api-errors.]\n",
      "[ ERROR] [2024-06-01 14:14:37,974] [4273307920] [24] [Opena ai didnot respond]\n",
      "[ ERROR] [2024-06-01 14:14:37,975] [4189259365] [16] [Conversion failed 4116]\n",
      "[ INFO] [2024-06-01 14:14:37,976] [4189259365] [11] [Converting question 4117]\n",
      "[ INFO] [2024-06-01 14:14:37,977] [openai] [49] [Sending request to openai api.]\n",
      "[ DEBUG] [2024-06-01 14:14:37,978] [connectionpool] [1055] [Starting new HTTPS connection (1): api.openai.com:443]\n",
      "[ DEBUG] [2024-06-01 14:14:38,365] [connectionpool] [549] [https://api.openai.com:443 \"POST /v1/chat/completions HTTP/1.1\" 429 337]\n",
      "[ DEBUG] [2024-06-01 14:14:38,366] [openai] [53] [OpenAI api did not send 200 status code: 429]\n",
      "[ DEBUG] [2024-06-01 14:14:38,367] [openai] [54] [Response: {'message': 'You exceeded your current quota, please check your plan and billing details. For more information on this error, read the docs: https://platform.openai.com/docs/guides/error-codes/api-errors.', 'type': 'insufficient_quota', 'param': None, 'code': 'insufficient_quota'}]\n",
      "[ INFO] [2024-06-01 14:14:38,369] [4273307920] [9] [You exceeded your current quota, please check your plan and billing details. For more information on this error, read the docs: https://platform.openai.com/docs/guides/error-codes/api-errors.]\n",
      "[ ERROR] [2024-06-01 14:14:38,371] [4273307920] [24] [Opena ai didnot respond]\n",
      "[ ERROR] [2024-06-01 14:14:38,372] [4189259365] [16] [Conversion failed 4117]\n",
      "[ INFO] [2024-06-01 14:14:38,373] [4189259365] [11] [Converting question 4118]\n",
      "[ INFO] [2024-06-01 14:14:38,373] [openai] [49] [Sending request to openai api.]\n",
      "[ DEBUG] [2024-06-01 14:14:38,375] [connectionpool] [1055] [Starting new HTTPS connection (1): api.openai.com:443]\n",
      "[ DEBUG] [2024-06-01 14:14:38,742] [connectionpool] [549] [https://api.openai.com:443 \"POST /v1/chat/completions HTTP/1.1\" 429 337]\n",
      "[ DEBUG] [2024-06-01 14:14:38,744] [openai] [53] [OpenAI api did not send 200 status code: 429]\n",
      "[ DEBUG] [2024-06-01 14:14:38,745] [openai] [54] [Response: {'message': 'You exceeded your current quota, please check your plan and billing details. For more information on this error, read the docs: https://platform.openai.com/docs/guides/error-codes/api-errors.', 'type': 'insufficient_quota', 'param': None, 'code': 'insufficient_quota'}]\n",
      "[ INFO] [2024-06-01 14:14:38,747] [4273307920] [9] [You exceeded your current quota, please check your plan and billing details. For more information on this error, read the docs: https://platform.openai.com/docs/guides/error-codes/api-errors.]\n",
      "[ ERROR] [2024-06-01 14:14:38,748] [4273307920] [24] [Opena ai didnot respond]\n",
      "[ ERROR] [2024-06-01 14:14:38,748] [4189259365] [16] [Conversion failed 4118]\n",
      "[ INFO] [2024-06-01 14:14:38,749] [4189259365] [11] [Converting question 4119]\n",
      "[ INFO] [2024-06-01 14:14:38,750] [openai] [49] [Sending request to openai api.]\n",
      "[ DEBUG] [2024-06-01 14:14:38,752] [connectionpool] [1055] [Starting new HTTPS connection (1): api.openai.com:443]\n"
     ]
    },
    {
     "ename": "KeyboardInterrupt",
     "evalue": "",
     "output_type": "error",
     "traceback": [
      "\u001b[0;31m---------------------------------------------------------------------------\u001b[0m",
      "\u001b[0;31mKeyboardInterrupt\u001b[0m                         Traceback (most recent call last)",
      "Cell \u001b[0;32mIn[444], line 14\u001b[0m\n\u001b[1;32m     11\u001b[0m log\u001b[38;5;241m.\u001b[39minfo(\u001b[38;5;124mf\u001b[39m\u001b[38;5;124m'\u001b[39m\u001b[38;5;124mConverting question \u001b[39m\u001b[38;5;132;01m{\u001b[39;00mqno\u001b[38;5;132;01m}\u001b[39;00m\u001b[38;5;124m'\u001b[39m)\n\u001b[1;32m     12\u001b[0m \u001b[38;5;28;01mtry\u001b[39;00m:\n\u001b[1;32m     13\u001b[0m     \u001b[38;5;66;03m# log.info(data)\u001b[39;00m\n\u001b[0;32m---> 14\u001b[0m     converted \u001b[38;5;241m=\u001b[39m \u001b[43mconvert_question\u001b[49m\u001b[43m(\u001b[49m\u001b[43mdata\u001b[49m\u001b[43m,\u001b[49m\u001b[43m \u001b[49m\u001b[43mOPENAI_KEY\u001b[49m\u001b[38;5;241;43m=\u001b[39;49m\u001b[43mOPENAI_KEY_4\u001b[49m\u001b[43m)\u001b[49m\n\u001b[1;32m     15\u001b[0m     \u001b[38;5;28;01mif\u001b[39;00m \u001b[38;5;129;01mnot\u001b[39;00m converted:\n\u001b[1;32m     16\u001b[0m         log\u001b[38;5;241m.\u001b[39merror(\u001b[38;5;124mf\u001b[39m\u001b[38;5;124m'\u001b[39m\u001b[38;5;124mConversion failed \u001b[39m\u001b[38;5;132;01m{\u001b[39;00mqno\u001b[38;5;132;01m}\u001b[39;00m\u001b[38;5;124m'\u001b[39m)\n",
      "Cell \u001b[0;32mIn[441], line 6\u001b[0m, in \u001b[0;36mconvert_question\u001b[0;34m(input_data, OPENAI_KEY)\u001b[0m\n\u001b[1;32m      4\u001b[0m \u001b[38;5;28;01mtry\u001b[39;00m:\n\u001b[1;32m      5\u001b[0m     USER_PROMPT \u001b[38;5;241m=\u001b[39m \u001b[38;5;28mstr\u001b[39m(input_data)\n\u001b[0;32m----> 6\u001b[0m     data, error \u001b[38;5;241m=\u001b[39m \u001b[43mOpenAI\u001b[49m\u001b[38;5;241;43m.\u001b[39;49m\u001b[43mgenerate_completion\u001b[49m\u001b[43m(\u001b[49m\u001b[43mSYSTEM_PROMPT\u001b[49m\u001b[43m,\u001b[49m\u001b[43m \u001b[49m\u001b[43mUSER_PROMPT\u001b[49m\u001b[43m,\u001b[49m\u001b[43m \u001b[49m\u001b[43mOPENAI_KEY\u001b[49m\u001b[43m)\u001b[49m\n\u001b[1;32m      7\u001b[0m     \u001b[38;5;28;01mif\u001b[39;00m \u001b[38;5;129;01mnot\u001b[39;00m data \u001b[38;5;129;01mand\u001b[39;00m error:\n\u001b[1;32m      8\u001b[0m         message \u001b[38;5;241m=\u001b[39m error\u001b[38;5;241m.\u001b[39mget(\u001b[38;5;124m\"\u001b[39m\u001b[38;5;124mmessage\u001b[39m\u001b[38;5;124m\"\u001b[39m, \u001b[38;5;28;01mNone\u001b[39;00m)\n",
      "File \u001b[0;32m~/ml-experts/question-converter/openai.py:50\u001b[0m, in \u001b[0;36mOpenAI.generate_completion\u001b[0;34m(cls, SYSTEM_PROMPT, USER_PROMPT, OPENAI_KEY)\u001b[0m\n\u001b[1;32m     48\u001b[0m \u001b[38;5;28;01mtry\u001b[39;00m:\n\u001b[1;32m     49\u001b[0m     log\u001b[38;5;241m.\u001b[39minfo(\u001b[38;5;124m'\u001b[39m\u001b[38;5;124mSending request to openai api.\u001b[39m\u001b[38;5;124m'\u001b[39m)\n\u001b[0;32m---> 50\u001b[0m     response \u001b[38;5;241m=\u001b[39m \u001b[43mrequests\u001b[49m\u001b[38;5;241;43m.\u001b[39;49m\u001b[43mpost\u001b[49m\u001b[43m(\u001b[49m\u001b[43murl\u001b[49m\u001b[43m,\u001b[49m\u001b[43m \u001b[49m\u001b[43mjson\u001b[49m\u001b[38;5;241;43m=\u001b[39;49m\u001b[43mdata\u001b[49m\u001b[43m,\u001b[49m\u001b[43m \u001b[49m\u001b[43mheaders\u001b[49m\u001b[38;5;241;43m=\u001b[39;49m\u001b[38;5;28;43mcls\u001b[39;49m\u001b[38;5;241;43m.\u001b[39;49m\u001b[43mget_headers\u001b[49m\u001b[43m(\u001b[49m\u001b[43mOPENAI_KEY\u001b[49m\u001b[43m)\u001b[49m\u001b[43m)\u001b[49m\n\u001b[1;32m     52\u001b[0m     \u001b[38;5;28;01mif\u001b[39;00m response\u001b[38;5;241m.\u001b[39mstatus_code \u001b[38;5;241m!=\u001b[39m \u001b[38;5;241m200\u001b[39m:\n\u001b[1;32m     53\u001b[0m         log\u001b[38;5;241m.\u001b[39mdebug(\u001b[38;5;124mf\u001b[39m\u001b[38;5;124m'\u001b[39m\u001b[38;5;124mOpenAI api did not send 200 status code: \u001b[39m\u001b[38;5;132;01m{\u001b[39;00mresponse\u001b[38;5;241m.\u001b[39mstatus_code\u001b[38;5;132;01m}\u001b[39;00m\u001b[38;5;124m'\u001b[39m)\n",
      "File \u001b[0;32m~/ml-experts/question-converter/.venv/lib/python3.10/site-packages/requests/api.py:115\u001b[0m, in \u001b[0;36mpost\u001b[0;34m(url, data, json, **kwargs)\u001b[0m\n\u001b[1;32m    103\u001b[0m \u001b[38;5;28;01mdef\u001b[39;00m \u001b[38;5;21mpost\u001b[39m(url, data\u001b[38;5;241m=\u001b[39m\u001b[38;5;28;01mNone\u001b[39;00m, json\u001b[38;5;241m=\u001b[39m\u001b[38;5;28;01mNone\u001b[39;00m, \u001b[38;5;241m*\u001b[39m\u001b[38;5;241m*\u001b[39mkwargs):\n\u001b[1;32m    104\u001b[0m \u001b[38;5;250m    \u001b[39m\u001b[38;5;124mr\u001b[39m\u001b[38;5;124;03m\"\"\"Sends a POST request.\u001b[39;00m\n\u001b[1;32m    105\u001b[0m \n\u001b[1;32m    106\u001b[0m \u001b[38;5;124;03m    :param url: URL for the new :class:`Request` object.\u001b[39;00m\n\u001b[0;32m   (...)\u001b[0m\n\u001b[1;32m    112\u001b[0m \u001b[38;5;124;03m    :rtype: requests.Response\u001b[39;00m\n\u001b[1;32m    113\u001b[0m \u001b[38;5;124;03m    \"\"\"\u001b[39;00m\n\u001b[0;32m--> 115\u001b[0m     \u001b[38;5;28;01mreturn\u001b[39;00m \u001b[43mrequest\u001b[49m\u001b[43m(\u001b[49m\u001b[38;5;124;43m\"\u001b[39;49m\u001b[38;5;124;43mpost\u001b[39;49m\u001b[38;5;124;43m\"\u001b[39;49m\u001b[43m,\u001b[49m\u001b[43m \u001b[49m\u001b[43murl\u001b[49m\u001b[43m,\u001b[49m\u001b[43m \u001b[49m\u001b[43mdata\u001b[49m\u001b[38;5;241;43m=\u001b[39;49m\u001b[43mdata\u001b[49m\u001b[43m,\u001b[49m\u001b[43m \u001b[49m\u001b[43mjson\u001b[49m\u001b[38;5;241;43m=\u001b[39;49m\u001b[43mjson\u001b[49m\u001b[43m,\u001b[49m\u001b[43m \u001b[49m\u001b[38;5;241;43m*\u001b[39;49m\u001b[38;5;241;43m*\u001b[39;49m\u001b[43mkwargs\u001b[49m\u001b[43m)\u001b[49m\n",
      "File \u001b[0;32m~/ml-experts/question-converter/.venv/lib/python3.10/site-packages/requests/api.py:59\u001b[0m, in \u001b[0;36mrequest\u001b[0;34m(method, url, **kwargs)\u001b[0m\n\u001b[1;32m     55\u001b[0m \u001b[38;5;66;03m# By using the 'with' statement we are sure the session is closed, thus we\u001b[39;00m\n\u001b[1;32m     56\u001b[0m \u001b[38;5;66;03m# avoid leaving sockets open which can trigger a ResourceWarning in some\u001b[39;00m\n\u001b[1;32m     57\u001b[0m \u001b[38;5;66;03m# cases, and look like a memory leak in others.\u001b[39;00m\n\u001b[1;32m     58\u001b[0m \u001b[38;5;28;01mwith\u001b[39;00m sessions\u001b[38;5;241m.\u001b[39mSession() \u001b[38;5;28;01mas\u001b[39;00m session:\n\u001b[0;32m---> 59\u001b[0m     \u001b[38;5;28;01mreturn\u001b[39;00m \u001b[43msession\u001b[49m\u001b[38;5;241;43m.\u001b[39;49m\u001b[43mrequest\u001b[49m\u001b[43m(\u001b[49m\u001b[43mmethod\u001b[49m\u001b[38;5;241;43m=\u001b[39;49m\u001b[43mmethod\u001b[49m\u001b[43m,\u001b[49m\u001b[43m \u001b[49m\u001b[43murl\u001b[49m\u001b[38;5;241;43m=\u001b[39;49m\u001b[43murl\u001b[49m\u001b[43m,\u001b[49m\u001b[43m \u001b[49m\u001b[38;5;241;43m*\u001b[39;49m\u001b[38;5;241;43m*\u001b[39;49m\u001b[43mkwargs\u001b[49m\u001b[43m)\u001b[49m\n",
      "File \u001b[0;32m~/ml-experts/question-converter/.venv/lib/python3.10/site-packages/requests/sessions.py:589\u001b[0m, in \u001b[0;36mSession.request\u001b[0;34m(self, method, url, params, data, headers, cookies, files, auth, timeout, allow_redirects, proxies, hooks, stream, verify, cert, json)\u001b[0m\n\u001b[1;32m    584\u001b[0m send_kwargs \u001b[38;5;241m=\u001b[39m {\n\u001b[1;32m    585\u001b[0m     \u001b[38;5;124m\"\u001b[39m\u001b[38;5;124mtimeout\u001b[39m\u001b[38;5;124m\"\u001b[39m: timeout,\n\u001b[1;32m    586\u001b[0m     \u001b[38;5;124m\"\u001b[39m\u001b[38;5;124mallow_redirects\u001b[39m\u001b[38;5;124m\"\u001b[39m: allow_redirects,\n\u001b[1;32m    587\u001b[0m }\n\u001b[1;32m    588\u001b[0m send_kwargs\u001b[38;5;241m.\u001b[39mupdate(settings)\n\u001b[0;32m--> 589\u001b[0m resp \u001b[38;5;241m=\u001b[39m \u001b[38;5;28;43mself\u001b[39;49m\u001b[38;5;241;43m.\u001b[39;49m\u001b[43msend\u001b[49m\u001b[43m(\u001b[49m\u001b[43mprep\u001b[49m\u001b[43m,\u001b[49m\u001b[43m \u001b[49m\u001b[38;5;241;43m*\u001b[39;49m\u001b[38;5;241;43m*\u001b[39;49m\u001b[43msend_kwargs\u001b[49m\u001b[43m)\u001b[49m\n\u001b[1;32m    591\u001b[0m \u001b[38;5;28;01mreturn\u001b[39;00m resp\n",
      "File \u001b[0;32m~/ml-experts/question-converter/.venv/lib/python3.10/site-packages/requests/sessions.py:703\u001b[0m, in \u001b[0;36mSession.send\u001b[0;34m(self, request, **kwargs)\u001b[0m\n\u001b[1;32m    700\u001b[0m start \u001b[38;5;241m=\u001b[39m preferred_clock()\n\u001b[1;32m    702\u001b[0m \u001b[38;5;66;03m# Send the request\u001b[39;00m\n\u001b[0;32m--> 703\u001b[0m r \u001b[38;5;241m=\u001b[39m \u001b[43madapter\u001b[49m\u001b[38;5;241;43m.\u001b[39;49m\u001b[43msend\u001b[49m\u001b[43m(\u001b[49m\u001b[43mrequest\u001b[49m\u001b[43m,\u001b[49m\u001b[43m \u001b[49m\u001b[38;5;241;43m*\u001b[39;49m\u001b[38;5;241;43m*\u001b[39;49m\u001b[43mkwargs\u001b[49m\u001b[43m)\u001b[49m\n\u001b[1;32m    705\u001b[0m \u001b[38;5;66;03m# Total elapsed time of the request (approximately)\u001b[39;00m\n\u001b[1;32m    706\u001b[0m elapsed \u001b[38;5;241m=\u001b[39m preferred_clock() \u001b[38;5;241m-\u001b[39m start\n",
      "File \u001b[0;32m~/ml-experts/question-converter/.venv/lib/python3.10/site-packages/requests/adapters.py:486\u001b[0m, in \u001b[0;36mHTTPAdapter.send\u001b[0;34m(self, request, stream, timeout, verify, cert, proxies)\u001b[0m\n\u001b[1;32m    483\u001b[0m     timeout \u001b[38;5;241m=\u001b[39m TimeoutSauce(connect\u001b[38;5;241m=\u001b[39mtimeout, read\u001b[38;5;241m=\u001b[39mtimeout)\n\u001b[1;32m    485\u001b[0m \u001b[38;5;28;01mtry\u001b[39;00m:\n\u001b[0;32m--> 486\u001b[0m     resp \u001b[38;5;241m=\u001b[39m \u001b[43mconn\u001b[49m\u001b[38;5;241;43m.\u001b[39;49m\u001b[43murlopen\u001b[49m\u001b[43m(\u001b[49m\n\u001b[1;32m    487\u001b[0m \u001b[43m        \u001b[49m\u001b[43mmethod\u001b[49m\u001b[38;5;241;43m=\u001b[39;49m\u001b[43mrequest\u001b[49m\u001b[38;5;241;43m.\u001b[39;49m\u001b[43mmethod\u001b[49m\u001b[43m,\u001b[49m\n\u001b[1;32m    488\u001b[0m \u001b[43m        \u001b[49m\u001b[43murl\u001b[49m\u001b[38;5;241;43m=\u001b[39;49m\u001b[43murl\u001b[49m\u001b[43m,\u001b[49m\n\u001b[1;32m    489\u001b[0m \u001b[43m        \u001b[49m\u001b[43mbody\u001b[49m\u001b[38;5;241;43m=\u001b[39;49m\u001b[43mrequest\u001b[49m\u001b[38;5;241;43m.\u001b[39;49m\u001b[43mbody\u001b[49m\u001b[43m,\u001b[49m\n\u001b[1;32m    490\u001b[0m \u001b[43m        \u001b[49m\u001b[43mheaders\u001b[49m\u001b[38;5;241;43m=\u001b[39;49m\u001b[43mrequest\u001b[49m\u001b[38;5;241;43m.\u001b[39;49m\u001b[43mheaders\u001b[49m\u001b[43m,\u001b[49m\n\u001b[1;32m    491\u001b[0m \u001b[43m        \u001b[49m\u001b[43mredirect\u001b[49m\u001b[38;5;241;43m=\u001b[39;49m\u001b[38;5;28;43;01mFalse\u001b[39;49;00m\u001b[43m,\u001b[49m\n\u001b[1;32m    492\u001b[0m \u001b[43m        \u001b[49m\u001b[43massert_same_host\u001b[49m\u001b[38;5;241;43m=\u001b[39;49m\u001b[38;5;28;43;01mFalse\u001b[39;49;00m\u001b[43m,\u001b[49m\n\u001b[1;32m    493\u001b[0m \u001b[43m        \u001b[49m\u001b[43mpreload_content\u001b[49m\u001b[38;5;241;43m=\u001b[39;49m\u001b[38;5;28;43;01mFalse\u001b[39;49;00m\u001b[43m,\u001b[49m\n\u001b[1;32m    494\u001b[0m \u001b[43m        \u001b[49m\u001b[43mdecode_content\u001b[49m\u001b[38;5;241;43m=\u001b[39;49m\u001b[38;5;28;43;01mFalse\u001b[39;49;00m\u001b[43m,\u001b[49m\n\u001b[1;32m    495\u001b[0m \u001b[43m        \u001b[49m\u001b[43mretries\u001b[49m\u001b[38;5;241;43m=\u001b[39;49m\u001b[38;5;28;43mself\u001b[39;49m\u001b[38;5;241;43m.\u001b[39;49m\u001b[43mmax_retries\u001b[49m\u001b[43m,\u001b[49m\n\u001b[1;32m    496\u001b[0m \u001b[43m        \u001b[49m\u001b[43mtimeout\u001b[49m\u001b[38;5;241;43m=\u001b[39;49m\u001b[43mtimeout\u001b[49m\u001b[43m,\u001b[49m\n\u001b[1;32m    497\u001b[0m \u001b[43m        \u001b[49m\u001b[43mchunked\u001b[49m\u001b[38;5;241;43m=\u001b[39;49m\u001b[43mchunked\u001b[49m\u001b[43m,\u001b[49m\n\u001b[1;32m    498\u001b[0m \u001b[43m    \u001b[49m\u001b[43m)\u001b[49m\n\u001b[1;32m    500\u001b[0m \u001b[38;5;28;01mexcept\u001b[39;00m (ProtocolError, \u001b[38;5;167;01mOSError\u001b[39;00m) \u001b[38;5;28;01mas\u001b[39;00m err:\n\u001b[1;32m    501\u001b[0m     \u001b[38;5;28;01mraise\u001b[39;00m \u001b[38;5;167;01mConnectionError\u001b[39;00m(err, request\u001b[38;5;241m=\u001b[39mrequest)\n",
      "File \u001b[0;32m~/ml-experts/question-converter/.venv/lib/python3.10/site-packages/urllib3/connectionpool.py:793\u001b[0m, in \u001b[0;36mHTTPConnectionPool.urlopen\u001b[0;34m(self, method, url, body, headers, retries, redirect, assert_same_host, timeout, pool_timeout, release_conn, chunked, body_pos, preload_content, decode_content, **response_kw)\u001b[0m\n\u001b[1;32m    790\u001b[0m response_conn \u001b[38;5;241m=\u001b[39m conn \u001b[38;5;28;01mif\u001b[39;00m \u001b[38;5;129;01mnot\u001b[39;00m release_conn \u001b[38;5;28;01melse\u001b[39;00m \u001b[38;5;28;01mNone\u001b[39;00m\n\u001b[1;32m    792\u001b[0m \u001b[38;5;66;03m# Make the request on the HTTPConnection object\u001b[39;00m\n\u001b[0;32m--> 793\u001b[0m response \u001b[38;5;241m=\u001b[39m \u001b[38;5;28;43mself\u001b[39;49m\u001b[38;5;241;43m.\u001b[39;49m\u001b[43m_make_request\u001b[49m\u001b[43m(\u001b[49m\n\u001b[1;32m    794\u001b[0m \u001b[43m    \u001b[49m\u001b[43mconn\u001b[49m\u001b[43m,\u001b[49m\n\u001b[1;32m    795\u001b[0m \u001b[43m    \u001b[49m\u001b[43mmethod\u001b[49m\u001b[43m,\u001b[49m\n\u001b[1;32m    796\u001b[0m \u001b[43m    \u001b[49m\u001b[43murl\u001b[49m\u001b[43m,\u001b[49m\n\u001b[1;32m    797\u001b[0m \u001b[43m    \u001b[49m\u001b[43mtimeout\u001b[49m\u001b[38;5;241;43m=\u001b[39;49m\u001b[43mtimeout_obj\u001b[49m\u001b[43m,\u001b[49m\n\u001b[1;32m    798\u001b[0m \u001b[43m    \u001b[49m\u001b[43mbody\u001b[49m\u001b[38;5;241;43m=\u001b[39;49m\u001b[43mbody\u001b[49m\u001b[43m,\u001b[49m\n\u001b[1;32m    799\u001b[0m \u001b[43m    \u001b[49m\u001b[43mheaders\u001b[49m\u001b[38;5;241;43m=\u001b[39;49m\u001b[43mheaders\u001b[49m\u001b[43m,\u001b[49m\n\u001b[1;32m    800\u001b[0m \u001b[43m    \u001b[49m\u001b[43mchunked\u001b[49m\u001b[38;5;241;43m=\u001b[39;49m\u001b[43mchunked\u001b[49m\u001b[43m,\u001b[49m\n\u001b[1;32m    801\u001b[0m \u001b[43m    \u001b[49m\u001b[43mretries\u001b[49m\u001b[38;5;241;43m=\u001b[39;49m\u001b[43mretries\u001b[49m\u001b[43m,\u001b[49m\n\u001b[1;32m    802\u001b[0m \u001b[43m    \u001b[49m\u001b[43mresponse_conn\u001b[49m\u001b[38;5;241;43m=\u001b[39;49m\u001b[43mresponse_conn\u001b[49m\u001b[43m,\u001b[49m\n\u001b[1;32m    803\u001b[0m \u001b[43m    \u001b[49m\u001b[43mpreload_content\u001b[49m\u001b[38;5;241;43m=\u001b[39;49m\u001b[43mpreload_content\u001b[49m\u001b[43m,\u001b[49m\n\u001b[1;32m    804\u001b[0m \u001b[43m    \u001b[49m\u001b[43mdecode_content\u001b[49m\u001b[38;5;241;43m=\u001b[39;49m\u001b[43mdecode_content\u001b[49m\u001b[43m,\u001b[49m\n\u001b[1;32m    805\u001b[0m \u001b[43m    \u001b[49m\u001b[38;5;241;43m*\u001b[39;49m\u001b[38;5;241;43m*\u001b[39;49m\u001b[43mresponse_kw\u001b[49m\u001b[43m,\u001b[49m\n\u001b[1;32m    806\u001b[0m \u001b[43m\u001b[49m\u001b[43m)\u001b[49m\n\u001b[1;32m    808\u001b[0m \u001b[38;5;66;03m# Everything went great!\u001b[39;00m\n\u001b[1;32m    809\u001b[0m clean_exit \u001b[38;5;241m=\u001b[39m \u001b[38;5;28;01mTrue\u001b[39;00m\n",
      "File \u001b[0;32m~/ml-experts/question-converter/.venv/lib/python3.10/site-packages/urllib3/connectionpool.py:537\u001b[0m, in \u001b[0;36mHTTPConnectionPool._make_request\u001b[0;34m(self, conn, method, url, body, headers, retries, timeout, chunked, response_conn, preload_content, decode_content, enforce_content_length)\u001b[0m\n\u001b[1;32m    535\u001b[0m \u001b[38;5;66;03m# Receive the response from the server\u001b[39;00m\n\u001b[1;32m    536\u001b[0m \u001b[38;5;28;01mtry\u001b[39;00m:\n\u001b[0;32m--> 537\u001b[0m     response \u001b[38;5;241m=\u001b[39m \u001b[43mconn\u001b[49m\u001b[38;5;241;43m.\u001b[39;49m\u001b[43mgetresponse\u001b[49m\u001b[43m(\u001b[49m\u001b[43m)\u001b[49m\n\u001b[1;32m    538\u001b[0m \u001b[38;5;28;01mexcept\u001b[39;00m (BaseSSLError, \u001b[38;5;167;01mOSError\u001b[39;00m) \u001b[38;5;28;01mas\u001b[39;00m e:\n\u001b[1;32m    539\u001b[0m     \u001b[38;5;28mself\u001b[39m\u001b[38;5;241m.\u001b[39m_raise_timeout(err\u001b[38;5;241m=\u001b[39me, url\u001b[38;5;241m=\u001b[39murl, timeout_value\u001b[38;5;241m=\u001b[39mread_timeout)\n",
      "File \u001b[0;32m~/ml-experts/question-converter/.venv/lib/python3.10/site-packages/urllib3/connection.py:466\u001b[0m, in \u001b[0;36mHTTPConnection.getresponse\u001b[0;34m(self)\u001b[0m\n\u001b[1;32m    463\u001b[0m \u001b[38;5;28;01mfrom\u001b[39;00m \u001b[38;5;21;01m.\u001b[39;00m\u001b[38;5;21;01mresponse\u001b[39;00m \u001b[38;5;28;01mimport\u001b[39;00m HTTPResponse\n\u001b[1;32m    465\u001b[0m \u001b[38;5;66;03m# Get the response from http.client.HTTPConnection\u001b[39;00m\n\u001b[0;32m--> 466\u001b[0m httplib_response \u001b[38;5;241m=\u001b[39m \u001b[38;5;28;43msuper\u001b[39;49m\u001b[43m(\u001b[49m\u001b[43m)\u001b[49m\u001b[38;5;241;43m.\u001b[39;49m\u001b[43mgetresponse\u001b[49m\u001b[43m(\u001b[49m\u001b[43m)\u001b[49m\n\u001b[1;32m    468\u001b[0m \u001b[38;5;28;01mtry\u001b[39;00m:\n\u001b[1;32m    469\u001b[0m     assert_header_parsing(httplib_response\u001b[38;5;241m.\u001b[39mmsg)\n",
      "File \u001b[0;32m/usr/lib/python3.10/http/client.py:1375\u001b[0m, in \u001b[0;36mHTTPConnection.getresponse\u001b[0;34m(self)\u001b[0m\n\u001b[1;32m   1373\u001b[0m \u001b[38;5;28;01mtry\u001b[39;00m:\n\u001b[1;32m   1374\u001b[0m     \u001b[38;5;28;01mtry\u001b[39;00m:\n\u001b[0;32m-> 1375\u001b[0m         \u001b[43mresponse\u001b[49m\u001b[38;5;241;43m.\u001b[39;49m\u001b[43mbegin\u001b[49m\u001b[43m(\u001b[49m\u001b[43m)\u001b[49m\n\u001b[1;32m   1376\u001b[0m     \u001b[38;5;28;01mexcept\u001b[39;00m \u001b[38;5;167;01mConnectionError\u001b[39;00m:\n\u001b[1;32m   1377\u001b[0m         \u001b[38;5;28mself\u001b[39m\u001b[38;5;241m.\u001b[39mclose()\n",
      "File \u001b[0;32m/usr/lib/python3.10/http/client.py:318\u001b[0m, in \u001b[0;36mHTTPResponse.begin\u001b[0;34m(self)\u001b[0m\n\u001b[1;32m    316\u001b[0m \u001b[38;5;66;03m# read until we get a non-100 response\u001b[39;00m\n\u001b[1;32m    317\u001b[0m \u001b[38;5;28;01mwhile\u001b[39;00m \u001b[38;5;28;01mTrue\u001b[39;00m:\n\u001b[0;32m--> 318\u001b[0m     version, status, reason \u001b[38;5;241m=\u001b[39m \u001b[38;5;28;43mself\u001b[39;49m\u001b[38;5;241;43m.\u001b[39;49m\u001b[43m_read_status\u001b[49m\u001b[43m(\u001b[49m\u001b[43m)\u001b[49m\n\u001b[1;32m    319\u001b[0m     \u001b[38;5;28;01mif\u001b[39;00m status \u001b[38;5;241m!=\u001b[39m CONTINUE:\n\u001b[1;32m    320\u001b[0m         \u001b[38;5;28;01mbreak\u001b[39;00m\n",
      "File \u001b[0;32m/usr/lib/python3.10/http/client.py:279\u001b[0m, in \u001b[0;36mHTTPResponse._read_status\u001b[0;34m(self)\u001b[0m\n\u001b[1;32m    278\u001b[0m \u001b[38;5;28;01mdef\u001b[39;00m \u001b[38;5;21m_read_status\u001b[39m(\u001b[38;5;28mself\u001b[39m):\n\u001b[0;32m--> 279\u001b[0m     line \u001b[38;5;241m=\u001b[39m \u001b[38;5;28mstr\u001b[39m(\u001b[38;5;28;43mself\u001b[39;49m\u001b[38;5;241;43m.\u001b[39;49m\u001b[43mfp\u001b[49m\u001b[38;5;241;43m.\u001b[39;49m\u001b[43mreadline\u001b[49m\u001b[43m(\u001b[49m\u001b[43m_MAXLINE\u001b[49m\u001b[43m \u001b[49m\u001b[38;5;241;43m+\u001b[39;49m\u001b[43m \u001b[49m\u001b[38;5;241;43m1\u001b[39;49m\u001b[43m)\u001b[49m, \u001b[38;5;124m\"\u001b[39m\u001b[38;5;124miso-8859-1\u001b[39m\u001b[38;5;124m\"\u001b[39m)\n\u001b[1;32m    280\u001b[0m     \u001b[38;5;28;01mif\u001b[39;00m \u001b[38;5;28mlen\u001b[39m(line) \u001b[38;5;241m>\u001b[39m _MAXLINE:\n\u001b[1;32m    281\u001b[0m         \u001b[38;5;28;01mraise\u001b[39;00m LineTooLong(\u001b[38;5;124m\"\u001b[39m\u001b[38;5;124mstatus line\u001b[39m\u001b[38;5;124m\"\u001b[39m)\n",
      "File \u001b[0;32m/usr/lib/python3.10/socket.py:705\u001b[0m, in \u001b[0;36mSocketIO.readinto\u001b[0;34m(self, b)\u001b[0m\n\u001b[1;32m    703\u001b[0m \u001b[38;5;28;01mwhile\u001b[39;00m \u001b[38;5;28;01mTrue\u001b[39;00m:\n\u001b[1;32m    704\u001b[0m     \u001b[38;5;28;01mtry\u001b[39;00m:\n\u001b[0;32m--> 705\u001b[0m         \u001b[38;5;28;01mreturn\u001b[39;00m \u001b[38;5;28;43mself\u001b[39;49m\u001b[38;5;241;43m.\u001b[39;49m\u001b[43m_sock\u001b[49m\u001b[38;5;241;43m.\u001b[39;49m\u001b[43mrecv_into\u001b[49m\u001b[43m(\u001b[49m\u001b[43mb\u001b[49m\u001b[43m)\u001b[49m\n\u001b[1;32m    706\u001b[0m     \u001b[38;5;28;01mexcept\u001b[39;00m timeout:\n\u001b[1;32m    707\u001b[0m         \u001b[38;5;28mself\u001b[39m\u001b[38;5;241m.\u001b[39m_timeout_occurred \u001b[38;5;241m=\u001b[39m \u001b[38;5;28;01mTrue\u001b[39;00m\n",
      "File \u001b[0;32m/usr/lib/python3.10/ssl.py:1303\u001b[0m, in \u001b[0;36mSSLSocket.recv_into\u001b[0;34m(self, buffer, nbytes, flags)\u001b[0m\n\u001b[1;32m   1299\u001b[0m     \u001b[38;5;28;01mif\u001b[39;00m flags \u001b[38;5;241m!=\u001b[39m \u001b[38;5;241m0\u001b[39m:\n\u001b[1;32m   1300\u001b[0m         \u001b[38;5;28;01mraise\u001b[39;00m \u001b[38;5;167;01mValueError\u001b[39;00m(\n\u001b[1;32m   1301\u001b[0m           \u001b[38;5;124m\"\u001b[39m\u001b[38;5;124mnon-zero flags not allowed in calls to recv_into() on \u001b[39m\u001b[38;5;132;01m%s\u001b[39;00m\u001b[38;5;124m\"\u001b[39m \u001b[38;5;241m%\u001b[39m\n\u001b[1;32m   1302\u001b[0m           \u001b[38;5;28mself\u001b[39m\u001b[38;5;241m.\u001b[39m\u001b[38;5;18m__class__\u001b[39m)\n\u001b[0;32m-> 1303\u001b[0m     \u001b[38;5;28;01mreturn\u001b[39;00m \u001b[38;5;28;43mself\u001b[39;49m\u001b[38;5;241;43m.\u001b[39;49m\u001b[43mread\u001b[49m\u001b[43m(\u001b[49m\u001b[43mnbytes\u001b[49m\u001b[43m,\u001b[49m\u001b[43m \u001b[49m\u001b[43mbuffer\u001b[49m\u001b[43m)\u001b[49m\n\u001b[1;32m   1304\u001b[0m \u001b[38;5;28;01melse\u001b[39;00m:\n\u001b[1;32m   1305\u001b[0m     \u001b[38;5;28;01mreturn\u001b[39;00m \u001b[38;5;28msuper\u001b[39m()\u001b[38;5;241m.\u001b[39mrecv_into(buffer, nbytes, flags)\n",
      "File \u001b[0;32m/usr/lib/python3.10/ssl.py:1159\u001b[0m, in \u001b[0;36mSSLSocket.read\u001b[0;34m(self, len, buffer)\u001b[0m\n\u001b[1;32m   1157\u001b[0m \u001b[38;5;28;01mtry\u001b[39;00m:\n\u001b[1;32m   1158\u001b[0m     \u001b[38;5;28;01mif\u001b[39;00m buffer \u001b[38;5;129;01mis\u001b[39;00m \u001b[38;5;129;01mnot\u001b[39;00m \u001b[38;5;28;01mNone\u001b[39;00m:\n\u001b[0;32m-> 1159\u001b[0m         \u001b[38;5;28;01mreturn\u001b[39;00m \u001b[38;5;28;43mself\u001b[39;49m\u001b[38;5;241;43m.\u001b[39;49m\u001b[43m_sslobj\u001b[49m\u001b[38;5;241;43m.\u001b[39;49m\u001b[43mread\u001b[49m\u001b[43m(\u001b[49m\u001b[38;5;28;43mlen\u001b[39;49m\u001b[43m,\u001b[49m\u001b[43m \u001b[49m\u001b[43mbuffer\u001b[49m\u001b[43m)\u001b[49m\n\u001b[1;32m   1160\u001b[0m     \u001b[38;5;28;01melse\u001b[39;00m:\n\u001b[1;32m   1161\u001b[0m         \u001b[38;5;28;01mreturn\u001b[39;00m \u001b[38;5;28mself\u001b[39m\u001b[38;5;241m.\u001b[39m_sslobj\u001b[38;5;241m.\u001b[39mread(\u001b[38;5;28mlen\u001b[39m)\n",
      "\u001b[0;31mKeyboardInterrupt\u001b[0m: "
     ]
    }
   ],
   "source": [
    "from datetime import datetime\n",
    "\n",
    "for data in input_data:\n",
    "    current_time = datetime.now().time()\n",
    "    if current_time.hour == 23 and current_time.minute > 0:\n",
    "        log.info(\"Break\")\n",
    "        break\n",
    "    qno = data[\"Qno\"]\n",
    "    if qno in converted_qno or qno in skip:\n",
    "        continue\n",
    "    log.info(f'Converting question {qno}')\n",
    "    try:\n",
    "        # log.info(data)\n",
    "        converted = convert_question(data, OPENAI_KEY=OPENAI_KEY_6)\n",
    "        if not converted:\n",
    "            log.error(f'Conversion failed {qno}')\n",
    "            save_skip()\n",
    "            continue\n",
    "        save_data()\n",
    "        save_converted_questions()\n",
    "        log.info(f'Converted question {qno}')\n",
    "    except Exception as e:\n",
    "        log.error(str(e))\n",
    "        \n"
   ]
  },
  {
   "cell_type": "code",
   "execution_count": 106,
   "metadata": {},
   "outputs": [],
   "source": [
    "def create_example():\n",
    "    example_output =[]\n",
    "    file_data = get_file_data()\n",
    "    for data in file_data:\n",
    "        file_qno = data[\"Qno\"]\n",
    "        for i_data in input_data:\n",
    "            input_qno = i_data[\"Qno\"]\n",
    "            if file_qno == input_qno:\n",
    "                example_output.append([data, i_data])\n",
    "                break\n",
    "    with open (example_output_path, 'w') as fp:\n",
    "        json.dump(example_output, fp, ensure_ascii=False)"
   ]
  },
  {
   "cell_type": "code",
   "execution_count": 19,
   "metadata": {},
   "outputs": [
    {
     "name": "stderr",
     "output_type": "stream",
     "text": [
      "[ INFO] [2024-05-12 14:53:26,589] [762392232] [14] [File data: 951]\n",
      "[ INFO] [2024-05-12 14:53:26,591] [762392232] [15] [Unique data: 951]\n",
      "[ INFO] [2024-05-12 14:53:26,592] [762392232] [17] [No filter required]\n"
     ]
    }
   ],
   "source": [
    "filter_unique_elements()"
   ]
  },
  {
   "cell_type": "code",
   "execution_count": 107,
   "metadata": {},
   "outputs": [],
   "source": [
    "create_example()"
   ]
  },
  {
   "cell_type": "code",
   "execution_count": 21,
   "metadata": {},
   "outputs": [
    {
     "data": {
      "text/plain": [
       "[1994, 2212, 2222, 2244, 263, 2722, 2768]"
      ]
     },
     "execution_count": 21,
     "metadata": {},
     "output_type": "execute_result"
    }
   ],
   "source": [
    "# skip"
   ]
  },
  {
   "cell_type": "code",
   "execution_count": 307,
   "metadata": {},
   "outputs": [
    {
     "name": "stderr",
     "output_type": "stream",
     "text": [
      "[ INFO] [2024-06-01 09:46:02,569] [1454879431] [10] [2826]\n",
      "[ INFO] [2024-06-01 09:46:02,570] [1454879431] [10] [2999]\n",
      "[ INFO] [2024-06-01 09:46:02,571] [1454879431] [10] [3001]\n",
      "[ INFO] [2024-06-01 09:46:02,572] [1454879431] [10] [3016]\n",
      "[ INFO] [2024-06-01 09:46:02,573] [1454879431] [10] [3373]\n",
      "[ INFO] [2024-06-01 09:46:02,610] [844909519] [5] [converted/3/questions_3.json: 1093]\n"
     ]
    }
   ],
   "source": [
    "# filter_without_options(False)\n",
    "filter_without_options()"
   ]
  },
  {
   "cell_type": "code",
   "execution_count": 308,
   "metadata": {},
   "outputs": [
    {
     "name": "stderr",
     "output_type": "stream",
     "text": [
      "[ INFO] [2024-06-01 09:46:06,718] [844909519] [5] [converted/3/questions_3.json: 1093]\n"
     ]
    }
   ],
   "source": [
    "converted_qno = get_converted_questions_file()"
   ]
  },
  {
   "cell_type": "code",
   "execution_count": 309,
   "metadata": {},
   "outputs": [],
   "source": [
    "save_converted_questions()"
   ]
  },
  {
   "cell_type": "code",
   "execution_count": 310,
   "metadata": {},
   "outputs": [
    {
     "name": "stderr",
     "output_type": "stream",
     "text": [
      "[ INFO] [2024-06-01 09:46:14,243] [1120403275] [5] [From questions.json: 1093]\n",
      "[ INFO] [2024-06-01 09:46:14,244] [1120403275] [11] [From no.json: 1093]\n"
     ]
    }
   ],
   "source": [
    "cq = get_converted_questions()"
   ]
  },
  {
   "cell_type": "code",
   "execution_count": null,
   "metadata": {},
   "outputs": [],
   "source": []
  }
 ],
 "metadata": {
  "kernelspec": {
   "display_name": ".venv",
   "language": "python",
   "name": "python3"
  },
  "language_info": {
   "codemirror_mode": {
    "name": "ipython",
    "version": 3
   },
   "file_extension": ".py",
   "mimetype": "text/x-python",
   "name": "python",
   "nbconvert_exporter": "python",
   "pygments_lexer": "ipython3",
   "version": "3.10.12"
  }
 },
 "nbformat": 4,
 "nbformat_minor": 2
}

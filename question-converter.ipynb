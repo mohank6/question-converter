{
 "cells": [
  {
   "cell_type": "code",
   "execution_count": null,
   "metadata": {},
   "outputs": [],
   "source": [
    "from concurrent.futures import ThreadPoolExecutor\n",
    "import json\n",
    "import os\n",
    "from openai import OpenAI\n",
    "import logging\n",
    "from time import perf_counter, sleep\n",
    "import re\n",
    "from threading import RLock\n",
    "from dotenv import load_dotenv\n",
    "\n",
    "load_dotenv()\n",
    "\n",
    "log_format = '[ %(levelname)s] [%(asctime)s] [%(module)s] [%(lineno)s] [%(message)s]'\n",
    "logging.basicConfig(level=logging.DEBUG, format=log_format)\n",
    "\n",
    "file_handler = logging.FileHandler('logfile.log')\n",
    "file_handler.setLevel(logging.DEBUG)\n",
    "\n",
    "formatter = logging.Formatter(log_format)\n",
    "file_handler.setFormatter(formatter)\n",
    "\n",
    "log = logging.getLogger()\n",
    "log.addHandler(file_handler)\n",
    "\n",
    "lock = RLock()\n",
    "converted_qno = set()\n",
    "failed_qno = []\n",
    "reponse_data = []\n",
    "\n",
    "file_no =1\n",
    "example_output_path = f'converted/{file_no}/example_{file_no}.json'\n",
    "question_path = f'converted/{file_no}/questions_{file_no}.json'\n",
    "question_copy_path =f'converted/{file_no}/questions_{file_no}_copy.json'\n",
    "no_path = f'converted/{file_no}/no_{file_no}.json'\n",
    "data_path = f'data/data_{file_no}.json'\n"
   ]
  },
  {
   "cell_type": "code",
   "execution_count": null,
   "metadata": {},
   "outputs": [],
   "source": [
    "\n",
    "SYSTEM_PROMPT = \"\"\"\n",
    "**You are a UPSC prelims question expert specializing in converting English MCQs to Hindi.**\n",
    "\n",
    "**Given a question in English (statement) and a hint, convert it to Hindi (statement) suitable for the UPSC prelims exam, maintaining technical accuracy and UPSC context.**\n",
    "\n",
    "**Input (JSON):**\n",
    "\n",
    "* `statement`: Question statement with options in English.\n",
    "* `hint`: Hint for the question in English.\n",
    "    \n",
    "**Output (JSON):**\n",
    "\n",
    "* `statement`: Converted question statement with options in Hindi.\n",
    "* `hint`: Hint for the question in Hindi.\n",
    "\n",
    "**Example::1**\n",
    "\n",
    "* Example Input::1\n",
    "    \"statement\": \"Consider following statements regarding the representation of States in the Parliament: 1. Delimitation of Constituencies is undertaken on the basis of census exercise to ensure that every State is represented in proportion to its population in both the Houses of Parliament. 2. Delimitation Commission is a constitutional body, the notification of whose orders cannot be challenged in a Court. 3. Territorial constituencies in States, at present, are based on the data of 2001 census, as the Constitution (87thAmendment) Act, 2003 enabled the delimitation exercise on the basis of 2001Census figures. 4. As it stands today, Constitution of India prohibits any delimitation exercise till 2031. Which of the statements given above are not correct ? (A) 1, 2 and 4only (B) 2, 3 and 4only (C) 1, 3 and 4only (D) 1, 2, 3 and 4\"\n",
    "    \"hint\": \"Delimitation constituencies are NOT applicable to representation of states in Council of States. Though it is correct to say the Order of delimitation commission, once notified, cannot be challenged in any Court, Delimitation commission is NOT a constitutional body but a statutory body. The Constitution has prohibited the revision of representation of States in the Lok Sabha till 2026, but not the delimitation of the Lok Sabha and Assembly constituencies...\"\n",
    "\n",
    "* Example Output::1\n",
    "    \"statement\": \"संसद में राज्यों के प्रतिनिधित्व का प्रस्तावना से संबंधित निम्नलिखित कथनों को विचार करें: 1. निर्वाचनी सीमाओं का निर्धारण जनगणना अभ्यास के आधार पर किया जाता है ताकि सुनिश्चित किया जा सके कि प्रत्येक राज्य को संसद के दोनों सदनों में उसकी जनसंख्या के अनुपात में प्रतिनिधित्व मिले। 2. निर्वाचन सीमा आयोग एक संवैधानिक निकाय है, जिसके आदेशों की अधिसूचना को किसी भी न्यायालय में चुनौती नहीं की जा सकती है। 3. राज्यों में क्षेत्रीय निर्वाचनी सीमाएँ, वर्तमान में, 2001 की जनगणना के आंकड़ों पर आधारित हैं, क्योंकि संविधान (87वां संशोधन) अधिनियम, 2003 ने 2001 की जनगणना के आंकड़ों पर आधारित निर्वाचन का अभ्यास संभव बनाया। 4. जैसा कि आज है, भारतीय संविधान किसी भी निर्वाचन अभ्यास का कोई अभ्यस्त नहीं करता है जब तक 2031 तक। उपर्युक्त कथनों में से कौन सही नहीं है? (A) 1, 2 और 4 (B) केवल 2, 3 और 4 (C) केवल 1, 3 और 4 केवल (D) 1, 2, 3 और 4\"\n",
    "    \"hint\": \"निर्वाचन सीमाएँ संसद के सदन मे प्रतिनिधित्व के लिए लागू नहीं हैं। यह सही है कि एक बार घोषित किए गए निर्वाचन आयोग के आदेश को किसी भी न्यायालय में चुनौती नहीं की जा सकती है, लेकिन निर्वाचन आयोग संवैधानिक निकाय नहीं है बल्कि एक वैधानिक निकाय है। संविधान ने राज्यों के प्रतिनिधित्व की संशोधन की प्रतिनिधित्व को 2026 तक रोका है, लेकिन संविधान में स्पष्ट नहीं किया है कि संविधान और विधानसभा क्षेत्रों की नियमन (delimitation) नहीं कर सकते हैं।..\"\n",
    "    \n",
    "\n",
    "**IMPORTANT INFORMATION**\n",
    "* Choices must be (A),(B),(C),(D) in capital letter form\n",
    "* DONOT change the base statement format. The number of options should remain the same in the converted statement.\n",
    "* DONOT forget to translate choices from end of each input `statement` to reponse `statement`.\n",
    "* DONOT translate numbers\n",
    "\"\"\"\n",
    "# **Example::2**\n",
    "\n",
    "# * Example Input::2\n",
    "#     \"statement\": \"Which of the following statements is/are true about the Gram Sabha? 1. All people living in a village or a group of villages are members of the Gram Sabha. 2. All the plans for work of Gram Panchayat have to be approved by Gram Sabha. 3. For better implementation of some specific tasks, Gram Sabha form committees. 4. The elected Secretary of the Gram Sabha calls the meeting and keeps a record of the proceedings. (A) 2 and 3 (B) 1, 3 and 4 (C) 2, 3 and 4 (D) 1,2,3,4\"\n",
    "#     \"hint\": \"Only adult villagers who have the right to vote can be member of Gram Sabha. Persons below 18 years of age can't become members. Gram Sabha plays a supervisory and monitoring role over Gram Panchayat by approving it plan of work. Gram Sabha form committees like construction, animal husbandry, etc to carry out some specific tasks. The Gram Panchayat has a Secretary who is also the Secretary of the Gram Sabha. This person is not an elected person but is appointed by the government. The Secretary is responsible for calling the meeting of the Gram Sabha and Gram Panchayat and keeping a record of the proceedings.\"\n",
    "\n",
    "# * Example Output::2\n",
    "#     \"statement\": \"निम्नलिखित में से कौन से कथन ग्राम सभा के बारे में सही हैं? 1. ग्राम सभा के सभी लोग एक गाँव या एक समूह के गाँवों के सदस्य हैं। 2. ग्राम पंचायत के काम की सभी योजनाएँ ग्राम सभा द्वारा मंजूर करनी हैं। 3. कुछ विशिष्ट कार्यों के बेहतर कार्यान्वयन के लिए, ग्राम सभा समितियाँ बनाती है। 4. ग्राम सभा का चुनावित सचिव सभा को बुलाता है और कार्यवाहियों का रिकॉर्ड रखता है। (A) 2 और 3 (B) 1, 3 और 4 (C) 2, 3 और 4 (D) 1,2,3,4\",\n",
    "#     \"hint\": \"केवल मतदान करने का अधिकार वाले वयस्क ग्रामीण ग्राम सभा के सदस्य बन सकते हैं। 18 वर्ष से कम उम्र के व्यक्ति सदस्य नहीं बन सकते। ग्राम सभा ग्राम पंचायत की काम की योजना को मंजूरी देकर एक पर्यवेक्षक और निगरानी भूमिका निभाती है। ग्राम सभा निर्माण, पशुपालन आदि जैसी समूचे कुछ विशिष्ट कार्यों को संभालने के लिए समितियाँ बनाती है। ग्राम पंचायत के पास एक सचिव होता है जो ग्राम सभा का भी सचिव होता है। यह व्यक्ति चुना नहीं जाता है, बल्कि सरकार द्वारा नियुक्त होता है। सचिव को ग्राम सभा और ग्राम पंचायत की मीटिंग बुलाने और प्रक्रियाओं का रिकॉर्ड रखने का जिम्मेदारी होती है।\"\n"
   ]
  },
  {
   "cell_type": "code",
   "execution_count": null,
   "metadata": {},
   "outputs": [],
   "source": [
    "def save_converted_questions():\n",
    "    with open (no_path, 'w') as fp:\n",
    "        json.dump(converted_qno, fp)"
   ]
  },
  {
   "cell_type": "code",
   "execution_count": null,
   "metadata": {},
   "outputs": [],
   "source": [
    "def clean_text(text, clean=True):\n",
    "    if not clean:\n",
    "        return re.sub(r'\\s+', ' ', text.strip())\n",
    "        # return text.strip()\n",
    "    # return re.sub(r'\\s+', ' ', text.replace(\"\\\\n\", \" \").replace(\"\", \" \").replace(\"'\", \"\").replace('\"', \"'\").strip())\n",
    "    return re.sub(r'\\s+', ' ', text.replace(\"\\\\n\", \" \").replace(\"\", \" \").replace(\"'\",\"\").replace('\"', \"'\").strip())\n"
   ]
  },
  {
   "cell_type": "code",
   "execution_count": null,
   "metadata": {},
   "outputs": [],
   "source": [
    "def get_data():\n",
    "    input_data = []\n",
    "    input_data_dict = {}\n",
    "    qno = []\n",
    "    with open(data_path, 'r') as fp:\n",
    "        json_data = json.load(fp)\n",
    "    for key, item in json_data.items():\n",
    "        statement = clean_text(item['statement'])\n",
    "        hint = clean_text(item['hint'])\n",
    "        qno = item[\"Qno\"]\n",
    "        temp = {'statement': statement, 'hint': hint, \"Qno\": qno}\n",
    "        input_data.append(temp)\n",
    "        input_data_dict[key] = temp\n",
    "    log.info(f\"Input data: {len(input_data)}\")\n",
    "    return input_data\n"
   ]
  },
  {
   "cell_type": "code",
   "execution_count": null,
   "metadata": {},
   "outputs": [],
   "source": [
    "def get_file_data():\n",
    "    if os.path.exists(question_path):\n",
    "        with open(question_path, 'r') as fp:\n",
    "            file_data = json.load(fp)\n",
    "            return file_data\n",
    "    return []"
   ]
  },
  {
   "cell_type": "code",
   "execution_count": null,
   "metadata": {},
   "outputs": [],
   "source": [
    "def save_data():\n",
    "    try:\n",
    "        if os.path.exists(question_path):\n",
    "            with open(question_path, 'r') as fp:\n",
    "                file_data = json.load(fp)\n",
    "\n",
    "            with open(question_copy_path, 'w') as fp:\n",
    "                json.dump(file_data, fp, ensure_ascii=False)\n",
    "\n",
    "        log.info(f'Saving {len(reponse_data)} data')   \n",
    "        with open(question_path, 'w') as fp:\n",
    "            json.dump(reponse_data, fp, ensure_ascii=False)\n",
    "        return True\n",
    "\n",
    "    except Exception as e:\n",
    "        log.error(str(e))\n",
    "        return None"
   ]
  },
  {
   "cell_type": "code",
   "execution_count": null,
   "metadata": {},
   "outputs": [],
   "source": [
    "def get_converted_questions_file():\n",
    "    if os.path.exists(question_path):\n",
    "        with open(question_path, 'r') as fp:\n",
    "            file_data_q = json.load(fp)\n",
    "        log.info(f'{question_path}: {len(file_data_q)}')\n",
    "        return [data['Qno'] for data in file_data_q]\n",
    "\n",
    "    return []"
   ]
  },
  {
   "cell_type": "code",
   "execution_count": null,
   "metadata": {},
   "outputs": [],
   "source": [
    "def get_converted_questions():\n",
    "    if os.path.exists(question_path):\n",
    "        with open(question_path, 'r') as fp:\n",
    "            file_data_q = json.load(fp)\n",
    "        log.info(f'From questions.json: {len(file_data_q)}')\n",
    "        \n",
    "\n",
    "    if os.path.exists(no_path):\n",
    "        with open(no_path, 'r') as fp:\n",
    "            file_data = json.load(fp)\n",
    "            log.info(f'From no.json: {len(file_data)}')\n",
    "            return file_data\n",
    "\n",
    "    return []"
   ]
  },
  {
   "cell_type": "code",
   "execution_count": null,
   "metadata": {},
   "outputs": [],
   "source": [
    "def convert_question(input_data, OPENAI_KEY):\n",
    "    qno = input_data.pop(\"Qno\")\n",
    "    try:\n",
    "        USER_PROMPT = str(input_data)\n",
    "        data = OpenAI.generate_completion(SYSTEM_PROMPT, USER_PROMPT, OPENAI_KEY)\n",
    "        if not data:\n",
    "            raise Exception('Opena ai didnot respond')\n",
    "        data[\"Qno\"] = qno\n",
    "        converted_qno.append(qno)\n",
    "        reponse_data.append(data)\n",
    "        return True\n",
    "        \n",
    "    except Exception as e:\n",
    "        log.error(str(e))\n",
    "        failed_qno.append(qno)\n",
    "        return False"
   ]
  },
  {
   "cell_type": "code",
   "execution_count": null,
   "metadata": {},
   "outputs": [],
   "source": [
    "reponse_data = get_file_data()\n",
    "input_data = get_data()\n",
    "converted_qno = get_converted_questions()\n",
    "OPENAI_KEY_1 = os.getenv('OPENAI_KEY_1')\n",
    "OPENAI_KEY_2 = os.getenv('OPENAI_KEY_2')\n",
    "OPENAI_KEY_3 = os.getenv('OPENAI_KEY_3')\n",
    "\n",
    "log.info(len(converted_qno))"
   ]
  },
  {
   "cell_type": "code",
   "execution_count": null,
   "metadata": {},
   "outputs": [],
   "source": [
    "for data in input_data:\n",
    "    qno = data[\"Qno\"]\n",
    "    if qno in converted_qno:\n",
    "        continue\n",
    "    log.info(f'Converting question {qno}')\n",
    "    try:\n",
    "        # log.info(data)\n",
    "        converted = convert_question(data, OPENAI_KEY=OPENAI_KEY_2)\n",
    "        if not converted:\n",
    "            log.error(f'Conversion failed {qno}')\n",
    "            continue\n",
    "        save_data()\n",
    "        save_converted_questions()\n",
    "        log.info(f'Converted question {qno}')\n",
    "    except Exception as e:\n",
    "        log.error(str(e))\n",
    "        \n"
   ]
  },
  {
   "cell_type": "code",
   "execution_count": null,
   "metadata": {},
   "outputs": [],
   "source": [
    "def filter_unique_elements():\n",
    "    unique_elements = []\n",
    "    seen_qnos = set()\n",
    "    if not  os.path.exists(question_path):\n",
    "        log.error('Path doesnot exists')\n",
    "        return\n",
    "    with open(question_path, 'r') as fp:\n",
    "            file_data = json.load(fp)\n",
    "\n",
    "    for item in file_data:\n",
    "        if item['Qno'] not in seen_qnos:\n",
    "            unique_elements.append(item)\n",
    "            seen_qnos.add(item['Qno'])\n",
    "    log.info(f\"File data: {len(file_data)}\")\n",
    "    log.info(f\"Unique data: {len(unique_elements)}\")\n",
    "    if not len(file_data) > len(unique_elements):\n",
    "        log.info(\"No filter required\")\n",
    "        return\n",
    "    with open(question_path, 'w') as fp:\n",
    "            json.dump(file_data, fp, ensure_ascii=False)\n",
    "    with open(question_copy_path, 'w') as fp:\n",
    "            json.dump(file_data, fp, ensure_ascii=False)\n",
    "            \n",
    "    converted_qno = get_converted_questions_file()\n",
    "    save_converted_questions()"
   ]
  },
  {
   "cell_type": "code",
   "execution_count": null,
   "metadata": {},
   "outputs": [],
   "source": [
    "def filter_without_options():\n",
    "    pattern = r'\\(A|a\\).*\\(B|b\\).*\\(C|c\\).*\\(D|d\\)'\n",
    "    elements_without_options = []\n",
    "    if os.path.exists(question_path):\n",
    "        with open(question_path, 'r') as fp:\n",
    "                file_data = json.load(fp)\n",
    "        \n",
    "    for item in file_data:\n",
    "        if not re.search(pattern, item.get('statement')):\n",
    "            log.info(item[\"Qno\"])\n",
    "            elements_without_options.append(item)\n",
    "    if len(elements_without_options)==0:\n",
    "        log.info(\"No filter required\")\n",
    "        return\n",
    "          \n",
    "    for element in elements_without_options:\n",
    "        file_data.remove(element)\n",
    "\n",
    "    with open(question_path, 'w') as fp:\n",
    "            json.dump(file_data, fp, ensure_ascii=False)\n",
    "    with open(question_copy_path, 'w') as fp:\n",
    "            json.dump(file_data, fp, ensure_ascii=False)\n",
    "            \n",
    "    converted_qno = get_converted_questions_file()\n",
    "    save_converted_questions()"
   ]
  },
  {
   "cell_type": "code",
   "execution_count": null,
   "metadata": {},
   "outputs": [],
   "source": [
    "def create_example():\n",
    "    example_output =[]\n",
    "    file_data = get_file_data()\n",
    "    for data in file_data:\n",
    "        file_qno = data[\"Qno\"]\n",
    "        for i_data in input_data:\n",
    "            input_qno = i_data[\"Qno\"]\n",
    "            if file_qno == input_qno:\n",
    "                example_output.append([data, i_data])\n",
    "                break\n",
    "    with open (example_output_path, 'w') as fp:\n",
    "        json.dump(example_output, fp, ensure_ascii=False)"
   ]
  },
  {
   "cell_type": "code",
   "execution_count": null,
   "metadata": {},
   "outputs": [],
   "source": [
    "filter_unique_elements()"
   ]
  },
  {
   "cell_type": "code",
   "execution_count": null,
   "metadata": {},
   "outputs": [],
   "source": [
    "create_example()"
   ]
  },
  {
   "cell_type": "code",
   "execution_count": null,
   "metadata": {},
   "outputs": [],
   "source": []
  }
 ],
 "metadata": {
  "kernelspec": {
   "display_name": ".venv",
   "language": "python",
   "name": "python3"
  },
  "language_info": {
   "codemirror_mode": {
    "name": "ipython",
    "version": 3
   },
   "file_extension": ".py",
   "mimetype": "text/x-python",
   "name": "python",
   "nbconvert_exporter": "python",
   "pygments_lexer": "ipython3",
   "version": "3.10.12"
  }
 },
 "nbformat": 4,
 "nbformat_minor": 2
}

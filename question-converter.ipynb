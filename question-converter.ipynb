{
 "cells": [
  {
   "cell_type": "code",
   "execution_count": 9,
   "metadata": {},
   "outputs": [],
   "source": [
    "import json\n",
    "from openai import OpenAI\n",
    "from gemini import GeminiService\n",
    "import logging\n",
    "from datetime import datetime\n",
    "log_format = '%(asctime)s - %(levelname)s - %(message)s'\n",
    "logging.basicConfig(level=logging.DEBUG, format=log_format)\n",
    "log = logging.getLogger()\n",
    "log.setLevel(logging.DEBUG)\n",
    "\n",
    "clean = True\n",
    "openai = False"
   ]
  },
  {
   "cell_type": "code",
   "execution_count": 10,
   "metadata": {},
   "outputs": [],
   "source": [
    "\n",
    "SYSTEM_PROMPT = \"\"\"\n",
    "**You are a UPSC prelims question expert specializing in converting English MCQs to Hindi.**\n",
    "\n",
    "**Given a question in English (statement) and a hint, convert it to Hindi (statement) suitable for the UPSC prelims exam, maintaining technical accuracy and UPSC context.**\n",
    "\n",
    "**Input (JSON):**\n",
    "\n",
    "* `statement`: Question statement with options in English.\n",
    "* `hint`: Hint for the question in English.\n",
    "\n",
    "**Output (JSON):**\n",
    "\n",
    "* `statement`: Converted question statement with choices at end in Hindi.\n",
    "* `hint`: Hint for the question in Hindi.\n",
    "\n",
    "**IMPORTANT INFORMATION**\n",
    "- DONOT change the base statement format. The answers number should remain the same in the converted statement.\n",
    "- DONOT forget to translate choices from end of each input `statement` to reponse `statement`.\n",
    "- Maintain line breaks `\\\\n` in response similar to input\n",
    "\"\"\"\n"
   ]
  },
  {
   "cell_type": "code",
   "execution_count": 11,
   "metadata": {},
   "outputs": [],
   "source": [
    "import re\n",
    "\n",
    "def clean_text(text, clean=True):\n",
    "    if not clean:\n",
    "        return re.sub(r'\\s+', ' ',text.strip())\n",
    "        # return text.strip()\n",
    "    return re.sub(r'\\s+', ' ',text.replace(\"\\n\",\" \").strip())"
   ]
  },
  {
   "cell_type": "code",
   "execution_count": 12,
   "metadata": {},
   "outputs": [],
   "source": [
    "\n",
    "input_data = []\n",
    "with open ('data.json', 'r') as fp:\n",
    "    json_data = json.load(fp)\n",
    "for index, (key, item) in enumerate(json_data.items()):\n",
    "    if index > 3:\n",
    "        break\n",
    "    statement = clean_text(item['statement'], clean)\n",
    "    hint = clean_text(item['hint'], clean)\n",
    "    temp = {'statement': statement, 'hint': hint}\n",
    "    input_data.append(temp)"
   ]
  },
  {
   "cell_type": "code",
   "execution_count": 13,
   "metadata": {},
   "outputs": [
    {
     "data": {
      "text/plain": [
       "[{'statement': 'Consider following statements regarding the representation of States in the Parliament: 1. Delimitation of Constituencies is undertaken on the basis of census exercise to ensure that every State is represented in proportion to its population in both the Houses of Parliament. 2. Delimitation Commission is a constitutional body, the notification of whose orders cannot be challenged in a Court. 3. Territorial constituencies in States, at present, are based on the data of 2001 census, as the Constitution (87thAmendment) Act, 2003 enabled the delimitation exercise on the basis of 2001Census figures. 4. As it stands today, Constitution of India prohibits any delimitation exercise till 2031. Which of the statements given above are not correct ? (A) 1, 2 and 4only (B) 2, 3 and 4only (C) 1, 3 and 4only (D) 1, 2, 3 and4',\n",
       "  'hint': 'Delimitation constituencies are NOT applicable to representation of states in Council of States. Though it is correct to say the Order of delimitation commission, once notified, cannot be challenged in any Court, Delimitation commission is NOT a constitutional body but a statutory body. The Constitution has prohibited the revision of representation of States in the Lok Sabha till 2026, but not the delimitation of the Lok Sabha and Assembly constituencies...'},\n",
       " {'statement': 'Which of the following statements is/are true about the Gram Sabha? 1. All people living in a village or a group of villages are members of the Gram Sabha. 2. All the plans for work of Gram Panchayat have to be approved by Gram Sabha. 3. For better implementation of some specific tasks, Gram Sabha form committees. 4. The elected Secretary of the Gram Sabha calls the meeting and keeps a record of the proceedings. (A) 2 and 3 (B) 1, 3 and 4 (C) 2, 3 and 4 (D) 1,2,3,4',\n",
       "  'hint': \"Only adult villagers who have the right to vote can be member of Gram Sabha. Persons below 18 years of age can't become members. Gram Sabha plays a supervisory and monitoring role over Gram Panchayat by approving it plan of work. Gram Sabha form committees like construction, animal husbandry, etc to carry out some specific tasks. The Gram Panchayat has a Secretary who is also the Secretary of the Gram Sabha. This person is not an elected person but is appointed by the government. The Secretary is responsible for calling the meeting of the Gram Sabha and Gram Panchayat and keeping a record of the proceedings.\"},\n",
       " {'statement': 'To which of the following the original jurisdiction of the supreme court does not extend? 1. Inter-state water disputes. 2. Matters referred to the Finance Commission. 3. A dispute arising out of any pre-Constitution treaty, agreement, covenant, engagement, Sanad or other similar instrument. Select the correct answer using the codes given below. (A) 1, 2 and 3 only (B) 2 and 3 only (C) 1 and 3 only (D) 1 and 2 only',\n",
       "  'hint': 'As a federal court, the Supreme Court decides the disputes between different units of the Indian Federation. More elaborately, any dispute between: \\uf0b7 the Centre and one or more states; or \\uf0b7 the Centre and any state or states on one side and one or more states on the other; \\uf0b7 or between two or more states. In the above federal disputes, the Supreme Court has exclusive original jurisdiction. Exclusive means, no other court can decide such disputes and original means, the power to hear such disputes in the first instance, not by way of appeal. Further, this jurisdiction of the Supreme Court does not extend to the following: \\uf0b7 A dispute arising out of any pre-Constitution treaty, agreement, covenant, engagement, Sanad or other similar instrument. \\uf0b7 A dispute arising out of any treaty, agreement, etc., which specifically provides that the said jurisdiction does not extend to such a dispute. \\uf0b7 Inter-state water disputes. \\uf0b7 Matters referred to the Finance Commission. \\uf0b7 Adjustment of certain expenses and pensions between the Centre and the states. \\uf0b7 Ordinary dispute of Commercial nature between the Centre and the states. \\uf0b7 Recovery of damages by a state against the Centre.'},\n",
       " {'statement': 'Consider the following statements: 1. Model Code of Conduct was issued for first general election after independence for the first time. 2. The Model Code of Conduct comes into force immediately on announcement of the election schedule by the Election Commission. 3. The Parliament may make provision with respect to all matters relating to elections to the Parliament and the state legislatures including the model code of conduct. Which of the statements given above is / are correct? (A) 2 only (B) 2 and 3 only (C) 1 and 2 only (D) 1, 2 and 3',\n",
       "  'hint': \"Statement 1 is incorrect. The Code was issued for the first time in 1971 before the 5th Lok Sabha elections. Since then, it has been issued before every central and state election and revised from time to time. Statement 2 is correct. The Model Code of Conduct comes into force immediately on announcement of the election schedule by the commission for the need of ensuring free and fair elections. Statement 3 is incorrect. Election Commission of India's Model Code of Conduct is a set of guidelines issued by the Election Commission of India for conduct of political parties and candidates during elections mainly with respect to speeches, polling day, polling booths, election manifestos, processions and general conduct. These set of norms has been evolved with the consensus of political parties who have consented to abide by the principles embodied in the said code in its letter and spirit.\"}]"
      ]
     },
     "execution_count": 13,
     "metadata": {},
     "output_type": "execute_result"
    }
   ],
   "source": [
    "input_data"
   ]
  },
  {
   "cell_type": "code",
   "execution_count": 14,
   "metadata": {},
   "outputs": [
    {
     "name": "stderr",
     "output_type": "stream",
     "text": [
      "2024-04-22 15:28:39,728 - INFO - Sending request to gemini api.\n",
      "2024-04-22 15:28:55,005 - INFO - Request successfull.\n"
     ]
    },
    {
     "name": "stdout",
     "output_type": "stream",
     "text": [
      "<class 'dict'>\n"
     ]
    }
   ],
   "source": [
    "reponse_data = []\n",
    "if openai:\n",
    "    for i in input_data:\n",
    "        USER_PROMPT = str(i)\n",
    "        data = OpenAI.generate_completion(SYSTEM_PROMPT, USER_PROMPT)\n",
    "        reponse_data.append(data)\n",
    "else:\n",
    "    gem = GeminiService(SYSTEM_PROMPT)\n",
    "    for i in input_data:\n",
    "        USER_PROMPT = str(i)\n",
    "        data = gem.generate_completion(USER_PROMPT)\n",
    "        reponse_data.append(data)\n",
    "        break\n",
    "\n",
    "    "
   ]
  },
  {
   "cell_type": "code",
   "execution_count": 15,
   "metadata": {},
   "outputs": [],
   "source": [
    "now = datetime.now().strftime(\"%Y-%m-%d-%H-%M-%S\")\n",
    "service = \"openai\" if openai else 'gemini'\n",
    "\n",
    "with open(f'response/{service}-response-{now}.json', 'w') as fp:\n",
    "    json.dump(reponse_data, fp, ensure_ascii=False)\n"
   ]
  },
  {
   "cell_type": "code",
   "execution_count": 16,
   "metadata": {},
   "outputs": [
    {
     "name": "stdout",
     "output_type": "stream",
     "text": [
      "{'statement': 'Which of the following statements is/are true about the Gram Sabha? 1. All people living in a village or a group of villages are members of the Gram Sabha. 2. All the plans for work of Gram Panchayat have to be approved by Gram Sabha. 3. For better implementation of some specific tasks, Gram Sabha form committees. 4. The elected Secretary of the Gram Sabha calls the meeting and keeps a record of the proceedings. (A) 2 and 3 (B) 1, 3 and 4 (C) 2, 3 and 4 (D) 1,2,3,4', 'hint': \"Only adult villagers who have the right to vote can be member of Gram Sabha. Persons below 18 years of age can't become members. Gram Sabha plays a supervisory and monitoring role over Gram Panchayat by approving it plan of work. Gram Sabha form committees like construction, animal husbandry, etc to carry out some specific tasks. The Gram Panchayat has a Secretary who is also the Secretary of the Gram Sabha. This person is not an elected person but is appointed by the government. The Secretary is responsible for calling the meeting of the Gram Sabha and Gram Panchayat and keeping a record of the proceedings.\"}\n"
     ]
    },
    {
     "ename": "IndexError",
     "evalue": "list index out of range",
     "output_type": "error",
     "traceback": [
      "\u001b[0;31m---------------------------------------------------------------------------\u001b[0m",
      "\u001b[0;31mIndexError\u001b[0m                                Traceback (most recent call last)",
      "Cell \u001b[0;32mIn[16], line 2\u001b[0m\n\u001b[1;32m      1\u001b[0m \u001b[38;5;28mprint\u001b[39m(input_data[\u001b[38;5;241m1\u001b[39m])\n\u001b[0;32m----> 2\u001b[0m \u001b[38;5;28mprint\u001b[39m(\u001b[43mreponse_data\u001b[49m\u001b[43m[\u001b[49m\u001b[38;5;241;43m1\u001b[39;49m\u001b[43m]\u001b[49m)\n",
      "\u001b[0;31mIndexError\u001b[0m: list index out of range"
     ]
    }
   ],
   "source": [
    "print(input_data[1])\n",
    "print(reponse_data[1])"
   ]
  },
  {
   "cell_type": "code",
   "execution_count": null,
   "metadata": {},
   "outputs": [],
   "source": [
    "example_data = []\n",
    "filename = 'example_stripped' if clean else 'example_not_stripped'\n",
    "service = \"openai\" if openai else 'gemini'\n",
    "now = datetime.now().strftime(\"%Y-%m-%d-%H-%M-%S\")\n",
    "\n",
    "for x,y in zip(input_data,reponse_data):\n",
    "    example_data.append([x,y])\n",
    "\n",
    "with open(f'example/{service}-{filename}-{now}.json', 'w') as fp:\n",
    "    json.dump(example_data, fp, ensure_ascii=False)\n"
   ]
  },
  {
   "cell_type": "code",
   "execution_count": null,
   "metadata": {},
   "outputs": [],
   "source": []
  }
 ],
 "metadata": {
  "kernelspec": {
   "display_name": ".venv",
   "language": "python",
   "name": "python3"
  },
  "language_info": {
   "codemirror_mode": {
    "name": "ipython",
    "version": 3
   },
   "file_extension": ".py",
   "mimetype": "text/x-python",
   "name": "python",
   "nbconvert_exporter": "python",
   "pygments_lexer": "ipython3",
   "version": "3.10.12"
  }
 },
 "nbformat": 4,
 "nbformat_minor": 2
}
